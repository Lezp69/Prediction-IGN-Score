{
 "cells": [
  {
   "cell_type": "code",
   "execution_count": 1,
   "id": "3b68b114",
   "metadata": {},
   "outputs": [],
   "source": [
    "import scrapy\n",
    "from bs4 import BeautifulSoup\n",
    "import requests\n",
    "import lxml"
   ]
  },
  {
   "cell_type": "code",
   "execution_count": 2,
   "id": "d3fbe408",
   "metadata": {},
   "outputs": [],
   "source": [
    "url = 'https://www.ign.com/reviews/movies'\n",
    "\n",
    "headers = {'User-Agent': 'Mozilla/5.0 (Windows NT 10.0; Win64; x64) AppleWebKit/537.36 (KHTML, like Gecko) Chrome/58.0.3029.110 Safari/537.3'}\n",
    "\n",
    "html_text = requests.get(url, headers=headers).text"
   ]
  },
  {
   "cell_type": "code",
   "execution_count": 3,
   "id": "ca59390a",
   "metadata": {},
   "outputs": [],
   "source": [
    "soup = BeautifulSoup(html_text, 'lxml')\n",
    "main = soup.find('main', {\"id\": 'main-content'})\n",
    "sections = main.section"
   ]
  },
  {
   "cell_type": "code",
   "execution_count": 4,
   "id": "ada2e0bc",
   "metadata": {
    "scrolled": true
   },
   "outputs": [
    {
     "name": "stdout",
     "output_type": "stream",
     "text": [
      "<section class=\"grid jsx-949309242\"><section class=\"box-wrapper jsx-537794787 grid-heading\"><div class=\"jsx-651505178 filter-heading page-content\"><h2 class=\"title1 jsx-4293198083 filter-title\">Movie Reviews</h2></div><div class=\"jsx-1423006382 page-content\"><div aria-label=\"Filters\" class=\"jsx-3963919147 jsx-4243969252 tab-filter-bar jsx-3933161798\" data-cy=\"filter-bar\" role=\"tablist\"><a aria-selected=\"false\" class=\"tab-filter jsx-3710415076\" href=\"/reviews\" id=\"all\" role=\"tab\" tabindex=\"-1\"><div class=\"interface jsx-153568585 bold small\">All</div></a><a aria-selected=\"false\" class=\"tab-filter jsx-3710415076\" href=\"/reviews/games\" id=\"games\" role=\"tab\" tabindex=\"-1\"><div class=\"interface jsx-153568585 bold small\">Games</div></a><a aria-selected=\"true\" class=\"tab-filter jsx-3710415076 active\" href=\"/reviews/movies\" id=\"movies\" role=\"tab\" tabindex=\"0\"><div class=\"interface jsx-153568585 bold small\">Movies</div></a><a aria-selected=\"false\" class=\"tab-filter jsx-3710415076\" href=\"/reviews/tv\" id=\"tv\" role=\"tab\" tabindex=\"-1\"><div class=\"interface jsx-153568585 bold small\">TV</div></a><a aria-selected=\"false\" class=\"tab-filter jsx-3710415076\" href=\"/reviews/comics\" id=\"comics\" role=\"tab\" tabindex=\"-1\"><div class=\"interface jsx-153568585 bold small\">Comics</div></a><a aria-selected=\"false\" class=\"tab-filter jsx-3710415076\" href=\"/reviews/tech\" id=\"tech\" role=\"tab\" tabindex=\"-1\"><div class=\"interface jsx-153568585 bold small\">Tech</div></a></div></div><div class=\"jsx-609084212 page-content options\"><div class=\"stack jsx-4148277892 review-filter-options\"><div class=\"stack jsx-1945591031\"><label class=\"interface jsx-153568585 toggle-label jsx-2914501929 left-justified checked toggle\" for=\"reviewScores\" id=\"reviewScores-label\"><input checked=\"\" id=\"reviewScores\" name=\"reviewScores\" type=\"checkbox\" value=\"true\"/><span class=\"label\">Review Scores</span><div class=\"left-justified toggle-wrapper\"><div class=\"toggle-indicator\"></div></div></label><label class=\"interface jsx-153568585 toggle-label jsx-2914501929 left-justified toggle\" for=\"editorsChoice\" id=\"editorsChoice-label\"><input id=\"editorsChoice\" name=\"editorsChoice\" type=\"checkbox\" value=\"false\"/><span class=\"label\">Editors’ Choice</span><div class=\"left-justified toggle-wrapper\"><div class=\"toggle-indicator\"></div></div></label></div><div class=\"stack jsx-1945591031\"><select aria-label=\"Sort\" class=\"jsx-3494031924 select\" id=\"sortBy\" name=\"sortBy\"><option class=\"jsx-3926553431\" selected=\"\" value=\"Latest\">Sort by Latest</option><option class=\"jsx-3926553431\" value=\"Oldest\">Sort by Oldest</option><option class=\"jsx-3926553431\" value=\"ScoreDescending\">Sort by Score</option><option class=\"jsx-3926553431\" value=\"Title\">Sort by Title</option></select><select aria-label=\"Score Range\" class=\"jsx-3494031924 select\" id=\"scoreRange\" name=\"scoreRange\"><option class=\"jsx-3926553431\">All Scores</option><option class=\"jsx-3926553431\" value=\"10,10\">10</option><option class=\"jsx-3926553431\" value=\"9.0,9.9\">9.0 - 9.9</option><option class=\"jsx-3926553431\" value=\"8.0,8.9\">8.0 - 8.9</option><option class=\"jsx-3926553431\" value=\"7.0,7.9\">7.0 - 7.9</option><option class=\"jsx-3926553431\" value=\"6.0,6.9\">6.0 - 6.9</option><option class=\"jsx-3926553431\" value=\"5.0,5.9\">5.0 - 5.9</option><option class=\"jsx-3926553431\" value=\"4.0,4.9\">4.0 - 4.9</option><option class=\"jsx-3926553431\" value=\"3.0,3.9\">3.0 - 3.9</option><option class=\"jsx-3926553431\" value=\"2.0,2.9\">2.0 - 2.9</option><option class=\"jsx-3926553431\" value=\"1.0,1.9\">1.0 - 1.9</option><option class=\"jsx-3926553431\" value=\"0.0,0.9\">0.0 - 0.9</option></select><select aria-label=\"Genre\" class=\"jsx-3494031924 select\" id=\"genre\" name=\"genre\"><option class=\"jsx-3926553431\">All Genres</option><option class=\"jsx-3926553431\" value=\"action\">Action</option><option class=\"jsx-3926553431\" value=\"adventure\">Adventure</option><option class=\"jsx-3926553431\" value=\"animation\">Animation</option><option class=\"jsx-3926553431\" value=\"anime\">Anime</option><option class=\"jsx-3926553431\" value=\"comedy\">Comedy</option><option class=\"jsx-3926553431\" value=\"crime\">Crime</option><option class=\"jsx-3926553431\" value=\"cult\">Cult</option><option class=\"jsx-3926553431\" value=\"documentary\">Documentary</option><option class=\"jsx-3926553431\" value=\"drama\">Drama</option><option class=\"jsx-3926553431\" value=\"family\">Family</option><option class=\"jsx-3926553431\" value=\"fantasy\">Fantasy</option><option class=\"jsx-3926553431\" value=\"film-noir\">Film Noir</option><option class=\"jsx-3926553431\" value=\"hong-kong\">Hong Kong</option><option class=\"jsx-3926553431\" value=\"horror\">Horror</option><option class=\"jsx-3926553431\" value=\"music-video\">Music Video</option><option class=\"jsx-3926553431\" value=\"musical\">Musical</option><option class=\"jsx-3926553431\" value=\"mystery\">Mystery</option><option class=\"jsx-3926553431\" value=\"other\">Other</option><option class=\"jsx-3926553431\" value=\"romance\">Romance</option><option class=\"jsx-3926553431\" value=\"sci-fi\">Sci Fi</option><option class=\"jsx-3926553431\" value=\"sports\">Sports</option><option class=\"jsx-3926553431\" value=\"superhero\">Super Hero</option><option class=\"jsx-3926553431\" value=\"thriller\">Thriller</option><option class=\"jsx-3926553431\" value=\"war\">War</option><option class=\"jsx-3926553431\" value=\"western\">Western</option></select></div></div></div></section><section class=\"box-wrapper jsx-537794787 grid-break\"></section><div class=\"content-feed-grid-wrapper group-0 even\"><section class=\"content-feed-grid group-0 page-content even\" data-cy=\"page-0\"><section class=\"main-content\"><div class=\"content-item jsx-1409608325 row divider\" data-id=\"2d310583-2345-442f-8987-31aca7b2f6d5\"><a aria-label=\"The Killer: David Fincher Thriller Review\" class=\"item-body\" href=\"/articles/the-killer-review-david-fincher-michael-fassbender-netflix\"><div class=\"item-thumbnail\"><span><img alt=\"The Killer: David Fincher Thriller Review\" class=\"jsx-2920405963 progressive-image jsx-1049729975 item-image aspect-ratio aspect-ratio-16-9 jsx-3398679358 hover-opacity\" decoding=\"async\" src=\"https://assets-prd.ignimgs.com/2023/09/03/thekiller-blogroll-1693767924419.jpg?crop=16%3A9&amp;width=282\" srcset=\"https://assets-prd.ignimgs.com/2023/09/03/thekiller-blogroll-1693767924419.jpg?crop=16%3A9&amp;width=282 1x, https://assets-prd.ignimgs.com/2023/09/03/thekiller-blogroll-1693767924419.jpg?crop=16%3A9&amp;width=282&amp;dpr=2 2x\"/><figure class=\"review-score hexagon-wrapper jsx-468196757 medium\"><div class=\"hexagon\"><span class=\"hexagon-content-wrapper\"><figcaption>7</figcaption></span></div></figure></span></div><div class=\"stack jsx-1197884630 item-details\"><div class=\"caption jsx-3011539465 item-publish-date small\">3h ago</div><span class=\"interface jsx-777404155 item-title bold\">The Killer: David Fincher Thriller Review</span><div class=\"interface jsx-153568585 jsx-957202555 item-subtitle small\">3h ago<!-- --> - <!-- -->David Fincher’s latest exploration of violence is a calculated, restrained, and exciting return to form</div><div class=\"stack jsx-2043432607 item-more-data\"><object class=\"caption jsx-3011539465 data small\" title=\"Related Content Link\"><a class=\"caption jsx-3011539465 data small\" href=\"/movies/the-killer-netflix\">The Killer</a></object><object class=\"caption jsx-3011539465 data small\" title=\"Author Link\"><a class=\"caption jsx-3011539465 data small\" href=\"/person/nikonamerica\">Lex Briscuso</a></object><div class=\"caption jsx-2211226727 comment-count data small\">130</div></div></div></a></div><div class=\"content-item jsx-1409608325 row divider\" data-id=\"79ec8f97-6b0a-4c49-bccd-e1802b7043ff\"><a aria-label=\"Five Nights at Freddy's Movie Review\" class=\"item-body\" href=\"/articles/five-nights-at-freddys-review\"><div class=\"item-thumbnail\"><span><img alt=\"Five Nights at Freddy's Movie Review\" class=\"jsx-2920405963 progressive-image jsx-1049729975 item-image aspect-ratio aspect-ratio-16-9 jsx-3398679358 hover-opacity\" decoding=\"async\" src=\"https://assets-prd.ignimgs.com/2023/10/26/fivenightsatfreddys-review-blogroll-1698309593553.jpg?crop=16%3A9&amp;width=282\" srcset=\"https://assets-prd.ignimgs.com/2023/10/26/fivenightsatfreddys-review-blogroll-1698309593553.jpg?crop=16%3A9&amp;width=282 1x, https://assets-prd.ignimgs.com/2023/10/26/fivenightsatfreddys-review-blogroll-1698309593553.jpg?crop=16%3A9&amp;width=282&amp;dpr=2 2x\"/><figure class=\"review-score hexagon-wrapper jsx-468196757 medium\"><div class=\"hexagon\"><span class=\"hexagon-content-wrapper\"><figcaption>4</figcaption></span></div></figure></span></div><div class=\"stack jsx-1197884630 item-details\"><div class=\"caption jsx-3011539465 item-publish-date small\">14h ago</div><span class=\"interface jsx-777404155 item-title bold\">Five Nights at Freddy's Movie Review</span><div class=\"interface jsx-153568585 jsx-957202555 item-subtitle small\">14h ago<!-- --> - <!-- -->Slam the door on this animatronic monstrosity.</div><div class=\"stack jsx-2043432607 item-more-data\"><object class=\"caption jsx-3011539465 data small\" title=\"Related Content Link\"><a class=\"caption jsx-3011539465 data small\" href=\"/movies/five-nights-at-freddys\">Five Nights at Freddy's</a></object><object class=\"caption jsx-3011539465 data small\" title=\"Author Link\"><a class=\"caption jsx-3011539465 data small\" href=\"/person/AADowd\">A.A. Dowd</a></object><div class=\"caption jsx-2211226727 comment-count data small\">175</div></div></div></a></div><div class=\"content-item jsx-1409608325 row divider\" data-id=\"db772800-f043-41e6-99aa-deaf5eed0df3\"><a aria-label=\"Freelance Review\" class=\"item-body\" href=\"/articles/freelance-review-john-cena-alison-brie\"><div class=\"item-thumbnail\"><span><img alt=\"Freelance Review\" class=\"jsx-2920405963 progressive-image jsx-1049729975 item-image aspect-ratio aspect-ratio-16-9 jsx-3398679358 hover-opacity\" decoding=\"async\" src=\"https://assets-prd.ignimgs.com/2023/08/23/freelance-thumb223-1692820432063.jpg?crop=16%3A9&amp;width=282\" srcset=\"https://assets-prd.ignimgs.com/2023/08/23/freelance-thumb223-1692820432063.jpg?crop=16%3A9&amp;width=282 1x, https://assets-prd.ignimgs.com/2023/08/23/freelance-thumb223-1692820432063.jpg?crop=16%3A9&amp;width=282&amp;dpr=2 2x\"/><figure class=\"review-score hexagon-wrapper jsx-468196757 medium\"><div class=\"hexagon\"><span class=\"hexagon-content-wrapper\"><figcaption>4</figcaption></span></div></figure></span></div><div class=\"stack jsx-1197884630 item-details\"><div class=\"caption jsx-3011539465 item-publish-date small\">15h ago</div><span class=\"interface jsx-777404155 item-title bold\">Freelance Review</span><div class=\"interface jsx-153568585 jsx-957202555 item-subtitle small\">15h ago<!-- --> - <!-- -->Unfortunately, you can see this new John Cena movie.</div><div class=\"stack jsx-2043432607 item-more-data\"><object class=\"caption jsx-3011539465 data small\" title=\"Related Content Link\"><a class=\"caption jsx-3011539465 data small\" href=\"/movies/freelance\">Freelance</a></object><object class=\"caption jsx-3011539465 data small\" title=\"Author Link\"><a class=\"caption jsx-3011539465 data small\" href=\"/person/Donatobomb\">Matt Donato</a></object><div class=\"caption jsx-2211226727 comment-count data small\">20</div></div></div></a></div><div class=\"content-item jsx-1409608325 row divider\" data-id=\"e4a2b906-78fc-4883-8939-8c3348c12bf4\"><a aria-label=\"Cobweb (Geomijip) Review\" class=\"item-body\" href=\"/articles/cobweb-geomijip-review-song-kang-ho-kim-jee-woon\"><div class=\"item-thumbnail\"><span><img alt=\"Cobweb (Geomijip) Review\" class=\"jsx-2920405963 progressive-image jsx-1049729975 item-image aspect-ratio aspect-ratio-16-9 jsx-3398679358 hover-opacity\" decoding=\"async\" src=\"https://assets-prd.ignimgs.com/2023/10/25/collage-maker-25-oct-2023-10-30-am-1332-1698248370482.jpg?crop=16%3A9&amp;width=282\" srcset=\"https://assets-prd.ignimgs.com/2023/10/25/collage-maker-25-oct-2023-10-30-am-1332-1698248370482.jpg?crop=16%3A9&amp;width=282 1x, https://assets-prd.ignimgs.com/2023/10/25/collage-maker-25-oct-2023-10-30-am-1332-1698248370482.jpg?crop=16%3A9&amp;width=282&amp;dpr=2 2x\"/><figure class=\"review-score hexagon-wrapper jsx-468196757 medium\"><div class=\"hexagon\"><span class=\"hexagon-content-wrapper\"><figcaption>6</figcaption></span></div></figure></span></div><div class=\"stack jsx-1197884630 item-details\"><div class=\"caption jsx-3011539465 item-publish-date small\">1d ago</div><span class=\"interface jsx-777404155 item-title bold\">Cobweb (Geomijip) Review</span><div class=\"interface jsx-153568585 jsx-957202555 item-subtitle small\">1d ago<!-- --> - <!-- -->Writer-director Kim Jee-woon delivers style over substance  </div><div class=\"stack jsx-2043432607 item-more-data\"><object class=\"caption jsx-3011539465 data small\" title=\"Related Content Link\"><a class=\"caption jsx-3011539465 data small\" href=\"/movies/cobweb-geomijip\">Cobweb (Geomijip)</a></object><object class=\"caption jsx-3011539465 data small\" title=\"Author Link\"><a class=\"caption jsx-3011539465 data small\" href=\"/person/MartinCarr1\">Martin Carr</a></object></div></div></a></div><div class=\"content-item jsx-1409608325 row divider\" data-id=\"9f2cefd8-6866-4b57-af70-abf0776b5df2\"><a aria-label=\"The End We Start From Review\" class=\"item-body\" href=\"/articles/the-end-we-start-from-review-jodie-comer\"><div class=\"item-thumbnail\"><span><img alt=\"The End We Start From Review\" class=\"jsx-2920405963 progressive-image jsx-1049729975 item-image aspect-ratio aspect-ratio-16-9 jsx-3398679358 hover-opacity\" decoding=\"async\" src=\"https://assets-prd.ignimgs.com/2023/10/24/the-end-we-start-from-blogroll-1698178525908.jpg?crop=16%3A9&amp;width=282\" srcset=\"https://assets-prd.ignimgs.com/2023/10/24/the-end-we-start-from-blogroll-1698178525908.jpg?crop=16%3A9&amp;width=282 1x, https://assets-prd.ignimgs.com/2023/10/24/the-end-we-start-from-blogroll-1698178525908.jpg?crop=16%3A9&amp;width=282&amp;dpr=2 2x\"/><figure class=\"review-score hexagon-wrapper jsx-468196757 medium\"><div class=\"hexagon\"><span class=\"hexagon-content-wrapper\"><figcaption>4</figcaption></span></div></figure></span></div><div class=\"stack jsx-1197884630 item-details\"><div class=\"caption jsx-3011539465 item-publish-date small\">2d ago</div><span class=\"interface jsx-777404155 item-title bold\">The End We Start From Review</span><div class=\"interface jsx-153568585 jsx-957202555 item-subtitle small\">2d ago<!-- --> - <!-- -->A mother and daughter escape flooded London in a muted post-apocalyptic drama</div><div class=\"stack jsx-2043432607 item-more-data\"><object class=\"caption jsx-3011539465 data small\" title=\"Related Content Link\"><a class=\"caption jsx-3011539465 data small\" href=\"/movies/the-end-we-start-from\">The End We Start From</a></object><object class=\"caption jsx-3011539465 data small\" title=\"Author Link\"><a class=\"caption jsx-3011539465 data small\" href=\"/person/rafiews\">Rafa Sales Ross</a></object><div class=\"caption jsx-2211226727 comment-count data small\">3</div></div></div></a></div><div class=\"content-item jsx-1409608325 row divider\" data-id=\"2bcb90cd-21e4-41fd-b633-0130938b40a7\"><a aria-label=\"Late Night with the Devil Review\" class=\"item-body\" href=\"/articles/late-night-with-the-devil-review-david-dastmalchian\"><div class=\"item-thumbnail\"><span><img alt=\"Late Night with the Devil Review\" class=\"jsx-2920405963 progressive-image jsx-1049729975 item-image aspect-ratio aspect-ratio-16-9 jsx-3398679358 hover-opacity\" decoding=\"async\" src=\"https://assets-prd.ignimgs.com/2023/10/23/late-night-with-the-devil-blogroll-1698089615873.jpg?crop=16%3A9&amp;width=282\" srcset=\"https://assets-prd.ignimgs.com/2023/10/23/late-night-with-the-devil-blogroll-1698089615873.jpg?crop=16%3A9&amp;width=282 1x, https://assets-prd.ignimgs.com/2023/10/23/late-night-with-the-devil-blogroll-1698089615873.jpg?crop=16%3A9&amp;width=282&amp;dpr=2 2x\"/><figure class=\"review-score hexagon-wrapper jsx-468196757 medium\"><div class=\"hexagon\"><span class=\"hexagon-content-wrapper\"><figcaption>6</figcaption></span></div></figure></span></div><div class=\"stack jsx-1197884630 item-details\"><div class=\"caption jsx-3011539465 item-publish-date small\">3d ago</div><span class=\"interface jsx-777404155 item-title bold\">Late Night with the Devil Review</span><div class=\"interface jsx-153568585 jsx-957202555 item-subtitle small\">3d ago<!-- --> - <!-- -->David Dastmalchian lifts up a middling demon possession schlockumentary</div><div class=\"stack jsx-2043432607 item-more-data\"><object class=\"caption jsx-3011539465 data small\" title=\"Related Content Link\"><a class=\"caption jsx-3011539465 data small\" href=\"/movies/late-night-with-the-devil\">Late Night with the Devil</a></object><object class=\"caption jsx-3011539465 data small\" title=\"Author Link\"><a class=\"caption jsx-3011539465 data small\" href=\"/person/jarrodwjones\">Jarrod Jones</a></object><div class=\"caption jsx-2211226727 comment-count data small\">17</div></div></div></a></div><div class=\"content-item jsx-1409608325 row divider\" data-id=\"c63af49b-a5f9-4d17-b663-59a81b746df6\"><a aria-label=\"Sky Peals Review\" class=\"item-body\" href=\"/articles/sky-peals-review\"><div class=\"item-thumbnail\"><span><img alt=\"Sky Peals Review\" class=\"jsx-2920405963 progressive-image jsx-1049729975 item-image aspect-ratio aspect-ratio-16-9 jsx-3398679358 hover-opacity\" decoding=\"async\" src=\"https://assets-prd.ignimgs.com/2023/10/20/collage-maker-20-oct-2023-04-42-pm-2216-1697838302699.jpg?crop=16%3A9&amp;width=282\" srcset=\"https://assets-prd.ignimgs.com/2023/10/20/collage-maker-20-oct-2023-04-42-pm-2216-1697838302699.jpg?crop=16%3A9&amp;width=282 1x, https://assets-prd.ignimgs.com/2023/10/20/collage-maker-20-oct-2023-04-42-pm-2216-1697838302699.jpg?crop=16%3A9&amp;width=282&amp;dpr=2 2x\"/><figure class=\"review-score hexagon-wrapper jsx-468196757 medium\"><div class=\"hexagon\"><span class=\"hexagon-content-wrapper\"><figcaption>8</figcaption></span></div></figure></span></div><div class=\"stack jsx-1197884630 item-details\"><div class=\"caption jsx-3011539465 item-publish-date small\">5d ago</div><span class=\"interface jsx-777404155 item-title bold\">Sky Peals Review</span><div class=\"interface jsx-153568585 jsx-957202555 item-subtitle small\">5d ago<!-- --> - <!-- -->A service station worker struggles with the death of his estranged father in this magical-realist debut feature</div><div class=\"stack jsx-2043432607 item-more-data\"><object class=\"caption jsx-3011539465 data small\" title=\"Related Content Link\"><a class=\"caption jsx-3011539465 data small\" href=\"/movies/sky-peals\">Sky Peals</a></object><object class=\"caption jsx-3011539465 data small\" title=\"Author Link\"><a class=\"caption jsx-3011539465 data small\" href=\"/person/rafiews\">Rafa Sales Ross</a></object><div class=\"caption jsx-2211226727 comment-count data small\">10</div></div></div></a></div><div class=\"content-item jsx-1409608325 row divider\" data-id=\"2f271003-4e3e-4300-bfc1-7f78bc48e336\"><a aria-label=\"Chicken Run: Dawn of the Nugget Review\" class=\"item-body\" href=\"/articles/chicken-run-dawn-of-the-nugget-review-netflix\"><div class=\"item-thumbnail\"><span><img alt=\"Chicken Run: Dawn of the Nugget Review\" class=\"jsx-2920405963 progressive-image jsx-1049729975 item-image aspect-ratio aspect-ratio-16-9 jsx-3398679358 hover-opacity\" decoding=\"async\" src=\"https://assets-prd.ignimgs.com/2023/10/20/chicken-run-blogroll-1697836185646.jpg?crop=16%3A9&amp;width=282\" srcset=\"https://assets-prd.ignimgs.com/2023/10/20/chicken-run-blogroll-1697836185646.jpg?crop=16%3A9&amp;width=282 1x, https://assets-prd.ignimgs.com/2023/10/20/chicken-run-blogroll-1697836185646.jpg?crop=16%3A9&amp;width=282&amp;dpr=2 2x\"/><figure class=\"review-score hexagon-wrapper jsx-468196757 medium\"><div class=\"hexagon\"><span class=\"hexagon-content-wrapper\"><figcaption>6</figcaption></span></div></figure></span></div><div class=\"stack jsx-1197884630 item-details\"><div class=\"caption jsx-3011539465 item-publish-date small\">5d ago</div><span class=\"interface jsx-777404155 item-title bold\">Chicken Run: Dawn of the Nugget Review</span><div class=\"interface jsx-153568585 jsx-957202555 item-subtitle small\">5d ago<!-- --> - <!-- -->Bargain Buckets are never the best idea</div><div class=\"stack jsx-2043432607 item-more-data\"><object class=\"caption jsx-3011539465 data small\" title=\"Related Content Link\"><a class=\"caption jsx-3011539465 data small\" href=\"/movies/chicken-run-dawn-of-the-nugget\">Chicken Run: Dawn of the Nugget</a></object><object class=\"caption jsx-3011539465 data small\" title=\"Author Link\"><a class=\"caption jsx-3011539465 data small\" href=\"/person/MartinCarr1\">Martin Carr</a></object><div class=\"caption jsx-2211226727 comment-count data small\">73</div></div></div></a></div><div class=\"content-item jsx-1409608325 row divider\" data-id=\"3e95f7bb-e342-4512-bf83-bceec64440f4\"><a aria-label=\"The Kitchen Review\" class=\"item-body\" href=\"/articles/the-kitchen-review-daniel-kaluuya-netflix\"><div class=\"item-thumbnail\"><span><img alt=\"The Kitchen Review\" class=\"jsx-2920405963 progressive-image jsx-1049729975 item-image aspect-ratio aspect-ratio-16-9 jsx-3398679358 hover-opacity\" decoding=\"async\" src=\"https://assets-prd.ignimgs.com/2023/10/20/the-kitchen-blogroll-1697832343900.jpg?crop=16%3A9&amp;width=282\" srcset=\"https://assets-prd.ignimgs.com/2023/10/20/the-kitchen-blogroll-1697832343900.jpg?crop=16%3A9&amp;width=282 1x, https://assets-prd.ignimgs.com/2023/10/20/the-kitchen-blogroll-1697832343900.jpg?crop=16%3A9&amp;width=282&amp;dpr=2 2x\"/><figure class=\"review-score hexagon-wrapper jsx-468196757 medium\"><div class=\"hexagon\"><span class=\"hexagon-content-wrapper\"><figcaption>8</figcaption></span></div></figure></span></div><div class=\"stack jsx-1197884630 item-details\"><div class=\"caption jsx-3011539465 item-publish-date small\">6d ago</div><span class=\"interface jsx-777404155 item-title bold\">The Kitchen Review</span><div class=\"interface jsx-153568585 jsx-957202555 item-subtitle small\">6d ago<!-- --> - <!-- -->Daniel Kaluuya and Kibwe Tavares create a terrifyingly plausible dystopian London</div><div class=\"stack jsx-2043432607 item-more-data\"><object class=\"caption jsx-3011539465 data small\" title=\"Related Content Link\"><a class=\"caption jsx-3011539465 data small\" href=\"/movies/the-kitchen-2023\">The Kitchen</a></object><object class=\"caption jsx-3011539465 data small\" title=\"Author Link\"><a class=\"caption jsx-3011539465 data small\" href=\"/person/Leila_Latif\">Leila Latif</a></object><div class=\"caption jsx-2211226727 comment-count data small\">32</div></div></div></a></div><div class=\"content-item jsx-1409608325 row divider\" data-id=\"bbf1f147-2fad-4ca6-b8ab-0cacb47c054a\"><a aria-label=\"Malibu Horror Story Review\" class=\"item-body\" href=\"/articles/malibu-horror-story-review\"><div class=\"item-thumbnail\"><span><img alt=\"Malibu Horror Story Review\" class=\"jsx-2920405963 progressive-image jsx-1049729975 item-image aspect-ratio aspect-ratio-16-9 jsx-3398679358 hover-opacity\" decoding=\"async\" src=\"https://assets-prd.ignimgs.com/2023/10/20/collage-maker-20-oct-2023-02-16-pm-5480-1697829778154.jpg?crop=16%3A9&amp;width=282\" srcset=\"https://assets-prd.ignimgs.com/2023/10/20/collage-maker-20-oct-2023-02-16-pm-5480-1697829778154.jpg?crop=16%3A9&amp;width=282 1x, https://assets-prd.ignimgs.com/2023/10/20/collage-maker-20-oct-2023-02-16-pm-5480-1697829778154.jpg?crop=16%3A9&amp;width=282&amp;dpr=2 2x\"/><figure class=\"review-score hexagon-wrapper jsx-468196757 medium\"><div class=\"hexagon\"><span class=\"hexagon-content-wrapper\"><figcaption>6</figcaption></span></div></figure></span></div><div class=\"stack jsx-1197884630 item-details\"><div class=\"caption jsx-3011539465 item-publish-date small\">6d ago</div><span class=\"interface jsx-777404155 item-title bold\">Malibu Horror Story Review</span><div class=\"interface jsx-153568585 jsx-957202555 item-subtitle small\">6d ago<!-- --> - <!-- -->The movie California’s hiking commission doesn’t want you to see</div><div class=\"stack jsx-2043432607 item-more-data\"><object class=\"caption jsx-3011539465 data small\" title=\"Related Content Link\"><a class=\"caption jsx-3011539465 data small\" href=\"/movies/malibu-horror-story\">Malibu Horror Story</a></object><object class=\"caption jsx-3011539465 data small\" title=\"Author Link\"><a class=\"caption jsx-3011539465 data small\" href=\"/person/Donatobomb\">Matt Donato</a></object><div class=\"caption jsx-2211226727 comment-count data small\">8</div></div></div></a></div></section><section class=\"right-rail\"><div class=\"jsx-3890157964 wrapper\"><div class=\"jsx-303009029 adunit-wrapper\"><div class=\"jsx-303009029 bobble bobble-0 pogocnt pg-index\"><div class=\"jsx-343126785 pogo-slot\" data-mix-name=\"smallAd\" data-pogo-hide=\"1\" data-pos=\"0\"></div></div></div><div class=\"stack jsx-2101331117\"><h3 class=\"title3 jsx-115949532\">Popular Platforms</h3></div><div class=\"jsx-4207328966 divider\"></div><div class=\"stack jsx-844896408\"><a class=\"interface jsx-153568585 muted\" href=\"/reviews/games/3ds\">3DS</a><a class=\"interface jsx-153568585 muted\" href=\"/reviews/games/iphone\">iPhone</a><a class=\"interface jsx-153568585 muted\" href=\"/reviews/games/mac\">Mac</a><a class=\"interface jsx-153568585 muted\" href=\"/reviews/games/nintendo-switch\">Nintendo Switch</a><a class=\"interface jsx-153568585 muted\" href=\"/reviews/games/pc\">PC</a><a class=\"interface jsx-153568585 muted\" href=\"/reviews/games/ps4\">PS4</a><a class=\"interface jsx-153568585 muted\" href=\"/reviews/games/ps5\">PS5</a><a class=\"interface jsx-153568585 muted\" href=\"/reviews/games/wii-u\">Wii U</a><a class=\"interface jsx-153568585 muted\" href=\"/reviews/games/xbox-one\">Xbox One</a><a class=\"interface jsx-153568585 muted\" href=\"/reviews/games/xbox-4\">Xbox Series X</a></div></div></section></section></div><section class=\"box-wrapper jsx-537794787 grid-break\"></section></section>\n"
     ]
    }
   ],
   "source": [
    "print(sections)"
   ]
  },
  {
   "cell_type": "code",
   "execution_count": 11,
   "id": "8703d199",
   "metadata": {},
   "outputs": [],
   "source": [
    "figcaption_elements = soup.findAll('figcaption')\n",
    "\n",
    "figcaption_values = []\n",
    "for figcaption_element in figcaption_elements:\n",
    "    figcaption_value = figcaption_element.text\n",
    "    figcaption_values.append(figcaption_value)"
   ]
  },
  {
   "cell_type": "code",
   "execution_count": 9,
   "id": "65aa11e2",
   "metadata": {},
   "outputs": [
    {
     "data": {
      "text/plain": [
       "['4', '7', '4', '4', '6', '4', '6', '8', '6', '8', '6']"
      ]
     },
     "execution_count": 9,
     "metadata": {},
     "output_type": "execute_result"
    }
   ],
   "source": [
    "figcaption_values"
   ]
  },
  {
   "cell_type": "code",
   "execution_count": 14,
   "id": "dc55867b",
   "metadata": {},
   "outputs": [],
   "source": [
    "review_links = soup.find_all('a', class_='item-body')\n",
    "\n",
    "hrefs = []\n",
    "for review_link in review_links:\n",
    "    href = review_link.get('href')\n",
    "    hrefs.append(href)"
   ]
  },
  {
   "cell_type": "code",
   "execution_count": 15,
   "id": "e569b698",
   "metadata": {},
   "outputs": [
    {
     "data": {
      "text/plain": [
       "['/articles/the-killer-review-david-fincher-michael-fassbender-netflix',\n",
       " '/articles/five-nights-at-freddys-review',\n",
       " '/articles/freelance-review-john-cena-alison-brie',\n",
       " '/articles/cobweb-geomijip-review-song-kang-ho-kim-jee-woon',\n",
       " '/articles/the-end-we-start-from-review-jodie-comer',\n",
       " '/articles/late-night-with-the-devil-review-david-dastmalchian',\n",
       " '/articles/sky-peals-review',\n",
       " '/articles/chicken-run-dawn-of-the-nugget-review-netflix',\n",
       " '/articles/the-kitchen-review-daniel-kaluuya-netflix',\n",
       " '/articles/malibu-horror-story-review']"
      ]
     },
     "execution_count": 15,
     "metadata": {},
     "output_type": "execute_result"
    }
   ],
   "source": [
    "hrefs"
   ]
  },
  {
   "cell_type": "code",
   "execution_count": null,
   "id": "92034e82",
   "metadata": {},
   "outputs": [],
   "source": [
    "oip"
   ]
  }
 ],
 "metadata": {
  "kernelspec": {
   "display_name": "Python 3 (ipykernel)",
   "language": "python",
   "name": "python3"
  },
  "language_info": {
   "codemirror_mode": {
    "name": "ipython",
    "version": 3
   },
   "file_extension": ".py",
   "mimetype": "text/x-python",
   "name": "python",
   "nbconvert_exporter": "python",
   "pygments_lexer": "ipython3",
   "version": "3.9.7"
  }
 },
 "nbformat": 4,
 "nbformat_minor": 5
}
