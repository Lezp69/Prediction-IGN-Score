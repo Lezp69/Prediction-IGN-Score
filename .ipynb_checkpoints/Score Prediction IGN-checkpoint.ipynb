{
 "cells": [
  {
   "cell_type": "code",
   "execution_count": 1,
   "id": "3b68b114",
   "metadata": {},
   "outputs": [
    {
     "name": "stderr",
     "output_type": "stream",
     "text": [
      "[nltk_data] Downloading package stopwords to\n",
      "[nltk_data]     C:\\Users\\luisz\\AppData\\Roaming\\nltk_data...\n",
      "[nltk_data]   Package stopwords is already up-to-date!\n",
      "[nltk_data] Downloading package wordnet to\n",
      "[nltk_data]     C:\\Users\\luisz\\AppData\\Roaming\\nltk_data...\n",
      "[nltk_data]   Package wordnet is already up-to-date!\n",
      "[nltk_data] Downloading package punkt to\n",
      "[nltk_data]     C:\\Users\\luisz\\AppData\\Roaming\\nltk_data...\n",
      "[nltk_data]   Package punkt is already up-to-date!\n",
      "[nltk_data] Downloading package averaged_perceptron_tagger to\n",
      "[nltk_data]     C:\\Users\\luisz\\AppData\\Roaming\\nltk_data...\n",
      "[nltk_data]   Package averaged_perceptron_tagger is already up-to-\n",
      "[nltk_data]       date!\n"
     ]
    },
    {
     "data": {
      "text/plain": [
       "True"
      ]
     },
     "execution_count": 1,
     "metadata": {},
     "output_type": "execute_result"
    }
   ],
   "source": [
    "from bs4 import BeautifulSoup\n",
    "from urllib.parse import urljoin\n",
    "import requests\n",
    "import lxml\n",
    "import webbrowser\n",
    "import pandas as pd\n",
    "import numpy as np\n",
    "import re\n",
    "import string\n",
    "import gensim\n",
    "from sklearn.svm import SVR\n",
    "from sklearn.ensemble import RandomForestRegressor\n",
    "from sklearn.pipeline import Pipeline\n",
    "from sklearn.model_selection import train_test_split, GridSearchCV\n",
    "from sklearn.feature_extraction.text import CountVectorizer, TfidfVectorizer, TfidfTransformer\n",
    "from sklearn.metrics import accuracy_score, confusion_matrix, mean_squared_error, r2_score, classification_report\n",
    "from sklearn.naive_bayes import MultinomialNB\n",
    "from sklearn.linear_model import SGDClassifier\n",
    "from gensim.models import Word2Vec\n",
    "import nltk\n",
    "from nltk.corpus import stopwords\n",
    "from nltk.tag import pos_tag\n",
    "nltk.download('stopwords')\n",
    "nltk.download('wordnet')\n",
    "nltk.download('punkt')\n",
    "nltk.download('averaged_perceptron_tagger')\n"
   ]
  },
  {
   "cell_type": "code",
   "execution_count": 2,
   "id": "d3fbe408",
   "metadata": {},
   "outputs": [],
   "source": [
    "url = 'https://www.ign.com/reviews/movies'\n",
    "\n",
    "headers = {'User-Agent': 'Mozilla/5.0 (Windows NT 10.0; Win64; x64) AppleWebKit/537.36 (KHTML, like Gecko) Chrome/58.0.3029.110 Safari/537.3'}\n",
    "\n",
    "html_text = requests.get(url, headers=headers).text"
   ]
  },
  {
   "cell_type": "code",
   "execution_count": 3,
   "id": "ca59390a",
   "metadata": {},
   "outputs": [],
   "source": [
    "soup = BeautifulSoup(html_text, 'lxml')\n",
    "main = soup.find('main', {\"id\": 'main-content'})\n",
    "sections = main.section"
   ]
  },
  {
   "cell_type": "code",
   "execution_count": 4,
   "id": "8703d199",
   "metadata": {},
   "outputs": [],
   "source": [
    "figcaption_elements = soup.findAll('figcaption')\n",
    "\n",
    "figcaption_values = []\n",
    "for figcaption_element in figcaption_elements:\n",
    "    figcaption_value = figcaption_element.text\n",
    "    figcaption_values.append(figcaption_value)"
   ]
  },
  {
   "cell_type": "code",
   "execution_count": 5,
   "id": "244cc2b0",
   "metadata": {},
   "outputs": [
    {
     "data": {
      "text/plain": [
       "['8', '6', '7', '8', '7', '7', '4', '4', '6', '4', '6']"
      ]
     },
     "execution_count": 5,
     "metadata": {},
     "output_type": "execute_result"
    }
   ],
   "source": [
    "figcaption_values"
   ]
  },
  {
   "cell_type": "code",
   "execution_count": 6,
   "id": "738a21b8",
   "metadata": {},
   "outputs": [],
   "source": [
    "review_links = soup.find_all('a', class_='item-body')\n",
    "\n",
    "hrefs = []\n",
    "for review_link in review_links:\n",
    "    href = review_link.get('href')\n",
    "    hrefs.append(href)"
   ]
  },
  {
   "cell_type": "code",
   "execution_count": 7,
   "id": "633fad77",
   "metadata": {},
   "outputs": [
    {
     "data": {
      "text/plain": [
       "['/articles/its-a-wonderful-knife-review',\n",
       " '/articles/the-hunger-games-the-ballad-of-songbirds-and-snakes-review',\n",
       " '/articles/the-marvels-review-brie-larson-samuel-l-jackson-mcu',\n",
       " '/articles/divinity-review-bella-thorne-eddie-alcazar',\n",
       " '/articles/the-killer-review-david-fincher-michael-fassbender-netflix',\n",
       " '/articles/five-nights-at-freddys-review',\n",
       " '/articles/freelance-review-john-cena-alison-brie',\n",
       " '/articles/cobweb-geomijip-review-song-kang-ho-kim-jee-woon',\n",
       " '/articles/the-end-we-start-from-review-jodie-comer',\n",
       " '/articles/late-night-with-the-devil-review-david-dastmalchian']"
      ]
     },
     "execution_count": 7,
     "metadata": {},
     "output_type": "execute_result"
    }
   ],
   "source": [
    "hrefs"
   ]
  },
  {
   "cell_type": "code",
   "execution_count": 8,
   "id": "faaa3679",
   "metadata": {
    "scrolled": false
   },
   "outputs": [],
   "source": [
    "base_url = 'https://www.ign.com'\n",
    "data_from_urls = []\n",
    "\n",
    "for href, score in zip(hrefs, figcaption_values):\n",
    "    full_url = urljoin(base_url, href)\n",
    "    response = requests.get(full_url, headers=headers)\n",
    "    html_text = response.text\n",
    "    soup = BeautifulSoup(html_text, 'lxml')\n",
    "    page_title = soup.title.text\n",
    "    paragraphs = soup.find_all('p', class_='jsx-3649800006')\n",
    "\n",
    "    for paragraph in paragraphs:\n",
    "        data_from_urls.append({'Title': page_title, 'Score': score, 'Paragraph': paragraph.text})\n"
   ]
  },
  {
   "cell_type": "code",
   "execution_count": 9,
   "id": "53ebd94e",
   "metadata": {},
   "outputs": [],
   "source": [
    "df = pd.DataFrame(data_from_urls)"
   ]
  },
  {
   "cell_type": "code",
   "execution_count": 10,
   "id": "49b4f641",
   "metadata": {},
   "outputs": [
    {
     "data": {
      "text/html": [
       "<div>\n",
       "<style scoped>\n",
       "    .dataframe tbody tr th:only-of-type {\n",
       "        vertical-align: middle;\n",
       "    }\n",
       "\n",
       "    .dataframe tbody tr th {\n",
       "        vertical-align: top;\n",
       "    }\n",
       "\n",
       "    .dataframe thead th {\n",
       "        text-align: right;\n",
       "    }\n",
       "</style>\n",
       "<table border=\"1\" class=\"dataframe\">\n",
       "  <thead>\n",
       "    <tr style=\"text-align: right;\">\n",
       "      <th></th>\n",
       "      <th>Title</th>\n",
       "      <th>Score</th>\n",
       "      <th>Paragraph</th>\n",
       "    </tr>\n",
       "  </thead>\n",
       "  <tbody>\n",
       "    <tr>\n",
       "      <th>0</th>\n",
       "      <td>It's a Wonderful Knife Review - IGN</td>\n",
       "      <td>8</td>\n",
       "      <td>It’s a Wonderful Knife is an excellent title f...</td>\n",
       "    </tr>\n",
       "    <tr>\n",
       "      <th>1</th>\n",
       "      <td>It's a Wonderful Knife Review - IGN</td>\n",
       "      <td>8</td>\n",
       "      <td>The opening sequence glows with the warm incan...</td>\n",
       "    </tr>\n",
       "    <tr>\n",
       "      <th>2</th>\n",
       "      <td>It's a Wonderful Knife Review - IGN</td>\n",
       "      <td>8</td>\n",
       "      <td>Fifteen minutes in, a title card appears on sc...</td>\n",
       "    </tr>\n",
       "    <tr>\n",
       "      <th>3</th>\n",
       "      <td>It's a Wonderful Knife Review - IGN</td>\n",
       "      <td>8</td>\n",
       "      <td>When she returns home, she finds that The Ange...</td>\n",
       "    </tr>\n",
       "    <tr>\n",
       "      <th>4</th>\n",
       "      <td>It's a Wonderful Knife Review - IGN</td>\n",
       "      <td>8</td>\n",
       "      <td>Screenwriter Michael Kennedy isn’t  beholden t...</td>\n",
       "    </tr>\n",
       "  </tbody>\n",
       "</table>\n",
       "</div>"
      ],
      "text/plain": [
       "                                 Title Score  \\\n",
       "0  It's a Wonderful Knife Review - IGN     8   \n",
       "1  It's a Wonderful Knife Review - IGN     8   \n",
       "2  It's a Wonderful Knife Review - IGN     8   \n",
       "3  It's a Wonderful Knife Review - IGN     8   \n",
       "4  It's a Wonderful Knife Review - IGN     8   \n",
       "\n",
       "                                           Paragraph  \n",
       "0  It’s a Wonderful Knife is an excellent title f...  \n",
       "1  The opening sequence glows with the warm incan...  \n",
       "2  Fifteen minutes in, a title card appears on sc...  \n",
       "3  When she returns home, she finds that The Ange...  \n",
       "4  Screenwriter Michael Kennedy isn’t  beholden t...  "
      ]
     },
     "execution_count": 10,
     "metadata": {},
     "output_type": "execute_result"
    }
   ],
   "source": [
    "df.head()"
   ]
  },
  {
   "cell_type": "code",
   "execution_count": 11,
   "id": "9c84cc52",
   "metadata": {},
   "outputs": [
    {
     "data": {
      "text/html": [
       "<div>\n",
       "<style scoped>\n",
       "    .dataframe tbody tr th:only-of-type {\n",
       "        vertical-align: middle;\n",
       "    }\n",
       "\n",
       "    .dataframe tbody tr th {\n",
       "        vertical-align: top;\n",
       "    }\n",
       "\n",
       "    .dataframe thead th {\n",
       "        text-align: right;\n",
       "    }\n",
       "</style>\n",
       "<table border=\"1\" class=\"dataframe\">\n",
       "  <thead>\n",
       "    <tr style=\"text-align: right;\">\n",
       "      <th></th>\n",
       "      <th>Title</th>\n",
       "      <th>Score</th>\n",
       "      <th>Paragraph</th>\n",
       "    </tr>\n",
       "  </thead>\n",
       "  <tbody>\n",
       "  </tbody>\n",
       "</table>\n",
       "</div>"
      ],
      "text/plain": [
       "Empty DataFrame\n",
       "Columns: [Title, Score, Paragraph]\n",
       "Index: []"
      ]
     },
     "execution_count": 11,
     "metadata": {},
     "output_type": "execute_result"
    }
   ],
   "source": [
    "df[df['Paragraph']==' ']"
   ]
  },
  {
   "cell_type": "code",
   "execution_count": 12,
   "id": "c8c001fd",
   "metadata": {},
   "outputs": [],
   "source": [
    "df.replace(' ', np.nan, inplace=True)"
   ]
  },
  {
   "cell_type": "code",
   "execution_count": 13,
   "id": "93c8f35f",
   "metadata": {},
   "outputs": [],
   "source": [
    "df.dropna(subset=['Paragraph'], inplace=True)"
   ]
  },
  {
   "cell_type": "code",
   "execution_count": 14,
   "id": "bae96bfa",
   "metadata": {},
   "outputs": [],
   "source": [
    "def preprocess_text(text):\n",
    "    text = text.lower()\n",
    "    \n",
    "    text = re.sub(r'\\d+', '', text)\n",
    "    text = re.sub(r'[^\\w\\s]', '', text)\n",
    "    \n",
    "    tokens = nltk.word_tokenize(text)\n",
    "    \n",
    "    return tokens"
   ]
  },
  {
   "cell_type": "code",
   "execution_count": 15,
   "id": "36f63fc5",
   "metadata": {},
   "outputs": [],
   "source": [
    "def remove_stopWords(tokens):\n",
    "    stopWords = set(stopwords.words('english'))\n",
    "    filtered_tokens = [words for words in tokens if words not in stopWords]\n",
    "    return filtered_tokens"
   ]
  },
  {
   "cell_type": "code",
   "execution_count": 16,
   "id": "85198a50",
   "metadata": {},
   "outputs": [],
   "source": [
    "def lemmatization(tokens):\n",
    "    lemmatizer = nltk.WordNetLemmatizer()\n",
    "    lemmatized_tokens = [lemmatizer.lemmatize(token) for token in tokens]\n",
    "    return lemmatized_tokens"
   ]
  },
  {
   "cell_type": "code",
   "execution_count": 17,
   "id": "a3f1e5ca",
   "metadata": {},
   "outputs": [],
   "source": [
    "def remove_proper_names(tokens):\n",
    "    tagged_tokens = pos_tag(tokens)\n",
    "    filtered_tokens = [token[0] for token in tagged_tokens if token[1] != 'NNP']\n",
    "    return filtered_tokens"
   ]
  },
  {
   "cell_type": "code",
   "execution_count": 18,
   "id": "068085b9",
   "metadata": {},
   "outputs": [],
   "source": [
    "def clean_text(text):\n",
    "    tokens = preprocess_text(text)\n",
    "    filtered_tokens = remove_stopWords(tokens)\n",
    "    lemmatization_tokens = lemmatization(filtered_tokens)\n",
    "    non_proper_name_tokens = remove_proper_names(filtered_tokens)\n",
    "    clean_text = ' '.join(non_proper_name_tokens)\n",
    "    return clean_text"
   ]
  },
  {
   "cell_type": "code",
   "execution_count": 19,
   "id": "bb9219d2",
   "metadata": {},
   "outputs": [],
   "source": [
    "df['cleaned_Paragraph'] = df['Paragraph'].apply(clean_text)"
   ]
  },
  {
   "cell_type": "code",
   "execution_count": 20,
   "id": "87a2c7e3",
   "metadata": {
    "scrolled": true
   },
   "outputs": [
    {
     "data": {
      "text/html": [
       "<div>\n",
       "<style scoped>\n",
       "    .dataframe tbody tr th:only-of-type {\n",
       "        vertical-align: middle;\n",
       "    }\n",
       "\n",
       "    .dataframe tbody tr th {\n",
       "        vertical-align: top;\n",
       "    }\n",
       "\n",
       "    .dataframe thead th {\n",
       "        text-align: right;\n",
       "    }\n",
       "</style>\n",
       "<table border=\"1\" class=\"dataframe\">\n",
       "  <thead>\n",
       "    <tr style=\"text-align: right;\">\n",
       "      <th></th>\n",
       "      <th>Title</th>\n",
       "      <th>Score</th>\n",
       "      <th>Paragraph</th>\n",
       "      <th>cleaned_Paragraph</th>\n",
       "    </tr>\n",
       "  </thead>\n",
       "  <tbody>\n",
       "    <tr>\n",
       "      <th>0</th>\n",
       "      <td>It's a Wonderful Knife Review - IGN</td>\n",
       "      <td>8</td>\n",
       "      <td>It’s a Wonderful Knife is an excellent title f...</td>\n",
       "      <td>wonderful knife excellent title christmas slas...</td>\n",
       "    </tr>\n",
       "    <tr>\n",
       "      <th>1</th>\n",
       "      <td>It's a Wonderful Knife Review - IGN</td>\n",
       "      <td>8</td>\n",
       "      <td>The opening sequence glows with the warm incan...</td>\n",
       "      <td>opening sequence glows warm incandescent light...</td>\n",
       "    </tr>\n",
       "    <tr>\n",
       "      <th>2</th>\n",
       "      <td>It's a Wonderful Knife Review - IGN</td>\n",
       "      <td>8</td>\n",
       "      <td>Fifteen minutes in, a title card appears on sc...</td>\n",
       "      <td>fifteen minutes title card appears screen real...</td>\n",
       "    </tr>\n",
       "    <tr>\n",
       "      <th>3</th>\n",
       "      <td>It's a Wonderful Knife Review - IGN</td>\n",
       "      <td>8</td>\n",
       "      <td>When she returns home, she finds that The Ange...</td>\n",
       "      <td>returns home finds angel caught previous chris...</td>\n",
       "    </tr>\n",
       "    <tr>\n",
       "      <th>4</th>\n",
       "      <td>It's a Wonderful Knife Review - IGN</td>\n",
       "      <td>8</td>\n",
       "      <td>Screenwriter Michael Kennedy isn’t  beholden t...</td>\n",
       "      <td>screenwriter michael kennedy isnt beholden hol...</td>\n",
       "    </tr>\n",
       "  </tbody>\n",
       "</table>\n",
       "</div>"
      ],
      "text/plain": [
       "                                 Title Score  \\\n",
       "0  It's a Wonderful Knife Review - IGN     8   \n",
       "1  It's a Wonderful Knife Review - IGN     8   \n",
       "2  It's a Wonderful Knife Review - IGN     8   \n",
       "3  It's a Wonderful Knife Review - IGN     8   \n",
       "4  It's a Wonderful Knife Review - IGN     8   \n",
       "\n",
       "                                           Paragraph  \\\n",
       "0  It’s a Wonderful Knife is an excellent title f...   \n",
       "1  The opening sequence glows with the warm incan...   \n",
       "2  Fifteen minutes in, a title card appears on sc...   \n",
       "3  When she returns home, she finds that The Ange...   \n",
       "4  Screenwriter Michael Kennedy isn’t  beholden t...   \n",
       "\n",
       "                                   cleaned_Paragraph  \n",
       "0  wonderful knife excellent title christmas slas...  \n",
       "1  opening sequence glows warm incandescent light...  \n",
       "2  fifteen minutes title card appears screen real...  \n",
       "3  returns home finds angel caught previous chris...  \n",
       "4  screenwriter michael kennedy isnt beholden hol...  "
      ]
     },
     "execution_count": 20,
     "metadata": {},
     "output_type": "execute_result"
    }
   ],
   "source": [
    "df.head()"
   ]
  },
  {
   "cell_type": "code",
   "execution_count": 21,
   "id": "5ed7a8a5",
   "metadata": {},
   "outputs": [],
   "source": [
    "del df['Paragraph']"
   ]
  },
  {
   "cell_type": "code",
   "execution_count": 22,
   "id": "0ba50217",
   "metadata": {},
   "outputs": [
    {
     "data": {
      "text/html": [
       "<div>\n",
       "<style scoped>\n",
       "    .dataframe tbody tr th:only-of-type {\n",
       "        vertical-align: middle;\n",
       "    }\n",
       "\n",
       "    .dataframe tbody tr th {\n",
       "        vertical-align: top;\n",
       "    }\n",
       "\n",
       "    .dataframe thead th {\n",
       "        text-align: right;\n",
       "    }\n",
       "</style>\n",
       "<table border=\"1\" class=\"dataframe\">\n",
       "  <thead>\n",
       "    <tr style=\"text-align: right;\">\n",
       "      <th></th>\n",
       "      <th>Title</th>\n",
       "      <th>Score</th>\n",
       "      <th>cleaned_Paragraph</th>\n",
       "    </tr>\n",
       "  </thead>\n",
       "  <tbody>\n",
       "    <tr>\n",
       "      <th>0</th>\n",
       "      <td>It's a Wonderful Knife Review - IGN</td>\n",
       "      <td>8</td>\n",
       "      <td>wonderful knife excellent title christmas slas...</td>\n",
       "    </tr>\n",
       "    <tr>\n",
       "      <th>1</th>\n",
       "      <td>It's a Wonderful Knife Review - IGN</td>\n",
       "      <td>8</td>\n",
       "      <td>opening sequence glows warm incandescent light...</td>\n",
       "    </tr>\n",
       "    <tr>\n",
       "      <th>2</th>\n",
       "      <td>It's a Wonderful Knife Review - IGN</td>\n",
       "      <td>8</td>\n",
       "      <td>fifteen minutes title card appears screen real...</td>\n",
       "    </tr>\n",
       "    <tr>\n",
       "      <th>3</th>\n",
       "      <td>It's a Wonderful Knife Review - IGN</td>\n",
       "      <td>8</td>\n",
       "      <td>returns home finds angel caught previous chris...</td>\n",
       "    </tr>\n",
       "    <tr>\n",
       "      <th>4</th>\n",
       "      <td>It's a Wonderful Knife Review - IGN</td>\n",
       "      <td>8</td>\n",
       "      <td>screenwriter michael kennedy isnt beholden hol...</td>\n",
       "    </tr>\n",
       "  </tbody>\n",
       "</table>\n",
       "</div>"
      ],
      "text/plain": [
       "                                 Title Score  \\\n",
       "0  It's a Wonderful Knife Review - IGN     8   \n",
       "1  It's a Wonderful Knife Review - IGN     8   \n",
       "2  It's a Wonderful Knife Review - IGN     8   \n",
       "3  It's a Wonderful Knife Review - IGN     8   \n",
       "4  It's a Wonderful Knife Review - IGN     8   \n",
       "\n",
       "                                   cleaned_Paragraph  \n",
       "0  wonderful knife excellent title christmas slas...  \n",
       "1  opening sequence glows warm incandescent light...  \n",
       "2  fifteen minutes title card appears screen real...  \n",
       "3  returns home finds angel caught previous chris...  \n",
       "4  screenwriter michael kennedy isnt beholden hol...  "
      ]
     },
     "execution_count": 22,
     "metadata": {},
     "output_type": "execute_result"
    }
   ],
   "source": [
    "df.head()"
   ]
  },
  {
   "cell_type": "code",
   "execution_count": 23,
   "id": "6bc786e0",
   "metadata": {},
   "outputs": [
    {
     "name": "stdout",
     "output_type": "stream",
     "text": [
      "Worst reviews: \n",
      "Title\n",
      "Cobweb (Geomijip) Review - IGN            4\n",
      "Freelance Review - IGN                    4\n",
      "Late Night with the Devil Review - IGN    4\n",
      "Name: Score, dtype: object\n",
      "\n",
      "Best reviews: \n",
      "Title\n",
      "Divinity Review - IGN                   8\n",
      "It's a Wonderful Knife Review - IGN     8\n",
      "Five Nights at Freddy's Review - IGN    7\n",
      "Name: Score, dtype: object\n"
     ]
    }
   ],
   "source": [
    "print(f'Worst reviews: \\n{df.groupby(\"Title\")[\"Score\"].max().sort_values().head(3)}')\n",
    "print()\n",
    "print(f'Best reviews: \\n{df.groupby(\"Title\")[\"Score\"].max().sort_values(ascending=False).head(3)}')\n"
   ]
  },
  {
   "cell_type": "markdown",
   "id": "31b714f0",
   "metadata": {},
   "source": [
    "# Try Models"
   ]
  },
  {
   "cell_type": "code",
   "execution_count": 24,
   "id": "256d3b11",
   "metadata": {},
   "outputs": [],
   "source": [
    "X = df['cleaned_Paragraph']\n",
    "y = df['Score']\n",
    "\n",
    "# Split the data into training and testing sets\n",
    "X_train, X_test, y_train, y_test = train_test_split(X, y, test_size=0.3, random_state=42)\n",
    "\n",
    "# Convert text data to TF-IDF features\n",
    "tfidf_vectorizer = TfidfVectorizer()\n",
    "X_train_tfidf = tfidf_vectorizer.fit_transform(X_train)\n",
    "X_test_tfidf = tfidf_vectorizer.transform(X_test)\n"
   ]
  },
  {
   "cell_type": "markdown",
   "id": "221e2133",
   "metadata": {},
   "source": [
    "### Support Vector Regression"
   ]
  },
  {
   "cell_type": "code",
   "execution_count": 25,
   "id": "eb4b94e1",
   "metadata": {},
   "outputs": [
    {
     "name": "stdout",
     "output_type": "stream",
     "text": [
      "Mean Squared Error: 1.6956521739130435\n",
      "R-squared: 0.2267241379310344\n"
     ]
    }
   ],
   "source": [
    "sv_model = SVR(kernel='linear')  # There are many different kernels like 'linear', 'rbf', etc.\n",
    "\n",
    "# Train the model\n",
    "sv_model.fit(X_train_tfidf, y_train)\n",
    "\n",
    "# Predict on the test set\n",
    "y_pred_sv = sv_model.predict(X_test_tfidf)\n",
    "\n",
    "#IGN Scores are Integers\n",
    "y_pred_sv = np.around(y_pred_sv,0)\n",
    "\n",
    "# Evaluate the model\n",
    "mse = mean_squared_error(y_test, y_pred_sv)\n",
    "r_squared = r2_score(y_test, y_pred_sv)\n",
    "\n",
    "print(f'Mean Squared Error: {mse}')\n",
    "print(f'R-squared: {r_squared}')"
   ]
  },
  {
   "cell_type": "code",
   "execution_count": 26,
   "id": "705d4b18",
   "metadata": {
    "scrolled": false
   },
   "outputs": [
    {
     "name": "stdout",
     "output_type": "stream",
     "text": [
      "[7. 6. 6. 7. 6. 6. 6. 6. 6. 6. 6. 6. 7. 6. 6. 7. 6. 7. 7. 6. 6. 6. 7.]\n",
      "['8' '7' '6' '8' '7' '4' '6' '4' '4' '8' '4' '4' '7' '6' '4' '7' '6' '8'\n",
      " '7' '7' '8' '7' '7']\n"
     ]
    }
   ],
   "source": [
    "print(y_pred_sv)\n",
    "print(np.array(y_test))"
   ]
  },
  {
   "cell_type": "markdown",
   "id": "606a1200",
   "metadata": {},
   "source": [
    "### Random Forest"
   ]
  },
  {
   "cell_type": "code",
   "execution_count": 27,
   "id": "003b0472",
   "metadata": {},
   "outputs": [
    {
     "name": "stdout",
     "output_type": "stream",
     "text": [
      "Mean Squared Error (Random Forest): 1.571517527436379\n",
      "R-squared (Random Forest): 0.2833338172294443\n"
     ]
    }
   ],
   "source": [
    "rf_model = RandomForestRegressor(n_estimators=150, random_state=42, max_depth=10)\n",
    "\n",
    "# Train the model\n",
    "rf_model.fit(X_train_tfidf, y_train)\n",
    "\n",
    "# Predict on the test set\n",
    "y_pred_rf = rf_model.predict(X_test_tfidf)\n",
    "\n",
    "#IGN Scores are Integers\n",
    "y_pred_sv = np.around(y_pred_rf,0)\n",
    "\n",
    "# Evaluate the model\n",
    "mse_rf = mean_squared_error(y_test, y_pred_rf)\n",
    "r_squared_rf = r2_score(y_test, y_pred_rf)\n",
    "\n",
    "print(f'Mean Squared Error (Random Forest): {mse_rf}')\n",
    "print(f'R-squared (Random Forest): {r_squared_rf}')"
   ]
  },
  {
   "cell_type": "code",
   "execution_count": 28,
   "id": "5b837404",
   "metadata": {},
   "outputs": [
    {
     "name": "stdout",
     "output_type": "stream",
     "text": [
      "[7. 7. 7. 7. 7. 7. 6. 7. 5. 7. 4. 4. 7. 7. 6. 7. 7. 7. 7. 6. 6. 6. 7.]\n",
      "['8' '7' '6' '8' '7' '4' '6' '4' '4' '8' '4' '4' '7' '6' '4' '7' '6' '8'\n",
      " '7' '7' '8' '7' '7']\n"
     ]
    }
   ],
   "source": [
    "print(np.around(y_pred_rf,0))\n",
    "print(np.array(y_test))"
   ]
  },
  {
   "cell_type": "markdown",
   "id": "fa44faba",
   "metadata": {},
   "source": [
    "## Grid Searches"
   ]
  },
  {
   "cell_type": "markdown",
   "id": "890aae1b",
   "metadata": {},
   "source": [
    "### SVR"
   ]
  },
  {
   "cell_type": "code",
   "execution_count": 29,
   "id": "8fe62980",
   "metadata": {},
   "outputs": [
    {
     "name": "stdout",
     "output_type": "stream",
     "text": [
      "Best parameters for SVM: {'C': 10, 'gamma': 'scale', 'kernel': 'linear'}\n",
      "Mean Squared Error (SVM): 1.3513823254582094\n",
      "R-squared (SVM): 0.3837230602005235\n"
     ]
    }
   ],
   "source": [
    "# Define the parameter grid for SVR\n",
    "svr_param_grid = {'C': [0.1, 1, 10],\n",
    "                  'kernel': ['linear', 'rbf', 'poly'],\n",
    "                  'gamma': ['scale', 'auto']}\n",
    "\n",
    "# Create the SVR model\n",
    "svr_model = SVR()\n",
    "\n",
    "# Create GridSearchCV for SVR\n",
    "svr_grid_search = GridSearchCV(svr_model, svr_param_grid, cv=5, scoring='neg_mean_squared_error')\n",
    "svr_grid_search.fit(X_train_tfidf, y_train)\n",
    "\n",
    "# Get the best parameters and model\n",
    "best_svr_params = svr_grid_search.best_params_\n",
    "best_svr_model = svr_grid_search.best_estimator_\n",
    "\n",
    "# Predict on the test set\n",
    "y_pred_svr = best_svr_model.predict(X_test_tfidf)\n",
    "\n",
    "# Evaluate the model\n",
    "mse_svr = mean_squared_error(y_test, y_pred_svr)\n",
    "r_squared_svr = r2_score(y_test, y_pred_svr)\n",
    "\n",
    "print(\"Best parameters for SVM:\", best_svr_params)\n",
    "print(f'Mean Squared Error (SVM): {mse_svr}')\n",
    "print(f'R-squared (SVM): {r_squared_svr}')\n"
   ]
  },
  {
   "cell_type": "markdown",
   "id": "257613ba",
   "metadata": {},
   "source": [
    "### Random Forest"
   ]
  },
  {
   "cell_type": "code",
   "execution_count": 30,
   "id": "d9ea7d19",
   "metadata": {},
   "outputs": [
    {
     "name": "stdout",
     "output_type": "stream",
     "text": [
      "Best parameters for Random Forest: {'max_depth': None, 'min_samples_leaf': 1, 'min_samples_split': 2, 'n_estimators': 100}\n",
      "Mean Squared Error (Random Forest): 1.5773304347826085\n",
      "R-squared (Random Forest): 0.2806829310344827\n"
     ]
    }
   ],
   "source": [
    "# Define the parameter grid for Random Forest\n",
    "rf_param_grid = {'n_estimators': [50, 100, 150],\n",
    "                 'max_depth': [None, 10, 20, 30],\n",
    "                 'min_samples_split': [2, 5, 10],\n",
    "                 'min_samples_leaf': [1, 2, 4]}\n",
    "\n",
    "# Create the Random Forest model\n",
    "rf_model = RandomForestRegressor(random_state=42)\n",
    "\n",
    "# Create GridSearchCV for Random Forest\n",
    "rf_grid_search = GridSearchCV(rf_model, rf_param_grid, cv=5, scoring='neg_mean_squared_error')\n",
    "rf_grid_search.fit(X_train_tfidf, y_train)\n",
    "\n",
    "# Get the best parameters and model\n",
    "best_rf_params = rf_grid_search.best_params_\n",
    "best_rf_model = rf_grid_search.best_estimator_\n",
    "\n",
    "# Predict on the test set\n",
    "y_pred_rf_gs = best_rf_model.predict(X_test_tfidf)\n",
    "\n",
    "# Evaluate the model\n",
    "mse_rf_gs = mean_squared_error(y_test, y_pred_rf_gs)\n",
    "r_squared_rf_gs = r2_score(y_test, y_pred_rf_gs)\n",
    "\n",
    "print(\"Best parameters for Random Forest:\", best_rf_params)\n",
    "print(f'Mean Squared Error (Random Forest): {mse_rf_gs}')\n",
    "print(f'R-squared (Random Forest): {r_squared_rf_gs}')\n"
   ]
  },
  {
   "cell_type": "markdown",
   "id": "d569361e",
   "metadata": {},
   "source": [
    "## Pipelines"
   ]
  },
  {
   "cell_type": "markdown",
   "id": "1d22ada9",
   "metadata": {},
   "source": [
    "### Naive Bayes"
   ]
  },
  {
   "cell_type": "code",
   "execution_count": 31,
   "id": "b81ca466",
   "metadata": {},
   "outputs": [
    {
     "data": {
      "text/html": [
       "<style>#sk-container-id-1 {color: black;}#sk-container-id-1 pre{padding: 0;}#sk-container-id-1 div.sk-toggleable {background-color: white;}#sk-container-id-1 label.sk-toggleable__label {cursor: pointer;display: block;width: 100%;margin-bottom: 0;padding: 0.3em;box-sizing: border-box;text-align: center;}#sk-container-id-1 label.sk-toggleable__label-arrow:before {content: \"▸\";float: left;margin-right: 0.25em;color: #696969;}#sk-container-id-1 label.sk-toggleable__label-arrow:hover:before {color: black;}#sk-container-id-1 div.sk-estimator:hover label.sk-toggleable__label-arrow:before {color: black;}#sk-container-id-1 div.sk-toggleable__content {max-height: 0;max-width: 0;overflow: hidden;text-align: left;background-color: #f0f8ff;}#sk-container-id-1 div.sk-toggleable__content pre {margin: 0.2em;color: black;border-radius: 0.25em;background-color: #f0f8ff;}#sk-container-id-1 input.sk-toggleable__control:checked~div.sk-toggleable__content {max-height: 200px;max-width: 100%;overflow: auto;}#sk-container-id-1 input.sk-toggleable__control:checked~label.sk-toggleable__label-arrow:before {content: \"▾\";}#sk-container-id-1 div.sk-estimator input.sk-toggleable__control:checked~label.sk-toggleable__label {background-color: #d4ebff;}#sk-container-id-1 div.sk-label input.sk-toggleable__control:checked~label.sk-toggleable__label {background-color: #d4ebff;}#sk-container-id-1 input.sk-hidden--visually {border: 0;clip: rect(1px 1px 1px 1px);clip: rect(1px, 1px, 1px, 1px);height: 1px;margin: -1px;overflow: hidden;padding: 0;position: absolute;width: 1px;}#sk-container-id-1 div.sk-estimator {font-family: monospace;background-color: #f0f8ff;border: 1px dotted black;border-radius: 0.25em;box-sizing: border-box;margin-bottom: 0.5em;}#sk-container-id-1 div.sk-estimator:hover {background-color: #d4ebff;}#sk-container-id-1 div.sk-parallel-item::after {content: \"\";width: 100%;border-bottom: 1px solid gray;flex-grow: 1;}#sk-container-id-1 div.sk-label:hover label.sk-toggleable__label {background-color: #d4ebff;}#sk-container-id-1 div.sk-serial::before {content: \"\";position: absolute;border-left: 1px solid gray;box-sizing: border-box;top: 0;bottom: 0;left: 50%;z-index: 0;}#sk-container-id-1 div.sk-serial {display: flex;flex-direction: column;align-items: center;background-color: white;padding-right: 0.2em;padding-left: 0.2em;position: relative;}#sk-container-id-1 div.sk-item {position: relative;z-index: 1;}#sk-container-id-1 div.sk-parallel {display: flex;align-items: stretch;justify-content: center;background-color: white;position: relative;}#sk-container-id-1 div.sk-item::before, #sk-container-id-1 div.sk-parallel-item::before {content: \"\";position: absolute;border-left: 1px solid gray;box-sizing: border-box;top: 0;bottom: 0;left: 50%;z-index: -1;}#sk-container-id-1 div.sk-parallel-item {display: flex;flex-direction: column;z-index: 1;position: relative;background-color: white;}#sk-container-id-1 div.sk-parallel-item:first-child::after {align-self: flex-end;width: 50%;}#sk-container-id-1 div.sk-parallel-item:last-child::after {align-self: flex-start;width: 50%;}#sk-container-id-1 div.sk-parallel-item:only-child::after {width: 0;}#sk-container-id-1 div.sk-dashed-wrapped {border: 1px dashed gray;margin: 0 0.4em 0.5em 0.4em;box-sizing: border-box;padding-bottom: 0.4em;background-color: white;}#sk-container-id-1 div.sk-label label {font-family: monospace;font-weight: bold;display: inline-block;line-height: 1.2em;}#sk-container-id-1 div.sk-label-container {text-align: center;}#sk-container-id-1 div.sk-container {/* jupyter's `normalize.less` sets `[hidden] { display: none; }` but bootstrap.min.css set `[hidden] { display: none !important; }` so we also need the `!important` here to be able to override the default hidden behavior on the sphinx rendered scikit-learn.org. See: https://github.com/scikit-learn/scikit-learn/issues/21755 */display: inline-block !important;position: relative;}#sk-container-id-1 div.sk-text-repr-fallback {display: none;}</style><div id=\"sk-container-id-1\" class=\"sk-top-container\"><div class=\"sk-text-repr-fallback\"><pre>Pipeline(steps=[(&#x27;vect&#x27;, CountVectorizer()), (&#x27;tfidf&#x27;, TfidfTransformer()),\n",
       "                (&#x27;clf&#x27;, MultinomialNB())])</pre><b>In a Jupyter environment, please rerun this cell to show the HTML representation or trust the notebook. <br />On GitHub, the HTML representation is unable to render, please try loading this page with nbviewer.org.</b></div><div class=\"sk-container\" hidden><div class=\"sk-item sk-dashed-wrapped\"><div class=\"sk-label-container\"><div class=\"sk-label sk-toggleable\"><input class=\"sk-toggleable__control sk-hidden--visually\" id=\"sk-estimator-id-1\" type=\"checkbox\" ><label for=\"sk-estimator-id-1\" class=\"sk-toggleable__label sk-toggleable__label-arrow\">Pipeline</label><div class=\"sk-toggleable__content\"><pre>Pipeline(steps=[(&#x27;vect&#x27;, CountVectorizer()), (&#x27;tfidf&#x27;, TfidfTransformer()),\n",
       "                (&#x27;clf&#x27;, MultinomialNB())])</pre></div></div></div><div class=\"sk-serial\"><div class=\"sk-item\"><div class=\"sk-estimator sk-toggleable\"><input class=\"sk-toggleable__control sk-hidden--visually\" id=\"sk-estimator-id-2\" type=\"checkbox\" ><label for=\"sk-estimator-id-2\" class=\"sk-toggleable__label sk-toggleable__label-arrow\">CountVectorizer</label><div class=\"sk-toggleable__content\"><pre>CountVectorizer()</pre></div></div></div><div class=\"sk-item\"><div class=\"sk-estimator sk-toggleable\"><input class=\"sk-toggleable__control sk-hidden--visually\" id=\"sk-estimator-id-3\" type=\"checkbox\" ><label for=\"sk-estimator-id-3\" class=\"sk-toggleable__label sk-toggleable__label-arrow\">TfidfTransformer</label><div class=\"sk-toggleable__content\"><pre>TfidfTransformer()</pre></div></div></div><div class=\"sk-item\"><div class=\"sk-estimator sk-toggleable\"><input class=\"sk-toggleable__control sk-hidden--visually\" id=\"sk-estimator-id-4\" type=\"checkbox\" ><label for=\"sk-estimator-id-4\" class=\"sk-toggleable__label sk-toggleable__label-arrow\">MultinomialNB</label><div class=\"sk-toggleable__content\"><pre>MultinomialNB()</pre></div></div></div></div></div></div></div>"
      ],
      "text/plain": [
       "Pipeline(steps=[('vect', CountVectorizer()), ('tfidf', TfidfTransformer()),\n",
       "                ('clf', MultinomialNB())])"
      ]
     },
     "execution_count": 31,
     "metadata": {},
     "output_type": "execute_result"
    }
   ],
   "source": [
    "nb = Pipeline([('vect', CountVectorizer()),\n",
    "               ('tfidf', TfidfTransformer()),\n",
    "               ('clf', MultinomialNB()),\n",
    "              ])\n",
    "nb.fit(X_train, y_train)"
   ]
  },
  {
   "cell_type": "code",
   "execution_count": 32,
   "id": "3055b144",
   "metadata": {},
   "outputs": [
    {
     "data": {
      "text/plain": [
       "array(['8', '6', '7', '4'], dtype=object)"
      ]
     },
     "execution_count": 32,
     "metadata": {},
     "output_type": "execute_result"
    }
   ],
   "source": [
    "df['Score'].unique()"
   ]
  },
  {
   "cell_type": "code",
   "execution_count": 33,
   "id": "616cde0c",
   "metadata": {
    "scrolled": false
   },
   "outputs": [
    {
     "name": "stdout",
     "output_type": "stream",
     "text": [
      "accuracy 0.6086956521739131\n",
      "              precision    recall  f1-score   support\n",
      "\n",
      "           8       0.86      1.00      0.92         6\n",
      "           6       0.00      0.00      0.00         4\n",
      "           7       0.50      1.00      0.67         8\n",
      "           4       0.00      0.00      0.00         5\n",
      "\n",
      "    accuracy                           0.61        23\n",
      "   macro avg       0.34      0.50      0.40        23\n",
      "weighted avg       0.40      0.61      0.47        23\n",
      "\n"
     ]
    },
    {
     "name": "stderr",
     "output_type": "stream",
     "text": [
      "C:\\Users\\luisz\\anaconda3\\lib\\site-packages\\sklearn\\metrics\\_classification.py:1469: UndefinedMetricWarning: Precision and F-score are ill-defined and being set to 0.0 in labels with no predicted samples. Use `zero_division` parameter to control this behavior.\n",
      "  _warn_prf(average, modifier, msg_start, len(result))\n",
      "C:\\Users\\luisz\\anaconda3\\lib\\site-packages\\sklearn\\metrics\\_classification.py:1469: UndefinedMetricWarning: Precision and F-score are ill-defined and being set to 0.0 in labels with no predicted samples. Use `zero_division` parameter to control this behavior.\n",
      "  _warn_prf(average, modifier, msg_start, len(result))\n",
      "C:\\Users\\luisz\\anaconda3\\lib\\site-packages\\sklearn\\metrics\\_classification.py:1469: UndefinedMetricWarning: Precision and F-score are ill-defined and being set to 0.0 in labels with no predicted samples. Use `zero_division` parameter to control this behavior.\n",
      "  _warn_prf(average, modifier, msg_start, len(result))\n"
     ]
    }
   ],
   "source": [
    "y_pred_nb = nb.predict(X_test)\n",
    "\n",
    "print('accuracy %s' % accuracy_score(y_pred_nb, y_test))\n",
    "print(classification_report(y_test, y_pred_nb,target_names= df['Score'].unique()))"
   ]
  },
  {
   "cell_type": "code",
   "execution_count": 34,
   "id": "e845e990",
   "metadata": {},
   "outputs": [
    {
     "name": "stdout",
     "output_type": "stream",
     "text": [
      "[7. 7. 7. 7. 7. 7. 6. 7. 5. 7. 4. 4. 7. 7. 6. 7. 7. 7. 7. 6. 6. 6. 7.]\n",
      "['8' '7' '6' '8' '7' '4' '6' '4' '4' '8' '4' '4' '7' '6' '4' '7' '6' '8'\n",
      " '7' '7' '8' '7' '7']\n"
     ]
    }
   ],
   "source": [
    "print(np.around(y_pred_rf,0))\n",
    "print(np.array(y_test))"
   ]
  },
  {
   "cell_type": "markdown",
   "id": "c1344082",
   "metadata": {},
   "source": [
    "### Linear Support Vector Machine"
   ]
  },
  {
   "cell_type": "code",
   "execution_count": 35,
   "id": "a74adf32",
   "metadata": {},
   "outputs": [
    {
     "data": {
      "text/html": [
       "<style>#sk-container-id-2 {color: black;}#sk-container-id-2 pre{padding: 0;}#sk-container-id-2 div.sk-toggleable {background-color: white;}#sk-container-id-2 label.sk-toggleable__label {cursor: pointer;display: block;width: 100%;margin-bottom: 0;padding: 0.3em;box-sizing: border-box;text-align: center;}#sk-container-id-2 label.sk-toggleable__label-arrow:before {content: \"▸\";float: left;margin-right: 0.25em;color: #696969;}#sk-container-id-2 label.sk-toggleable__label-arrow:hover:before {color: black;}#sk-container-id-2 div.sk-estimator:hover label.sk-toggleable__label-arrow:before {color: black;}#sk-container-id-2 div.sk-toggleable__content {max-height: 0;max-width: 0;overflow: hidden;text-align: left;background-color: #f0f8ff;}#sk-container-id-2 div.sk-toggleable__content pre {margin: 0.2em;color: black;border-radius: 0.25em;background-color: #f0f8ff;}#sk-container-id-2 input.sk-toggleable__control:checked~div.sk-toggleable__content {max-height: 200px;max-width: 100%;overflow: auto;}#sk-container-id-2 input.sk-toggleable__control:checked~label.sk-toggleable__label-arrow:before {content: \"▾\";}#sk-container-id-2 div.sk-estimator input.sk-toggleable__control:checked~label.sk-toggleable__label {background-color: #d4ebff;}#sk-container-id-2 div.sk-label input.sk-toggleable__control:checked~label.sk-toggleable__label {background-color: #d4ebff;}#sk-container-id-2 input.sk-hidden--visually {border: 0;clip: rect(1px 1px 1px 1px);clip: rect(1px, 1px, 1px, 1px);height: 1px;margin: -1px;overflow: hidden;padding: 0;position: absolute;width: 1px;}#sk-container-id-2 div.sk-estimator {font-family: monospace;background-color: #f0f8ff;border: 1px dotted black;border-radius: 0.25em;box-sizing: border-box;margin-bottom: 0.5em;}#sk-container-id-2 div.sk-estimator:hover {background-color: #d4ebff;}#sk-container-id-2 div.sk-parallel-item::after {content: \"\";width: 100%;border-bottom: 1px solid gray;flex-grow: 1;}#sk-container-id-2 div.sk-label:hover label.sk-toggleable__label {background-color: #d4ebff;}#sk-container-id-2 div.sk-serial::before {content: \"\";position: absolute;border-left: 1px solid gray;box-sizing: border-box;top: 0;bottom: 0;left: 50%;z-index: 0;}#sk-container-id-2 div.sk-serial {display: flex;flex-direction: column;align-items: center;background-color: white;padding-right: 0.2em;padding-left: 0.2em;position: relative;}#sk-container-id-2 div.sk-item {position: relative;z-index: 1;}#sk-container-id-2 div.sk-parallel {display: flex;align-items: stretch;justify-content: center;background-color: white;position: relative;}#sk-container-id-2 div.sk-item::before, #sk-container-id-2 div.sk-parallel-item::before {content: \"\";position: absolute;border-left: 1px solid gray;box-sizing: border-box;top: 0;bottom: 0;left: 50%;z-index: -1;}#sk-container-id-2 div.sk-parallel-item {display: flex;flex-direction: column;z-index: 1;position: relative;background-color: white;}#sk-container-id-2 div.sk-parallel-item:first-child::after {align-self: flex-end;width: 50%;}#sk-container-id-2 div.sk-parallel-item:last-child::after {align-self: flex-start;width: 50%;}#sk-container-id-2 div.sk-parallel-item:only-child::after {width: 0;}#sk-container-id-2 div.sk-dashed-wrapped {border: 1px dashed gray;margin: 0 0.4em 0.5em 0.4em;box-sizing: border-box;padding-bottom: 0.4em;background-color: white;}#sk-container-id-2 div.sk-label label {font-family: monospace;font-weight: bold;display: inline-block;line-height: 1.2em;}#sk-container-id-2 div.sk-label-container {text-align: center;}#sk-container-id-2 div.sk-container {/* jupyter's `normalize.less` sets `[hidden] { display: none; }` but bootstrap.min.css set `[hidden] { display: none !important; }` so we also need the `!important` here to be able to override the default hidden behavior on the sphinx rendered scikit-learn.org. See: https://github.com/scikit-learn/scikit-learn/issues/21755 */display: inline-block !important;position: relative;}#sk-container-id-2 div.sk-text-repr-fallback {display: none;}</style><div id=\"sk-container-id-2\" class=\"sk-top-container\"><div class=\"sk-text-repr-fallback\"><pre>Pipeline(steps=[(&#x27;vect&#x27;, CountVectorizer()), (&#x27;tfidf&#x27;, TfidfTransformer()),\n",
       "                (&#x27;clf&#x27;,\n",
       "                 SGDClassifier(alpha=0.001, max_iter=5, random_state=42,\n",
       "                               tol=None))])</pre><b>In a Jupyter environment, please rerun this cell to show the HTML representation or trust the notebook. <br />On GitHub, the HTML representation is unable to render, please try loading this page with nbviewer.org.</b></div><div class=\"sk-container\" hidden><div class=\"sk-item sk-dashed-wrapped\"><div class=\"sk-label-container\"><div class=\"sk-label sk-toggleable\"><input class=\"sk-toggleable__control sk-hidden--visually\" id=\"sk-estimator-id-5\" type=\"checkbox\" ><label for=\"sk-estimator-id-5\" class=\"sk-toggleable__label sk-toggleable__label-arrow\">Pipeline</label><div class=\"sk-toggleable__content\"><pre>Pipeline(steps=[(&#x27;vect&#x27;, CountVectorizer()), (&#x27;tfidf&#x27;, TfidfTransformer()),\n",
       "                (&#x27;clf&#x27;,\n",
       "                 SGDClassifier(alpha=0.001, max_iter=5, random_state=42,\n",
       "                               tol=None))])</pre></div></div></div><div class=\"sk-serial\"><div class=\"sk-item\"><div class=\"sk-estimator sk-toggleable\"><input class=\"sk-toggleable__control sk-hidden--visually\" id=\"sk-estimator-id-6\" type=\"checkbox\" ><label for=\"sk-estimator-id-6\" class=\"sk-toggleable__label sk-toggleable__label-arrow\">CountVectorizer</label><div class=\"sk-toggleable__content\"><pre>CountVectorizer()</pre></div></div></div><div class=\"sk-item\"><div class=\"sk-estimator sk-toggleable\"><input class=\"sk-toggleable__control sk-hidden--visually\" id=\"sk-estimator-id-7\" type=\"checkbox\" ><label for=\"sk-estimator-id-7\" class=\"sk-toggleable__label sk-toggleable__label-arrow\">TfidfTransformer</label><div class=\"sk-toggleable__content\"><pre>TfidfTransformer()</pre></div></div></div><div class=\"sk-item\"><div class=\"sk-estimator sk-toggleable\"><input class=\"sk-toggleable__control sk-hidden--visually\" id=\"sk-estimator-id-8\" type=\"checkbox\" ><label for=\"sk-estimator-id-8\" class=\"sk-toggleable__label sk-toggleable__label-arrow\">SGDClassifier</label><div class=\"sk-toggleable__content\"><pre>SGDClassifier(alpha=0.001, max_iter=5, random_state=42, tol=None)</pre></div></div></div></div></div></div></div>"
      ],
      "text/plain": [
       "Pipeline(steps=[('vect', CountVectorizer()), ('tfidf', TfidfTransformer()),\n",
       "                ('clf',\n",
       "                 SGDClassifier(alpha=0.001, max_iter=5, random_state=42,\n",
       "                               tol=None))])"
      ]
     },
     "execution_count": 35,
     "metadata": {},
     "output_type": "execute_result"
    }
   ],
   "source": [
    "svm = Pipeline([('vect', CountVectorizer()),\n",
    "                ('tfidf', TfidfTransformer()),\n",
    "                ('clf', SGDClassifier(loss='hinge', penalty='l2',alpha=1e-3, random_state=42, max_iter=5, tol=None)),\n",
    "               ])\n",
    "svm.fit(X_train, y_train)"
   ]
  },
  {
   "cell_type": "code",
   "execution_count": 36,
   "id": "e18e425d",
   "metadata": {},
   "outputs": [
    {
     "name": "stdout",
     "output_type": "stream",
     "text": [
      "accuracy 0.9130434782608695\n",
      "              precision    recall  f1-score   support\n",
      "\n",
      "           8       0.86      1.00      0.92         6\n",
      "           6       1.00      1.00      1.00         4\n",
      "           7       0.89      1.00      0.94         8\n",
      "           4       1.00      0.60      0.75         5\n",
      "\n",
      "    accuracy                           0.91        23\n",
      "   macro avg       0.94      0.90      0.90        23\n",
      "weighted avg       0.92      0.91      0.91        23\n",
      "\n"
     ]
    }
   ],
   "source": [
    "y_pred_svm = svm.predict(X_test)\n",
    "\n",
    "print('accuracy %s' % accuracy_score(y_pred_svm, y_test))\n",
    "print(classification_report(y_test, y_pred_svm,target_names=df['Score'].unique()))"
   ]
  },
  {
   "cell_type": "code",
   "execution_count": 38,
   "id": "bec163e3",
   "metadata": {},
   "outputs": [
    {
     "name": "stdout",
     "output_type": "stream",
     "text": [
      "['8' '7' '6' '8' '7' '4' '6' '4' '4' '8' '4' '4' '7' '6' '4' '7' '6' '7'\n",
      " '7' '7' '4' '7' '7']\n",
      "['8' '7' '6' '8' '7' '4' '6' '4' '4' '8' '4' '4' '7' '6' '4' '7' '6' '8'\n",
      " '7' '7' '8' '7' '7']\n"
     ]
    }
   ],
   "source": [
    "print(y_pred_svm)\n",
    "print(np.array(y_test))"
   ]
  },
  {
   "cell_type": "code",
   "execution_count": null,
   "id": "6277cb79",
   "metadata": {},
   "outputs": [],
   "source": []
  }
 ],
 "metadata": {
  "kernelspec": {
   "display_name": "Python 3 (ipykernel)",
   "language": "python",
   "name": "python3"
  },
  "language_info": {
   "codemirror_mode": {
    "name": "ipython",
    "version": 3
   },
   "file_extension": ".py",
   "mimetype": "text/x-python",
   "name": "python",
   "nbconvert_exporter": "python",
   "pygments_lexer": "ipython3",
   "version": "3.9.7"
  }
 },
 "nbformat": 4,
 "nbformat_minor": 5
}
