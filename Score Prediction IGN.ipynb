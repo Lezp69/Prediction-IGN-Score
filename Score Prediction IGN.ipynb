{
 "cells": [
  {
   "cell_type": "code",
   "execution_count": 1,
   "id": "3b68b114",
   "metadata": {},
   "outputs": [
    {
     "name": "stderr",
     "output_type": "stream",
     "text": [
      "[nltk_data] Downloading package stopwords to\n",
      "[nltk_data]     C:\\Users\\luisz\\AppData\\Roaming\\nltk_data...\n",
      "[nltk_data]   Package stopwords is already up-to-date!\n",
      "[nltk_data] Downloading package wordnet to\n",
      "[nltk_data]     C:\\Users\\luisz\\AppData\\Roaming\\nltk_data...\n",
      "[nltk_data]   Package wordnet is already up-to-date!\n",
      "[nltk_data] Downloading package punkt to\n",
      "[nltk_data]     C:\\Users\\luisz\\AppData\\Roaming\\nltk_data...\n",
      "[nltk_data]   Package punkt is already up-to-date!\n",
      "[nltk_data] Downloading package averaged_perceptron_tagger to\n",
      "[nltk_data]     C:\\Users\\luisz\\AppData\\Roaming\\nltk_data...\n",
      "[nltk_data]   Package averaged_perceptron_tagger is already up-to-\n",
      "[nltk_data]       date!\n"
     ]
    },
    {
     "data": {
      "text/plain": [
       "True"
      ]
     },
     "execution_count": 1,
     "metadata": {},
     "output_type": "execute_result"
    }
   ],
   "source": [
    "from bs4 import BeautifulSoup\n",
    "from urllib.parse import urljoin\n",
    "import requests\n",
    "import lxml\n",
    "import webbrowser\n",
    "\n",
    "import pandas as pd\n",
    "import numpy as np\n",
    "import re\n",
    "import string\n",
    "\n",
    "from sklearn.svm import SVR\n",
    "from sklearn.ensemble import RandomForestRegressor\n",
    "from sklearn.pipeline import Pipeline\n",
    "from sklearn.model_selection import train_test_split, GridSearchCV\n",
    "from sklearn.feature_extraction.text import CountVectorizer, TfidfVectorizer, TfidfTransformer\n",
    "from sklearn.metrics import accuracy_score, confusion_matrix, mean_squared_error, r2_score, classification_report\n",
    "from sklearn.naive_bayes import MultinomialNB\n",
    "from sklearn.linear_model import SGDClassifier\n",
    "\n",
    "import gensim\n",
    "from gensim.models import Word2Vec\n",
    "\n",
    "from wordcloud import WordCloud\n",
    "from wordcloud import ImageColorGenerator\n",
    "from wordcloud import STOPWORDS\n",
    "import matplotlib.pyplot as plt\n",
    "from collections import Counter\n",
    "\n",
    "\n",
    "from textblob import TextBlob\n",
    "\n",
    "import nltk\n",
    "from nltk.corpus import stopwords\n",
    "from nltk.tag import pos_tag\n",
    "nltk.download('stopwords')\n",
    "nltk.download('wordnet')\n",
    "nltk.download('punkt')\n",
    "nltk.download('averaged_perceptron_tagger')\n"
   ]
  },
  {
   "cell_type": "markdown",
   "id": "2b60f769",
   "metadata": {},
   "source": [
    "## Recollecting the data we need"
   ]
  },
  {
   "cell_type": "markdown",
   "id": "db2a9d2a",
   "metadata": {},
   "source": [
    "### How to fetch the HTML content from the webpage?"
   ]
  },
  {
   "cell_type": "code",
   "execution_count": 2,
   "id": "d3fbe408",
   "metadata": {},
   "outputs": [],
   "source": [
    "# Define the URL of the webpage\n",
    "url = 'https://www.ign.com/reviews/movies'\n",
    "\n",
    "# Define the headers to be sent with the request (simulating a user agent to get access)\n",
    "headers = {'User-Agent': 'Mozilla/5.0 (Windows NT 10.0; Win64; x64) AppleWebKit/537.36 (KHTML, like Gecko) Chrome/58.0.3029.110 Safari/537.3'}\n",
    "\n",
    "# Make an HTTP GET request to the specified URL with the previous headers for then extract the HTML content from the response\n",
    "html_text = requests.get(url, headers=headers).text"
   ]
  },
  {
   "cell_type": "markdown",
   "id": "66a0f293",
   "metadata": {},
   "source": [
    "### How to use BeautifulSoup to parse HTML content so we can extract specific sections from a webpage?"
   ]
  },
  {
   "cell_type": "code",
   "execution_count": 3,
   "id": "ca59390a",
   "metadata": {},
   "outputs": [],
   "source": [
    "# Create a BeautifulSoup object and specify the parser (lxml is very recommended)\n",
    "soup = BeautifulSoup(html_text, 'lxml')\n",
    "\n",
    "# Find the main element through its id\n",
    "main = soup.find('main', {\"id\": 'main-content'})\n",
    "\n",
    "# Find the review sections within the 'main' element\n",
    "sections = main.section"
   ]
  },
  {
   "cell_type": "code",
   "execution_count": 4,
   "id": "8703d199",
   "metadata": {},
   "outputs": [],
   "source": [
    "# Find all <figcaption> elements which contain the score of each movie, in the HTML document\n",
    "figcaption_elements = soup.findAll('figcaption')\n",
    "\n",
    "# Iterate over each <figcaption> element and store it in an empty list\n",
    "figcaption_values = []\n",
    "for figcaption_element in figcaption_elements:\n",
    "    figcaption_value = figcaption_element.text\n",
    "    figcaption_values.append(figcaption_value)"
   ]
  },
  {
   "cell_type": "code",
   "execution_count": 5,
   "id": "244cc2b0",
   "metadata": {},
   "outputs": [
    {
     "data": {
      "text/plain": [
       "['5', '5', '6', '6', '7', '8', '7', '6', '7', '8', '7']"
      ]
     },
     "execution_count": 5,
     "metadata": {},
     "output_type": "execute_result"
    }
   ],
   "source": [
    "figcaption_values"
   ]
  },
  {
   "cell_type": "markdown",
   "id": "d72224a0",
   "metadata": {},
   "source": [
    "## How to obtain every review if each review is in its own URL?"
   ]
  },
  {
   "cell_type": "code",
   "execution_count": 6,
   "id": "738a21b8",
   "metadata": {},
   "outputs": [],
   "source": [
    "# Find all <a> elements with the class 'item-body' in the HTML document so we have access to the URLs\n",
    "review_links = soup.find_all('a', class_='item-body')\n",
    "\n",
    "# Iterate over each preview of every review so we can access to the urls\n",
    "hrefs = []\n",
    "for review_link in review_links:\n",
    "    href = review_link.get('href')\n",
    "    hrefs.append(href)"
   ]
  },
  {
   "cell_type": "code",
   "execution_count": 7,
   "id": "633fad77",
   "metadata": {},
   "outputs": [
    {
     "data": {
      "text/plain": [
       "['/articles/wish-review-disney-animation',\n",
       " '/articles/please-dont-destroy-the-treasure-of-foggy-mountain-review-saturday-night-live',\n",
       " '/articles/trolls-band-together-review',\n",
       " '/articles/thanksgiving-review-eli-roth',\n",
       " '/articles/godzilla-minus-one-review',\n",
       " '/articles/david-holmes-the-boy-who-lived-review-harry-potter-documentary',\n",
       " '/articles/its-a-wonderful-knife-review',\n",
       " '/articles/the-hunger-games-the-ballad-of-songbirds-and-snakes-review',\n",
       " '/articles/the-marvels-review-brie-larson-samuel-l-jackson-mcu',\n",
       " '/articles/divinity-review-bella-thorne-eddie-alcazar']"
      ]
     },
     "execution_count": 7,
     "metadata": {},
     "output_type": "execute_result"
    }
   ],
   "source": [
    "hrefs"
   ]
  },
  {
   "cell_type": "code",
   "execution_count": 8,
   "id": "faaa3679",
   "metadata": {
    "scrolled": false
   },
   "outputs": [],
   "source": [
    "base_url = 'https://www.ign.com'\n",
    "data_from_urls = []\n",
    "\n",
    "# Iterate over pairs of hrefs and figcaption_values(scores) using zip\n",
    "for href, score in zip(hrefs, figcaption_values):\n",
    "    \n",
    "    # Construct the full URL by joining the base URL with the previous hrefs\n",
    "    full_url = urljoin(base_url, href)\n",
    "    \n",
    "    response = requests.get(full_url, headers=headers)\n",
    "    html_text = response.text\n",
    "    soup = BeautifulSoup(html_text, 'lxml')\n",
    "    page_title = soup.title.text\n",
    "    paragraphs = soup.find_all('p', class_='jsx-3649800006')\n",
    "    \n",
    "    # Iterate over each <p> element and append data to the list\n",
    "    for paragraph in paragraphs:\n",
    "        \n",
    "        # Append a dictionary containing title, score, and paragraph to the list\n",
    "        data_from_urls.append({'Title': page_title, 'Score': score, 'Paragraph': paragraph.text})"
   ]
  },
  {
   "cell_type": "markdown",
   "id": "f38fdd34",
   "metadata": {},
   "source": [
    "### What if we wanted a Dataframe?"
   ]
  },
  {
   "cell_type": "code",
   "execution_count": 9,
   "id": "53ebd94e",
   "metadata": {},
   "outputs": [],
   "source": [
    "df = pd.DataFrame(data_from_urls)"
   ]
  },
  {
   "cell_type": "code",
   "execution_count": 10,
   "id": "49b4f641",
   "metadata": {},
   "outputs": [
    {
     "data": {
      "text/html": [
       "<div>\n",
       "<style scoped>\n",
       "    .dataframe tbody tr th:only-of-type {\n",
       "        vertical-align: middle;\n",
       "    }\n",
       "\n",
       "    .dataframe tbody tr th {\n",
       "        vertical-align: top;\n",
       "    }\n",
       "\n",
       "    .dataframe thead th {\n",
       "        text-align: right;\n",
       "    }\n",
       "</style>\n",
       "<table border=\"1\" class=\"dataframe\">\n",
       "  <thead>\n",
       "    <tr style=\"text-align: right;\">\n",
       "      <th></th>\n",
       "      <th>Title</th>\n",
       "      <th>Score</th>\n",
       "      <th>Paragraph</th>\n",
       "    </tr>\n",
       "  </thead>\n",
       "  <tbody>\n",
       "    <tr>\n",
       "      <th>0</th>\n",
       "      <td>Wish Review - IGN</td>\n",
       "      <td>5</td>\n",
       "      <td>Thinking back on the gems of the Disney Renais...</td>\n",
       "    </tr>\n",
       "    <tr>\n",
       "      <th>1</th>\n",
       "      <td>Wish Review - IGN</td>\n",
       "      <td>5</td>\n",
       "      <td>Standing on that legacy of emotional heft and ...</td>\n",
       "    </tr>\n",
       "    <tr>\n",
       "      <th>2</th>\n",
       "      <td>Wish Review - IGN</td>\n",
       "      <td>5</td>\n",
       "      <td>The impetus to bridge the past and present is ...</td>\n",
       "    </tr>\n",
       "    <tr>\n",
       "      <th>3</th>\n",
       "      <td>Wish Review - IGN</td>\n",
       "      <td>5</td>\n",
       "      <td>In the kingdom of Rosas, vaguely inspired by c...</td>\n",
       "    </tr>\n",
       "    <tr>\n",
       "      <th>4</th>\n",
       "      <td>Wish Review - IGN</td>\n",
       "      <td>5</td>\n",
       "      <td>But during her job interview to become the kin...</td>\n",
       "    </tr>\n",
       "  </tbody>\n",
       "</table>\n",
       "</div>"
      ],
      "text/plain": [
       "               Title Score                                          Paragraph\n",
       "0  Wish Review - IGN     5  Thinking back on the gems of the Disney Renais...\n",
       "1  Wish Review - IGN     5  Standing on that legacy of emotional heft and ...\n",
       "2  Wish Review - IGN     5  The impetus to bridge the past and present is ...\n",
       "3  Wish Review - IGN     5  In the kingdom of Rosas, vaguely inspired by c...\n",
       "4  Wish Review - IGN     5  But during her job interview to become the kin..."
      ]
     },
     "execution_count": 10,
     "metadata": {},
     "output_type": "execute_result"
    }
   ],
   "source": [
    "df.head()"
   ]
  },
  {
   "cell_type": "markdown",
   "id": "c8072032",
   "metadata": {},
   "source": [
    "### Do we have empty paragraphs?"
   ]
  },
  {
   "cell_type": "code",
   "execution_count": 11,
   "id": "9c84cc52",
   "metadata": {},
   "outputs": [
    {
     "data": {
      "text/html": [
       "<div>\n",
       "<style scoped>\n",
       "    .dataframe tbody tr th:only-of-type {\n",
       "        vertical-align: middle;\n",
       "    }\n",
       "\n",
       "    .dataframe tbody tr th {\n",
       "        vertical-align: top;\n",
       "    }\n",
       "\n",
       "    .dataframe thead th {\n",
       "        text-align: right;\n",
       "    }\n",
       "</style>\n",
       "<table border=\"1\" class=\"dataframe\">\n",
       "  <thead>\n",
       "    <tr style=\"text-align: right;\">\n",
       "      <th></th>\n",
       "      <th>Title</th>\n",
       "      <th>Score</th>\n",
       "      <th>Paragraph</th>\n",
       "    </tr>\n",
       "  </thead>\n",
       "  <tbody>\n",
       "  </tbody>\n",
       "</table>\n",
       "</div>"
      ],
      "text/plain": [
       "Empty DataFrame\n",
       "Columns: [Title, Score, Paragraph]\n",
       "Index: []"
      ]
     },
     "execution_count": 11,
     "metadata": {},
     "output_type": "execute_result"
    }
   ],
   "source": [
    "df[df['Paragraph']=='']"
   ]
  },
  {
   "cell_type": "markdown",
   "id": "20ea4907",
   "metadata": {},
   "source": [
    "#### What if we had?"
   ]
  },
  {
   "cell_type": "code",
   "execution_count": 12,
   "id": "c8c001fd",
   "metadata": {},
   "outputs": [],
   "source": [
    "df.replace(' ', np.nan, inplace=True)"
   ]
  },
  {
   "cell_type": "code",
   "execution_count": 13,
   "id": "93c8f35f",
   "metadata": {},
   "outputs": [],
   "source": [
    "df.dropna(subset=['Paragraph'], inplace=True)"
   ]
  },
  {
   "cell_type": "markdown",
   "id": "a482b84c",
   "metadata": {},
   "source": [
    "## How can we clean our data in order to make predicions?"
   ]
  },
  {
   "cell_type": "markdown",
   "id": "db93edc0",
   "metadata": {},
   "source": [
    "### Converting it to lowercase, removing numbers and non-alphanumeric characters, and tokenizing it using NLTK"
   ]
  },
  {
   "cell_type": "code",
   "execution_count": 14,
   "id": "bae96bfa",
   "metadata": {},
   "outputs": [],
   "source": [
    "def preprocess_text(text):\n",
    "    \n",
    "    # Convert the text to lowercase\n",
    "    text = text.lower()\n",
    "    \n",
    "    # Remove numbers from the text\n",
    "    text = re.sub(r'\\d+', '', text)\n",
    "    \n",
    "    # Remove non-alphanumeric characters from the text\n",
    "    text = re.sub(r'[^\\w\\s]', '', text)\n",
    "    \n",
    "    # Tokenize the text using NLTK\n",
    "    tokens = nltk.word_tokenize(text)\n",
    "    \n",
    "    return tokens"
   ]
  },
  {
   "cell_type": "markdown",
   "id": "dd7c8f3c",
   "metadata": {},
   "source": [
    "### Remove English stop words from a list of tokens using NLTK"
   ]
  },
  {
   "cell_type": "code",
   "execution_count": 15,
   "id": "36f63fc5",
   "metadata": {},
   "outputs": [],
   "source": [
    "def remove_stopWords(tokens):\n",
    "    \n",
    "    # Get the set(list) of English stop words from NLTK\n",
    "    stopWords = set(stopwords.words('english'))\n",
    "    \n",
    "    # Filter out stop words from the list of tokens\n",
    "    filtered_tokens = [words for words in tokens if words not in stopWords]\n",
    "    \n",
    "    return filtered_tokens"
   ]
  },
  {
   "cell_type": "markdown",
   "id": "0d5ed989",
   "metadata": {},
   "source": [
    "### Perform lemmatization on a list of tokens using the WordNet lemmatizer"
   ]
  },
  {
   "cell_type": "code",
   "execution_count": 16,
   "id": "85198a50",
   "metadata": {},
   "outputs": [],
   "source": [
    "def lemmatization(tokens):\n",
    "    \n",
    "    # Create a WordNet lemmatizer object\n",
    "    lemmatizer = nltk.WordNetLemmatizer()\n",
    "    \n",
    "    # Lemmatize each token in the list\n",
    "    lemmatized_tokens = [lemmatizer.lemmatize(token) for token in tokens]\n",
    "    \n",
    "    return lemmatized_tokens"
   ]
  },
  {
   "cell_type": "markdown",
   "id": "e592ee34",
   "metadata": {},
   "source": [
    "### Remove proper nouns"
   ]
  },
  {
   "cell_type": "code",
   "execution_count": 17,
   "id": "a3f1e5ca",
   "metadata": {},
   "outputs": [],
   "source": [
    "def remove_proper_names(tokens):\n",
    "    \n",
    "    # Perform part-of-speech tagging on the list of tokens\n",
    "    tagged_tokens = pos_tag(tokens)\n",
    "    \n",
    "    # Filter out tokens that are identified as proper nouns\n",
    "    filtered_tokens = [token[0] for token in tagged_tokens if token[1] != 'NNP']\n",
    "    return filtered_tokens"
   ]
  },
  {
   "cell_type": "markdown",
   "id": "f372d431",
   "metadata": {},
   "source": [
    "## Integrate all the previous functions"
   ]
  },
  {
   "cell_type": "code",
   "execution_count": 18,
   "id": "068085b9",
   "metadata": {},
   "outputs": [],
   "source": [
    "def clean_text(text):\n",
    "    tokens = preprocess_text(text)\n",
    "    filtered_tokens = remove_stopWords(tokens)\n",
    "    lemmatization_tokens = lemmatization(filtered_tokens)\n",
    "    non_proper_name_tokens = remove_proper_names(filtered_tokens)\n",
    "    clean_text = ' '.join(non_proper_name_tokens)\n",
    "    return clean_text"
   ]
  },
  {
   "cell_type": "code",
   "execution_count": 19,
   "id": "bb9219d2",
   "metadata": {},
   "outputs": [],
   "source": [
    "df['cleaned_Paragraph'] = df['Paragraph'].apply(clean_text)"
   ]
  },
  {
   "cell_type": "code",
   "execution_count": 20,
   "id": "87a2c7e3",
   "metadata": {
    "scrolled": true
   },
   "outputs": [
    {
     "data": {
      "text/html": [
       "<div>\n",
       "<style scoped>\n",
       "    .dataframe tbody tr th:only-of-type {\n",
       "        vertical-align: middle;\n",
       "    }\n",
       "\n",
       "    .dataframe tbody tr th {\n",
       "        vertical-align: top;\n",
       "    }\n",
       "\n",
       "    .dataframe thead th {\n",
       "        text-align: right;\n",
       "    }\n",
       "</style>\n",
       "<table border=\"1\" class=\"dataframe\">\n",
       "  <thead>\n",
       "    <tr style=\"text-align: right;\">\n",
       "      <th></th>\n",
       "      <th>Title</th>\n",
       "      <th>Score</th>\n",
       "      <th>Paragraph</th>\n",
       "      <th>cleaned_Paragraph</th>\n",
       "    </tr>\n",
       "  </thead>\n",
       "  <tbody>\n",
       "    <tr>\n",
       "      <th>0</th>\n",
       "      <td>Wish Review - IGN</td>\n",
       "      <td>5</td>\n",
       "      <td>Thinking back on the gems of the Disney Renais...</td>\n",
       "      <td>thinking back gems disney renaissance stands s...</td>\n",
       "    </tr>\n",
       "    <tr>\n",
       "      <th>1</th>\n",
       "      <td>Wish Review - IGN</td>\n",
       "      <td>5</td>\n",
       "      <td>Standing on that legacy of emotional heft and ...</td>\n",
       "      <td>standing legacy emotional heft equally moving ...</td>\n",
       "    </tr>\n",
       "    <tr>\n",
       "      <th>2</th>\n",
       "      <td>Wish Review - IGN</td>\n",
       "      <td>5</td>\n",
       "      <td>The impetus to bridge the past and present is ...</td>\n",
       "      <td>impetus bridge past present also embedded aest...</td>\n",
       "    </tr>\n",
       "    <tr>\n",
       "      <th>3</th>\n",
       "      <td>Wish Review - IGN</td>\n",
       "      <td>5</td>\n",
       "      <td>In the kingdom of Rosas, vaguely inspired by c...</td>\n",
       "      <td>kingdom rosas vaguely inspired cultures iberia...</td>\n",
       "    </tr>\n",
       "    <tr>\n",
       "      <th>4</th>\n",
       "      <td>Wish Review - IGN</td>\n",
       "      <td>5</td>\n",
       "      <td>But during her job interview to become the kin...</td>\n",
       "      <td>job interview become kings assistant asha disc...</td>\n",
       "    </tr>\n",
       "  </tbody>\n",
       "</table>\n",
       "</div>"
      ],
      "text/plain": [
       "               Title Score                                          Paragraph  \\\n",
       "0  Wish Review - IGN     5  Thinking back on the gems of the Disney Renais...   \n",
       "1  Wish Review - IGN     5  Standing on that legacy of emotional heft and ...   \n",
       "2  Wish Review - IGN     5  The impetus to bridge the past and present is ...   \n",
       "3  Wish Review - IGN     5  In the kingdom of Rosas, vaguely inspired by c...   \n",
       "4  Wish Review - IGN     5  But during her job interview to become the kin...   \n",
       "\n",
       "                                   cleaned_Paragraph  \n",
       "0  thinking back gems disney renaissance stands s...  \n",
       "1  standing legacy emotional heft equally moving ...  \n",
       "2  impetus bridge past present also embedded aest...  \n",
       "3  kingdom rosas vaguely inspired cultures iberia...  \n",
       "4  job interview become kings assistant asha disc...  "
      ]
     },
     "execution_count": 20,
     "metadata": {},
     "output_type": "execute_result"
    }
   ],
   "source": [
    "df.head()"
   ]
  },
  {
   "cell_type": "code",
   "execution_count": 21,
   "id": "5ed7a8a5",
   "metadata": {},
   "outputs": [],
   "source": [
    "del df['Paragraph']"
   ]
  },
  {
   "cell_type": "markdown",
   "id": "1c579770",
   "metadata": {},
   "source": [
    "### Can we remove specific words, single-character words, and words with only consonants?"
   ]
  },
  {
   "cell_type": "code",
   "execution_count": 22,
   "id": "6aaafdd8",
   "metadata": {},
   "outputs": [],
   "source": [
    "words_to_remove = ['just', 'thats']"
   ]
  },
  {
   "cell_type": "code",
   "execution_count": 23,
   "id": "9ae145e4",
   "metadata": {},
   "outputs": [],
   "source": [
    "def remove_words(text):\n",
    "    \n",
    "    # Iterate over words_to_remove and replace each occurrence with an empty string\n",
    "    for word in words_to_remove:\n",
    "        text = text.replace(word, '')\n",
    "    return text\n",
    "\n",
    "df['cleaned_Paragraph'] = df['cleaned_Paragraph'].apply(remove_words)\n",
    "\n",
    "def remove_single_character_words(text):\n",
    "    \n",
    "    # Split the text into words and filter out words with length <= 1\n",
    "    return ' '.join(word for word in text.split() if len(word) > 1)\n",
    "\n",
    "df['cleaned_Paragraph'] = df['cleaned_Paragraph'].apply(remove_single_character_words)"
   ]
  },
  {
   "cell_type": "code",
   "execution_count": 24,
   "id": "c63ff197",
   "metadata": {},
   "outputs": [],
   "source": [
    "def delete_consonant_words(paragraph):\n",
    "    \n",
    "    # Define a regular expression pattern to match words with only consonants\n",
    "    consonant_pattern = re.compile('^[^aeiou]+$')\n",
    "    \n",
    "    # Split the paragraph into words\n",
    "    words = paragraph.split()\n",
    "    \n",
    "    # Filter out words that match the consonant pattern\n",
    "    filtered_words = [word for word in words if not consonant_pattern.match(word)]\n",
    "    \n",
    "    # Join the filtered words back into a paragraph\n",
    "    return ' '.join(filtered_words)\n",
    "\n",
    "for paragraph in df['cleaned_Paragraph']:\n",
    "    filtered_paragraph = delete_consonant_words(paragraph)"
   ]
  },
  {
   "cell_type": "code",
   "execution_count": 25,
   "id": "0ba50217",
   "metadata": {},
   "outputs": [
    {
     "data": {
      "text/html": [
       "<div>\n",
       "<style scoped>\n",
       "    .dataframe tbody tr th:only-of-type {\n",
       "        vertical-align: middle;\n",
       "    }\n",
       "\n",
       "    .dataframe tbody tr th {\n",
       "        vertical-align: top;\n",
       "    }\n",
       "\n",
       "    .dataframe thead th {\n",
       "        text-align: right;\n",
       "    }\n",
       "</style>\n",
       "<table border=\"1\" class=\"dataframe\">\n",
       "  <thead>\n",
       "    <tr style=\"text-align: right;\">\n",
       "      <th></th>\n",
       "      <th>Title</th>\n",
       "      <th>Score</th>\n",
       "      <th>cleaned_Paragraph</th>\n",
       "    </tr>\n",
       "  </thead>\n",
       "  <tbody>\n",
       "    <tr>\n",
       "      <th>0</th>\n",
       "      <td>Wish Review - IGN</td>\n",
       "      <td>5</td>\n",
       "      <td>thinking back gems disney renaissance stands s...</td>\n",
       "    </tr>\n",
       "    <tr>\n",
       "      <th>1</th>\n",
       "      <td>Wish Review - IGN</td>\n",
       "      <td>5</td>\n",
       "      <td>standing legacy emotional heft equally moving ...</td>\n",
       "    </tr>\n",
       "    <tr>\n",
       "      <th>2</th>\n",
       "      <td>Wish Review - IGN</td>\n",
       "      <td>5</td>\n",
       "      <td>impetus bridge past present also embedded aest...</td>\n",
       "    </tr>\n",
       "    <tr>\n",
       "      <th>3</th>\n",
       "      <td>Wish Review - IGN</td>\n",
       "      <td>5</td>\n",
       "      <td>kingdom rosas vaguely inspired cultures iberia...</td>\n",
       "    </tr>\n",
       "    <tr>\n",
       "      <th>4</th>\n",
       "      <td>Wish Review - IGN</td>\n",
       "      <td>5</td>\n",
       "      <td>job interview become kings assistant asha disc...</td>\n",
       "    </tr>\n",
       "  </tbody>\n",
       "</table>\n",
       "</div>"
      ],
      "text/plain": [
       "               Title Score                                  cleaned_Paragraph\n",
       "0  Wish Review - IGN     5  thinking back gems disney renaissance stands s...\n",
       "1  Wish Review - IGN     5  standing legacy emotional heft equally moving ...\n",
       "2  Wish Review - IGN     5  impetus bridge past present also embedded aest...\n",
       "3  Wish Review - IGN     5  kingdom rosas vaguely inspired cultures iberia...\n",
       "4  Wish Review - IGN     5  job interview become kings assistant asha disc..."
      ]
     },
     "execution_count": 25,
     "metadata": {},
     "output_type": "execute_result"
    }
   ],
   "source": [
    "df.head()"
   ]
  },
  {
   "cell_type": "markdown",
   "id": "ce8d7479",
   "metadata": {},
   "source": [
    "# Analyzing the Data"
   ]
  },
  {
   "cell_type": "markdown",
   "id": "e9f8db15",
   "metadata": {},
   "source": [
    "### Worst Reviews & Best Reviews"
   ]
  },
  {
   "cell_type": "code",
   "execution_count": 26,
   "id": "6bc786e0",
   "metadata": {},
   "outputs": [
    {
     "name": "stdout",
     "output_type": "stream",
     "text": [
      "Worst reviews: \n",
      "Title\n",
      "Please Don’t Destroy: The Treasure of Foggy Mountain Review - IGN    5\n",
      "Wish Review - IGN                                                    5\n",
      "Thanksgiving Review - IGN                                            6\n",
      "Name: Score, dtype: object\n",
      "\n",
      "Best reviews: \n",
      "Title\n",
      "David Holmes: The Boy Who Lived Review - IGN    8\n",
      "Divinity Review - IGN                           8\n",
      "Godzilla Minus One Review - IGN                 7\n",
      "Name: Score, dtype: object\n"
     ]
    }
   ],
   "source": [
    "print(f'Worst reviews: \\n{df.groupby(\"Title\")[\"Score\"].max().sort_values().head(3)}')\n",
    "print()\n",
    "print(f'Best reviews: \\n{df.groupby(\"Title\")[\"Score\"].max().sort_values(ascending=False).head(3)}')\n"
   ]
  },
  {
   "cell_type": "markdown",
   "id": "c41db7c3",
   "metadata": {},
   "source": [
    "## Word Cloud"
   ]
  },
  {
   "cell_type": "markdown",
   "id": "49be9416",
   "metadata": {},
   "source": [
    "### How can I generate a word cloud to visualize the frequency of words ?"
   ]
  },
  {
   "cell_type": "code",
   "execution_count": 27,
   "id": "ee8214f2",
   "metadata": {},
   "outputs": [],
   "source": [
    "# Combine the cleaned paragraphs into a single text string\n",
    "text = \" \".join(i for i in df.cleaned_Paragraph)\n",
    "stopwords = set(STOPWORDS)\n",
    "\n",
    "# Generate Word Cloud\n",
    "wordcloud = WordCloud(stopwords=stopwords, background_color=\"white\").generate(text)"
   ]
  },
  {
   "cell_type": "code",
   "execution_count": 28,
   "id": "e7162528",
   "metadata": {},
   "outputs": [
    {
     "data": {
      "image/png": "[encoded data removed]",
      "text/plain": [
       "<Figure size 1080x360 with 1 Axes>"
      ]
     },
     "metadata": {
      "needs_background": "light"
     },
     "output_type": "display_data"
    }
   ],
   "source": [
    "# Set the figure size\n",
    "plt.figure( figsize=(15,5))\n",
    "\n",
    "# Display the WordCloud\n",
    "plt.imshow(wordcloud, interpolation='bilinear')\n",
    "\n",
    "# Turn off axis\n",
    "plt.axis(\"off\")\n",
    "plt.show()"
   ]
  },
  {
   "cell_type": "markdown",
   "id": "facce1db",
   "metadata": {},
   "source": [
    "## How can I know if the reviews are positive or negatives?"
   ]
  },
  {
   "cell_type": "markdown",
   "id": "5c00b2ea",
   "metadata": {},
   "source": [
    "## Sentiment Analysis with TextBlob"
   ]
  },
  {
   "cell_type": "code",
   "execution_count": 29,
   "id": "76765678",
   "metadata": {},
   "outputs": [
    {
     "name": "stdout",
     "output_type": "stream",
     "text": [
      "Paragraph: thinking back gems disney renaissance stands seemed trust young audiences dramatically complex material granted moments could considered adult think frollos hellfire hunchback notre dame since many films adapted great literary classics ancient folktales substantial stakes resonated even mature viewers\n",
      "Sentiment: Positive\n",
      "Paragraph: standing legacy emotional heft equally moving music latest feature walt disney animation meant commemorate studios centennial wish falls short attaining electrifying heights maybe much pressure put single original concept purpose honor disney history fair judge came\n",
      "Sentiment: Positive\n",
      "Paragraph: impetus bridge past present also embedded aesthetics wish directed disney veteran chris buck tarzan fawn veerasunthorn former animator directing first time animation style reads graphic studios dcg features doesnt precisely match animated exuberance seen spiderverse movies teenage mutant ninja turtles mutant mayhem similarly attempts call mind handdrawn era least feel like exists state painted cels moving pixels highlights lush moonlit backgrounds resemble storybook illustrations\n",
      "Sentiment: Positive\n",
      "Paragraph: kingdom rosas vaguely inspired cultures iberian peninsula king magnifico chris pine keeper subjects wishes resident rosas relinquishes deepest desire magical ruler upon turning hoping someday hell choose grant means must also agree forget wishing vivacious asha ariana debose young tour guide introduced musicals weakest number welcome rosas hopes yearold grandfather finally next line greatest aspiration fulfilled\n",
      "Sentiment: Positive\n",
      "Paragraph: job interview become kings assistant asha discovers magnificos controlling tendencies selects wishes wont challenge reign disheartened asha makes mission inform people rosas ugly truth shes learned encourage demand wishes back pursue\n",
      "Sentiment: Negative\n",
      "Paragraph: tradition disney heroines restlessheart songs ariels part world moanas far ill go asha gets moment courageous yearning track wish summons sentient wishing star simply named star wish truly soars thanks deboses powerful voice skillful songwriting julia michaels benjamin rice asha belts heartfelt chorus selflessly wanting better everyone camera swirls around stares vastness lies ahead making propulsive showstopper wish may timeless poetry colors wind pocahontas mournful introspection reflection mulan rousing enough earworm\n",
      "Sentiment: Positive\n",
      "Paragraph: part tribute years disney wish partly functions modern take studios first feature ashas diverse group friends embody qualities snow whites seven dwarfs actor harvey guillén delights gabo worlds grumpy meanwhile magnifico serves male equivalent vain evil queen though wish celebration fairy tales rather fullon parody like shrek writers try humorously engage genres tropes forest animals get musical number alongside asha rather merely admiring singing\n",
      "Sentiment: Negative\n",
      "Paragraph: far nonverbal disney sidekicks go star simple adorable expertly designed sell loads plush toys hand goat valentino alan tudyk rehashing oncenovel nowtired idea comic relief whose cuddlyanimal exterior clashes grave regal voice feels almost unnecessary story many supporting characters\n",
      "Sentiment: Positive\n",
      "Paragraph: theres irredeemable bad guy breaks recent trends disney movies either eschew villain entirely wait reveal lastminute twist maginfico groovily resentful ultimately underwhelming statement wickedness thanks get come generic like much wish king made pieces better movies best described mix frozens hans princess frogs dr facilier\n",
      "Sentiment: Positive\n",
      "Paragraph: appreciated wish isnt used vehicle cameos characters disneys back catalog short upon studio instead allowed standalone tale yet even touching like suggests building community way advance theres sense forced manufacturing wish lacks audacious dna features disney renaissance earlier eras studio reads like safe bet desperate please without actually grasping anything innovative terms wish rendered average spectacular moments centuryold pixie dust truly sparkles\n",
      "Sentiment: Positive\n",
      "Paragraph: expressing cynicism bunch silly fourminute video shorts saturday night live tricky business whole point please dont destroy trio snl writers also make selfstarring pretaped sketches offer fresh youthful shot lunacy otherwiseregimented varietyshow format like lonely island andy samberg friends good neighbor kyle mooneybeck bennett collective pdd boys sketchcomedy background similar snl predecessors presented tiktokquick pacing theres something eversoslightly cloistered work bits set cramped writing office even twothirds direct family connection snl\n",
      "Sentiment: Positive\n",
      "Paragraph: despite jokes clueless losers pdd lacks strong tension sensibility institution housing isnt room mischievous suspicion mainstream show doesnt know exactly make fact snl seems aware new favorite sons try turn next lonely island please dont destroy treasure foggy mountain feels like premature next step plan attempt give goofsters hot rod popstarlike dorm fixture\n",
      "Sentiment: Positive\n",
      "Paragraph: given foggy mountains canceled theatrical run involvement producer judd apatow maybe sights set snl crossover hit la anchorman studio comedies could certainly use fresh blood streaming era often feels genre stripped energy sensibility laughs leaving behind vestiges high concepts familiar stars treasure foggy mountain bears unmistakable signs young men allowed follow ridiculous whims john john higgins martin martin herlihy ben ben marshall manchildren may indulged many whims years left tradition apatow features wondering whether time grow\n",
      "Sentiment: Positive\n",
      "Paragraph: three guys roommates work together outdoorsupply store run bens dad conan obrien ben hopes take day hes especially outdoorsy businesssavvy thinks dad love succeeds may wrong martin meanwhile wants buy house religious girlfriend whos making get adult baptism john feels left friends starting express least nominally adult ambitions misses youthful camaraderie unexpected chance track longlost ultravaluable treasure hidden somewhere local mountain john spearheads mission greater glory\n",
      "Sentiment: Positive\n",
      "Paragraph: theory fine clothesline hang various comic sequences practice sending three boys woods gives much time away characters like obriens perpetually irritated dad time stars revert fallback shtick one something extremely weird misguided two scream confusion terror little sense makes call would comedy sometimes mix three scream confusion terror admittedly funny snl however stretched feature length rarely allows group develop personality individually collectively pdd guys dont form comic trio much roundrobin take turns schtick\n",
      "Sentiment: Positive\n",
      "Paragraph: say whole movie performed vacuum meg stalter shares funny scenes higgins newfound crush delightful see obrien goofing around fiction film cg hawk steals surprising number scenes matter three leads gangly tryanything appeal writers clearly know color material offkilter jokes theres great gag mysterious figure real estate listing evident snl work best tends sketches write live show rather hitandmiss videos\n",
      "Sentiment: Positive\n",
      "Paragraph: foggy mountain repository great jokes almost entirely lacks genuine point view ferrell character acts like imbecile hes usually grappling outdated sense american masculine dominance andy samberg lonely island spoof puffedup swagger contemporary pop music act selfnegging fandom kyle mooney beck bennett often filter doofiness earlys junk culture paying homage childhood faves satirizing limited emotional range please dont destroy looks extended adolescence lens comedies like bites style arresteddevelopment classics like hot rod underseen mystery team without bizarre conviction ask one style question director paul briganti posed movie narrated john goodman barely jokes imparts little exposition whats point providing laughter clarity\n",
      "Sentiment: Positive\n",
      "Paragraph: comedies dont need build toward big central idea funny barely need coherent let alone thematically resonant great advantage comedy big laughs trump lot shortcomings treasure foggy mountain similar many better comedies hard get around empty feels like victory lap without race\n",
      "Sentiment: Positive\n",
      "Paragraph: hand trolls movies though theyre technically craven bit ipmining theres nothing oncefaddish line extravagantly coiffed dolls suggests would make sense source material multiple sugarcrazed jukebox musicals course whats full trilogy battery filmmakers worked hard inject creativity seemingly deadend idea befitting gobigorgobigger sensibility huggable extended acidtrip kiddie series best working state tuneful delirium sending troll queen poppy anna kendrick careening deeply weird animated landscapes mashing decades worth pop hits along way\n",
      "Sentiment: Positive\n",
      "Paragraph: bit bummer trolls band together opens obligatory pathosladen flashback focusing poppys glum boyfriend branch in timberlake first several retcons movie reveals branch spent diaperwearing years youngest member fivetroll boy band heretofore unseen brothers would make sense timberlakes former nsync bandmates play parts confusingly movie defers gag much later instead brozone ranks filled eric andré troye sivan daveed diggs kid cudi years partnership dissolved wake failing hit perfect family harmony brothers must reunite rescue sivans floyd sibling pop stars velvet amy schumer veneer andrew rannells sapping talent keep careers afloat poppy brozone superfan somehow idea branch band enthused mission standoffish partner\n",
      "Sentiment: Positive\n",
      "Paragraph: structure promisingly similar classic muppet movie small group trolls must visit number locations recruit characters pause song breaks even encounter characters resemble old muppets part trolls mission make bigbudget computer animation look genuinely eccentric sometimes even handmade embracing character designs intentionally clash leads straightforward cuteness velvet veneer example resemble shiny unholy cross prebugs bunny looney tunes slender man movie fun recognizing aesthetic derangement making number parenttargeted allusions various characters seeming sexual incompatibility andor promiscuity particularly strange turn series always seemed unsure much actual romance tease poppybranch relationship\n",
      "Sentiment: Positive\n",
      "Paragraph: grownup jokes funny also bit much basically trolls mission statement ongoing bacchanal goofiness makes particular drag branch spends lot movie tediously understandably fuming capricious siblings difficult generate much sympathy quartet older brothers ditch baby even cartoon form branchs storyline supposed provide emotional grounding movie tees one central lessons dangers joyless perfectionism within first two minutes pulls focus poppy whose subplot mirrors branchs say shameless photocopy longlost sibling find plot turn clunky coincidences lampshading coincidences\n",
      "Sentiment: Positive\n",
      "Paragraph: maybe attempts tug heartstrings feel like wasted time regardless whatever hastily conceived backstories director walt dohrn crew assemble every trolls movie far winds exhausted exhausting final stretch especially true band together introduces around new characters trying keep touch half dozen figures previous movies minutes dont count credits almost doesnt matter say design vocal work character like crimp zosia mamet velvet veneers harried mop creature assistant amusing inventive shes shuffled screen much frenzy make difference\n",
      "Sentiment: Positive\n",
      "Paragraph: even usuallyreliable musical numbers start feel like theyre rushed stage mashups remixes often play like abbreviated medlies affectionate riffs boyband culture like brozones song titles involve words girl baby love dont differentiate movies overzealous poptimism predecessors much theyre supposed kids liked earlier movies probably still good time fans series freewheeling visual style find eyewidening delights end though trolls starting feel pretty roadweary\n",
      "Sentiment: Positive\n",
      "Paragraph: thanksgiving opens theaters friday november\n",
      "Sentiment: Neutral\n",
      "Paragraph: knowing wink eli roth kicks new parade amused amusing depravity thanksgiving camera hovers unsteadily landing front door suburban mansion weve adopted leering pov killer plotting next home invasion opening shot fake false alarm danger danger begins also way roth pay playful tribute voyeuristic beginnings halloween black christmas somewhere homage parody lies flamboyantly gross tongueincheek addition holidayhorror calendar\n",
      "Sentiment: Negative\n",
      "Paragraph: roth staked similar middle ground first go premise one mock trailers wedged robert rodriguez quentin tarantino halves double feature grindhouse miniature thanksgiving spoton spoof slasher programmers early kind grimy crass junk halloween black christmas inspired sixteen years later fake trailer real movie though roth ditched whole retro grainy damagedprint gimmick new thanksgiving like remake imaginary version upgraded age smartphones slasher whodunits scream variety sickpuppy sense humor left intact\n",
      "Sentiment: Positive\n",
      "Paragraph: prologue situates story plymouth massachusetts south boston black friday promotion walmartlike superstore explodes stampede resulting casualties theres plenty blame tragedy go around one year later pilgrim couture plastic john carver mask begins well carving vindictive way across town knocking holds responsible one one creative grotesque ways often aid kitchen supplies targets include unruliest rioters stores owner rick hoffman owners teenage daughter nell verlaque along clique variably vapid expendable highschool friends hunting killer cop played patrick dempsey back slasherdetective beat logging time ghostfaces trail scream\n",
      "Sentiment: Negative\n",
      "Paragraph: violence thanksgiving arrives every minutes cue ridiculous brutal equal measure somehow walks tightrope memorably inventively nasty without ever becoming truly unpleasant though course mileage vary according sensibility sensitivity gag reflex roth writerdirector barfbag anticlassics cabin fever hostel basted usual sadism cartoon inconsequentiality slasher cinema even ghoulish moments like main course diabolical cruelty last supper sorts play closer shock comedy horror respect film feels indebted instantly infamous terrifier movies complete villain occasionally trades whole pilgrim theme pistol clown getup\n",
      "Sentiment: Negative\n",
      "Paragraph: grinning gore thanksgiving also serves surprisingly effective suspense going catandmouse odd intervals theres one particularly wes cravenworthy sequence school involving long hallways ominously chirping cellphone room full mannequin heads sequence impressively tense unfolding broad daylight police parked outside isnt sophisticated mystery even lower standards later scream figuring killer largely matter dismissing obvious red herrings using process elimination roth subverts expectations ways wicked talent drawing attention one vulnerable body part wreak havoc another\n",
      "Sentiment: Positive\n",
      "Paragraph: characters naturally grab bag obnoxious caricatures screenaddicted kids bellowing massholes etc theyre vintage slasher fodder doomed die vintage slasher protocol roth never dabbled length jason voorhees school horror hes old hat spreading contempt directions punishing dullards sins thanksgiving fits cleanly filmography unified meanspiritedness anything else\n",
      "Sentiment: Positive\n",
      "Paragraph: still movie none culturewar buttonpushing soured roths previous efforts like italiancannibal throwback green inferno cheeky gunnut death wish remake thanksgiving trollish screed allegory hasnt much mind culturally speaking beyond general disdain uncivilized yearly scramble known black friday blast throwback gnarliness oldschool slasher killscene machine pronounced darkcomic streak eli roth movie fun smug theres something thankful holiday season\n",
      "Sentiment: Negative\n",
      "Paragraph: godzilla minus one playing japan open north american theaters december\n",
      "Sentiment: Negative\n",
      "Paragraph: godzilla minus one movie even bigger title character director takashi yamazaki specializes sweeping crowdpleasers like one tohos rd godzilla picture th series overall blockbuster every sense\n",
      "Sentiment: Negative\n",
      "Paragraph: although produced mere million less budget legendarys last monsterverse entry godzilla vs kong godzilla minus one looks expensive making intelligent use period sets drone shots whooshing wide stretches ocean scenes kaijufueled destruction similarly impress shot gigantic warship flying across screen like piece kindling worth seeing imax\n",
      "Sentiment: Negative\n",
      "Paragraph: godzilla minus one also stirring sentiment independence day movie complete rousing speeches however fervor channeled away particular government postwar japan moral ambiguity abounds rahrah populism story revolves around exkamikaze pilot kōichi shikishima ryunosuke kamiki whose encounter godzilla last days world war ii sets path vengeance redemption\n",
      "Sentiment: Positive\n",
      "Paragraph: first meet shikishima making emergency landing odo island summer claims engine malfunctioning mechanic sōsaku tachibana munetaka aoki suspects truth shikishima shirking duty tachibana sympathetic die lost cause war soon anyway two men barely time commiserate trexlike monster attacks outpost crushing makeshift buildings swallowing soldiers whole\n",
      "Sentiment: Positive\n",
      "Paragraph: fastforward two years shikishima living amid rubble postwar tokyo noriko minami hamabe woman met aftermath firebomb attack adopted daughter akiko neither related blood would give lives influence another iconic summer blockbuster steven spielbergs jaws comes play shikishima takes job minesweeper aboard rickety wooden boat familiar crew eccentrics kenji noda hidetaka yoshioka aka doc seiji akitsu kuranosuke sasaki aka captain shirō mizushima yuki yamada aka kid\n",
      "Sentiment: Positive\n",
      "Paragraph: crews work puts contact government secrets american japanese may encounter wreckage ship torn apart big mean something tokyo bay something turns godzilla blown even monstrous size american nuclear testing south pacific habitat nod favorite godzilla movie acknowledged influence one godzilla mothra king ghidorah giant monsters allout attack godzilla returns embodiment japans war trauma guilt metaphor close surface\n",
      "Sentiment: Positive\n",
      "Paragraph: theme also reflected one yamazakis innovations character godzilla creatures atomic breath explodes like hbomb impact producing mushroom cloud enormous blast radius godzillas regenerative powers emphasized well using visual effects supervised director give creature tactile texture well solid animalistic weight\n",
      "Sentiment: Neutral\n",
      "Paragraph: ironically one thing smaller usual godzilla minus one king kaiju tohos last liveaction godzilla movie shin godzilla introduced biggest incarnation godzilla yet standing meters full height hes since dwarfed anime counterpart another story monster see tops meters height original closest analog godzilla timeline looks actual design combines elements heisei era legendarys recent version creature\n",
      "Sentiment: Positive\n",
      "Paragraph: many godzilla movies could godzilla minus one instead focus character development namely shikishimas arc wartime coward kaijufighting hero family man film sags bit middle godzilladriven set pieces overall mood much hopeful cynical shin godzilla theres swell score heart strings theres less terror pride even perhaps especially evoking vulnerable period japans history film designed make audiences stand cheer akira ifukubes godzilla theme kicks difficult comply\n",
      "Sentiment: Negative\n",
      "Paragraph: david holmes boy lived premieres november pm et hbo\n",
      "Sentiment: Neutral\n",
      "Paragraph: years since release harry potter deathly hallows part conclusion film franchise end wizarding world fantastic beasts prequel films broadway show anniversary documentaries dedicated merchandise shops video games studio tours theme park rides plenty opportunities engage magical realm occupied harry friends even controversy surrounding jk rowlings transphobic views tainting fans affection books subsequent adaptations generations old new still cant get enough\n",
      "Sentiment: Positive\n",
      "Paragraph: enter documentary david holmes boy lived somewhat anomalous less welcome addition harry potters screen legacy offering story stuntman whose life irrevocably changed film franchise holmes daniel radcliffe common yet vastly different reasons films lead radcliffe became household name multimillionaire built eclectic career across stage screen impressive stunt doubles hollywood dreams however unfairly cut short rehearsals harry potter deathly hallows part january holmes jerked back pulley hard broke neck left paralyzed waist\n",
      "Sentiment: Positive\n",
      "Paragraph: thus boy lived serves two purposes celebrate holmess heretofore unsung onscreen heroics acknowledge reality lived since accident director dan hartley uses conventional documentary storytelling achieve objectives threeact structure emotive score talking heads archival images videos brief introductory scene holmes catching old pal radcliffe present establishes continued friendship flashbacks lay path becoming standin ya literatures famous wizard see young essex boy turn gymnastics expend boisterous energy soon fearless skills catch attention oldschool stuntman harry potter stunt coordinator greg powell\n",
      "Sentiment: Positive\n",
      "Paragraph: fans franchise star cinema general abundance behindthescenes footage appeal various stunttraining sequences outtakes camaraderie holmes radcliffe stuntmen tolga kenan marc mailey express lively talkinghead anecdotes radcliffe shares great admiration stunt crew joking sports cars personalized license plates announced presence set saw double coololderbrother figure taught hit bludger backflips walls holmes mailey radcliffes closest companions filming documentary highlights cinematic education child actor received decade playing harry potter holmes bright infectious attitude glues boy lived together pride work never faded even hindsight relished job even meant strenuous sixhour sessions flying brooms swimming water tanks taking majority knocks directed harry youre living youre nearly dying says\n",
      "Sentiment: Positive\n",
      "Paragraph: hartley focuses holmes postaccident experience continued recovery emotional ramifications trauma expense deeper critical assessment film industrys risky relationship stunts questions happened set day fallout subsequent regulation changes left frustratingly unanswered still david holmes boy lived lacks field analysis makes emotional depth watching cheeky lads hardguy stuntmen break tears relive worst moment lives gutpunch expose guilt hopelessness pain potent unvarnished way adds unexpected yet powerful layer vulnerability boy lived worthy story holmes beating heart moving bonds male friendships conjure tearjerking magic\n",
      "Sentiment: Positive\n",
      "Paragraph: wonderful knife excellent title christmas slasher movie excellent surprising one thought sign good pun seems obvious even inevitable unfortunately nothing else film matches level inspiration\n",
      "Sentiment: Positive\n",
      "Paragraph: opening sequence glows warm incandescent light hallmark lifetime christmas movie introducing idyllic town square full smiling citizens festive sweaters match angel falls celebrating annual christmas tree lighting ceremony everything seems perfect least surface behind scenes theres family drama going really important angel anonymous white cape smooth featureless white mask appears raucous christmas eve party attended ostensible lead cara hana huggins given slasher movie hard guess happens next\n",
      "Sentiment: Positive\n",
      "Paragraph: fifteen minutes title card appears screen real story begins turns cara protagonist wonderful knife bff winnie jane widdop year passed since caras artfully staged murder aforementioned party winnie appalled familys reluctance talk happened storms like angsty adolescent\n",
      "Sentiment: Positive\n",
      "Paragraph: returns home finds angel caught previous christmas still terrorizing citizens angel falls winnies parents dont recognize brother dead town barrelfireandboardedupwindows vibe backlot shanty town almost like never born wonderful life killer concept unfolds dependably hitting every beat giving winnie clarence whos aware shes clarence says much loud one point form teen outcast bernie jess mcleod without spoiling much relationship takes refreshing turn towards end movie\n",
      "Sentiment: Positive\n",
      "Paragraph: screenwriter michael kennedy isnt beholden holidayseason staples addition screamesque intro traces know last summer teen horror films biggest shadow looming wonderful knife cast kennedy also wrote freaky cheeky bloodsoaked horror riff freaky friday directed christopher landon film surpasses one terms agility less reflection kennedys script director tyler macintyres handling macintyre also directed tragedy girls displays admirable grasp respect craft suspense particularly opening kill scene slasher lives dies pun intended fundamentals takes wonderful knife long way\n",
      "Sentiment: Positive\n",
      "Paragraph: stunt casting little lighten sometimesleaden stabs comedy role winnies dad joel mchales best scene dramatic one believe in longs villainous turn fun times taking place different heightened reality snarky selfaware dimension costars reside\n",
      "Sentiment: Positive\n",
      "Paragraph: good performances wonderful knife widdop puts heroic effort finalgirl role katharine isabelle charmingly unhinged winnies drunk lesbian aunt people believe winnies story lesbians reflection kennedys queer sensibility kills solid enough satisfy devoted slasher fans neither writer directors tightest polished work enough misstep destroy either careers probably theyll reboot\n",
      "Sentiment: Positive\n",
      "Paragraph: know sit hunger games movie adapted suzanne collins trilogy young adults theyre full commentaryviametaphor class politics war propaganda inherent violence entertainment industry children made fight death dangerous arenas live television nightmare inversion reality tv game shows gaining favor vapid privileged audience mean much archery skills games conflicts true combat deceit manipulation director francis lawrence returns franchise newest installment hunger games ballad songbirds snakes based collins book prequel potent ingredients previous films making enjoyable yet thin adaptation needs much time make complex story truly compelling\n",
      "Sentiment: Positive\n",
      "Paragraph: treated short prologue set dark days immediately districts war capitol megacity reduced rubble young tigris little cousin coriolanus snow witness man cutting corpses leg meat fastforward present eve th annual hunger games collective punishment indicate uncertain terms capitols absolute mastery districts coriolanus bleachblonde tom blyth close graduating secondary school attending prestigious university class ordered partner unfortunate child tributes hunger games events first mentorship program coriolanus situation desperate mentor years victor receive monetary prize allow coriolanus buy grandmother cousin underused hunter schafer poverty oncegrand nowshoddy apartment\n",
      "Sentiment: Negative\n",
      "Paragraph: new mandate one many changes years games viewership implied capitol citizens longer find much entertainment watching kids violently kill mentors told must find ways turn games real spectacle something keep people watching theres commentary entertainment industry coriolanus mentee lucy gray baird vibrant rachel zegler traveling singer district seems hopeless first talent showmanship proves shes least ready make lasting impression viewers home paired coriolanus sneaky selfserving streak ability ingratiate real power players like magicianweathermanhost lucretius lucky flickerman hysterically funny jason schwartzman madscientist games designer dr volumnia gaul viola davis retro disney villain mode stack odds favor\n",
      "Sentiment: Positive\n",
      "Paragraph: wrinkles course coriolanus school friend sejanus plinth josh andrés rivera districtborn blessed wealthy wellconnected father able purchase son capitol education sympathizes citizens trapped districts rebel insurgents still large capitol territory coriolanus constantly keep check naturally coriolanus lucy gray begin fall making even imperative anything keep alive\n",
      "Sentiment: Positive\n",
      "Paragraph: good story good setting prequel sets mostly answers plenty interesting questions created hunger games really coriolanus snow villainous president played donald sutherland time previous films get bad density plot takes place course one entire hunger games plus aftermath made wish either longer already pushing three hours split half trilogys final book mockingjay unlike mockingjay enough material two movies ballad songbirds snakes doesnt enough time depict interplay emotions manipulations make coriolanus lucy grays relationship\n",
      "Sentiment: Positive\n",
      "Paragraph: fluctuating duality ought driving force behind action audience asking character truly genuine actions everything simply means end lucy grays opening scene defiantly sings local folk song live tv slips snake back enemys dress perhaps already aware order win games put show coriolanus constantly shown stepping aside actively participating downfalls considers friends yet movie never introduces question using end outcome inevitable treats coriolanus slow yet steady descent heelturn twist rather predetermined result circumstances personality shift feels like grand reveal instead tragedy\n",
      "Sentiment: Positive\n",
      "Paragraph: film tragedy heart say maybe first time hunger games movie really driven point home children killing children strippeddown empty sports hall sits stark contrast flash pomp terraformed environments future arenas beautiful scenery eyecatching wildlife distract brutal violence spectacle feels real rest doesnt add quite enough put good show\n",
      "Sentiment: Positive\n",
      "Paragraph: comic books art hundreds ways perhaps undervalued ways particularly superhero comics ability make belly laugh wildly tragic events unfolding sure sad comic books serious comic books somber comic books said comic book films love first kind mentioned way suspect going grand time marvels\n",
      "Sentiment: Positive\n",
      "Paragraph: inaugural outing marvel cinematic universe nia dacosta directs kind film leaves grinning well credits roll made heart soul spirit piss vinegar youd expect story featuring three stellar leading ladies captain marvel brie larson human franchise ever allowed point monica rambeau teyonah parris bright bold ever ms marvel iman vellani predictably steals show\n",
      "Sentiment: Positive\n",
      "Paragraph: perhaps whats refreshing captain marvel despite merits felt like living breathing ad military recruitment really literal air force ads marvels antithesis fact primary conflict centered carol danvers wartime mistakes fallout villain darbenn ashton survivor kree civil war followed captain marvels destruction supreme intelligence ai ruled darbenns home planet hala hala dying result darbenn stop nothing save people\n",
      "Sentiment: Positive\n",
      "Paragraph: shes certainly sympathetic villain darbenn unfortunately one weakest parts marvels fault ashtons marvel struggled undeveloped baddies phase continues struggle underdeveloped baddies phase shes simply given whole lot beyond serving reason carol monica kamala together also many kree lackeys look pretty cool thanks makeup costume designs right hand man dude manbun tyrone played daniel ings strange\n",
      "Sentiment: Positive\n",
      "Paragraph: carol reckons mistakes also given opportunity person dont take mean captain marvel show though despite shift focus recent trailers marvels much centers three leads member ensemble gets full character arc closing moments giving opportunity find closure peace way forward chapter least\n",
      "Sentiment: Negative\n",
      "Paragraph: noteworthy writers dacosta megan mcdonnell elissa karasik tall task cramming three complete storylines mcus shortest movie yet marvels matters great deal franchise whole ending postcredits scene set consequential happenings universe beyond leaves excitedly wondering could go next\n",
      "Sentiment: Positive\n",
      "Paragraph: maybe kind resolution skrulls watching species get beaten gotten kind tiring catch break neither carol danvers nick fury samuel jackson damn thing vein may version movie tied secret invasion one coming theater near connective tissue mcu shows besides ms marvel youre going hard time guessing compliment\n",
      "Sentiment: Positive\n",
      "Paragraph: fury deserves smacked every skrull encounters fact still remains best alongside carol danvers also said monica kamala acts mentor former role model spends much time marvels kamalas family surprising delightful pairing\n",
      "Sentiment: Positive\n",
      "Paragraph: marvels greatest strength certainly ensemble comedy close second teamup halt intergalactic revenge plot isnt story screams hilarious one brimming laughs start finish evokes silliness dcs legends tomorrow even goes slapstick times early plays quite well never expense films downbeat moments marvels simply understands many things unfold superhero yarns particularly one deeply silly weird uncomfortable interest selfseriousness face silliness discomfort sometimes answer simply stop running flerken\n",
      "Sentiment: Positive\n",
      "Paragraph: speaking flerken visual effects look quite solid amazing accomplished vfx artists given time cook exactly happened marvels swapped release dates antman wasp quantumania giving teams behind film runway quantumania counterparts well saw happened marvels couple lessthanstellar frames whole vast improvement recent mcu fare\n",
      "Sentiment: Positive\n",
      "Paragraph: dacosta delivers film bloat tons heart endless laughs see bits pieces style sprinkled throughout film even spots marvel machine took evident lucky maybe well see return mcu future projects meantime say sure isnt end carol monica kamalas stories marvels leave wanting immediately\n",
      "Sentiment: Positive\n",
      "Paragraph: divinity fifth film eddie alcazar strange propulsive curio part retrofuturistic scifi part meditation masculine form shot entirely blackandwhite kind plot halfdescribe paper oblique genre musings presented alluring esoteric fashion making hard look away inventor marketer jaxxon pierce stephen dorff creates immortality serum changes world know incurs wrath supernaturally powered beings somewhere somewhen earth distant galaxy centuries future hard sure divinity isnt concerned details rather anxieties surrounding mortality modern world pieces dont always fit together frustrating interpret result never boring thanks images youve likely never seen assembled way\n",
      "Sentiment: Positive\n",
      "Paragraph: archival footage longdead scientist sterling pierce scott bakula sets stage verge major breakthrough sterling desperately searches ways synthesize chemical halt mental physical aging though work incomplete movie unfolds decades later sterlings sons businessminded jaxxon aptlynamed bodybuilder rip michael ohearn perfected fathers formula theyve dubbed divinity turned global industry however intentionally difficult tell story set thanks design sensibilities jaxxons lavish home combines midcentury modern furnishings screens much recent technology feels like film time precisely vibe given two groups otherworldly humanoids seldom interact distinct missions\n",
      "Sentiment: Negative\n",
      "Paragraph: white void cult silent stoic women matching bodysuits parse earthly goings led matriarch ziva bella thorne discuss rescuing fertile women inducting ranks since apparent future seen human race rendered largely sterile theres godlike benevolence ziva clan gentle light envelops hard tell human women rather sort extraterrestrial lifeforms even psychic manifestations whose words seem echo endlessly\n",
      "Sentiment: Positive\n",
      "Paragraph: meanwhile sprawling desert jaxxon built isolated mansion meteor strikes mark arrival two young brothers moises arias jason genao clad black vests eyes occasionally gleam sync forearms bear appear lengthy gloved tattoos wrapped around skin brothers make way jaxxons residence capture use star trekesque stun guns speak almost riddles moral havoc jaxxon either caused cause details left vague similarly obscured enraging secret source divinity discover lab form revenge mysterious siblings hook jaxxon powerful constant dose chemicals resulting physically grotesque transformation brings troubling aspects male selfimage body standards sharp unyielding focus\n",
      "Sentiment: Negative\n",
      "Paragraph: hired sex worker nikita karrueche tran comes knocking jaxxons door ahead birthday bash hes planned evening film switches gears halfformed scifi concepts shifting towards ravenous pleasures food dance flesh involving mutual seduction nikita brothers blossoms profound mutual understanding\n",
      "Sentiment: Positive\n",
      "Paragraph: seems lack substance times calling divinitys approach style substance would misnomer style substance meaning intent woven fabric grainy highcontrast mm composition cinematographer danny hiele turns shadowy frame mystery camera shakes quivers warping texture simple shots characters engaged revelry sweeping drone footage surrounding landscape usually backed night sky clear feels like dream\n",
      "Sentiment: Negative\n",
      "Paragraph: divinity often emits uncanny glow complemented pulsating musical score cypress hill alumnus dj muggs twin peaks sound designer dean hurley film often runs risk selfabsorption intent obfuscating meaning characters occasionally become mere ciphers alcazars lofi flourishes turn potentially pretentious work arthouse endurance charming minute genre throwback actionheavy climax involves highly detailed prosthetics stopmotion trickery whole endeavor plays like twilight zone episode rebirth written rod serling whos hopped techno party may know single person one hell vibe\n",
      "Sentiment: Positive\n"
     ]
    }
   ],
   "source": [
    "for paragraph in df['cleaned_Paragraph']:\n",
    "    \n",
    "    # Preprocess the paragraph using TextBlob\n",
    "    preprocessed_paragraph = TextBlob(paragraph).lower().strip()\n",
    "\n",
    "    # Get the sentiment analysis results\n",
    "    sentiment = preprocessed_paragraph.sentiment\n",
    "\n",
    "    # Extract polarity. -1 negative, 1 positive, 0 neutral sentiment\n",
    "    polarity = sentiment.polarity\n",
    "\n",
    "    # Determine sentiment label based on polarity\n",
    "    if polarity > 0:\n",
    "        sentiment_label = \"Positive\"\n",
    "    elif polarity < 0:\n",
    "        sentiment_label = \"Negative\"\n",
    "    else:\n",
    "        sentiment_label = \"Neutral\"\n",
    "\n",
    "    # Print the paragraph and corresponding sentiment label\n",
    "    print(f\"Paragraph: {paragraph}\\nSentiment: {sentiment_label}\")"
   ]
  },
  {
   "cell_type": "code",
   "execution_count": 30,
   "id": "02fb19fd",
   "metadata": {},
   "outputs": [],
   "source": [
    "#Create an emprty list to append sentiment labels\n",
    "sentiment_labels = []\n",
    "\n",
    "for paragraph in df['cleaned_Paragraph']:\n",
    "    preprocessed_paragraph = TextBlob(paragraph).lower().strip()\n",
    "    sentiment = preprocessed_paragraph.sentiment\n",
    "    polarity = sentiment.polarity\n",
    "\n",
    "    if polarity > 0:\n",
    "        sentiment_label = \"Positive\"\n",
    "    elif polarity < 0:\n",
    "        sentiment_label = \"Negative\"\n",
    "    else:\n",
    "        sentiment_label = \"Neutral\"\n",
    "    # Append the result to our empty list\n",
    "    sentiment_labels.append(sentiment_label)"
   ]
  },
  {
   "cell_type": "markdown",
   "id": "d297fb83",
   "metadata": {},
   "source": [
    "### Can we visualize the results?"
   ]
  },
  {
   "cell_type": "code",
   "execution_count": 31,
   "id": "db5df3be",
   "metadata": {},
   "outputs": [],
   "source": [
    "# Define colors for different sentiment labels\n",
    "sentiment_colors = {\n",
    "    \"Positive\": \"green\",\n",
    "    \"Negative\": \"red\",\n",
    "    \"Neutral\": \"yellow\"\n",
    "}\n",
    "\n",
    "# Count the occurrences of each label (sentiment)\n",
    "label_counts = Counter(sentiment_labels)\n",
    "\n",
    "# Unzip the counter into separate lists for labels and corresponding counts\n",
    "labels, heights = zip(*label_counts.items())"
   ]
  },
  {
   "cell_type": "code",
   "execution_count": 32,
   "id": "544d06c3",
   "metadata": {
    "scrolled": true
   },
   "outputs": [
    {
     "data": {
      "image/png": "[encoded data removed]",
      "text/plain": [
       "<Figure size 432x288 with 1 Axes>"
      ]
     },
     "metadata": {
      "needs_background": "light"
     },
     "output_type": "display_data"
    }
   ],
   "source": [
    "# Set the bars for the bar chart\n",
    "bars = plt.bar(labels, height=heights, edgecolor='black', linewidth=1.2)\n",
    "\n",
    "# Iterate over a list of bars and assigned colors to each bar \n",
    "for bar, color in zip(bars, [sentiment_colors[label] for label in labels]):\n",
    "    bar.set_facecolor(color)\n",
    "\n",
    "# Set labels and title for the plot\n",
    "plt.xlabel(\"Sentiments\")\n",
    "plt.ylabel(\"Frequency\")\n",
    "plt.title(\"Bar Chart of Sentiment\")\n",
    "\n",
    "# Show the plot\n",
    "plt.show()"
   ]
  },
  {
   "cell_type": "markdown",
   "id": "dace96df",
   "metadata": {},
   "source": [
    "# How can I predict scores?"
   ]
  },
  {
   "cell_type": "markdown",
   "id": "31b714f0",
   "metadata": {},
   "source": [
    "# Testing Models"
   ]
  },
  {
   "cell_type": "markdown",
   "id": "8d335768",
   "metadata": {},
   "source": [
    "### How can I prepare text data for machine learning?"
   ]
  },
  {
   "cell_type": "code",
   "execution_count": 33,
   "id": "256d3b11",
   "metadata": {},
   "outputs": [],
   "source": [
    "X = df['cleaned_Paragraph']\n",
    "y = df['Score']\n",
    "\n",
    "# Split the data into training and testing sets\n",
    "X_train, X_test, y_train, y_test = train_test_split(X, y, test_size=0.3, random_state=42)\n",
    "\n",
    "# Convert text data to TF-IDF features\n",
    "tfidf_vectorizer = TfidfVectorizer()\n",
    "X_train_tfidf = tfidf_vectorizer.fit_transform(X_train)\n",
    "X_test_tfidf = tfidf_vectorizer.transform(X_test)\n"
   ]
  },
  {
   "cell_type": "markdown",
   "id": "f39c2d88",
   "metadata": {},
   "source": [
    "## Which models can I use?"
   ]
  },
  {
   "cell_type": "markdown",
   "id": "221e2133",
   "metadata": {},
   "source": [
    "### Support Vector Regression"
   ]
  },
  {
   "cell_type": "code",
   "execution_count": 34,
   "id": "eb4b94e1",
   "metadata": {},
   "outputs": [
    {
     "name": "stdout",
     "output_type": "stream",
     "text": [
      "Mean Squared Error: 0.4166666666666667\n",
      "R-squared: 0.5714285714285714\n"
     ]
    }
   ],
   "source": [
    "sv_model = SVR(kernel='linear')  # There are many different kernels like 'linear', 'rbf', etc.\n",
    "\n",
    "# Train the model\n",
    "sv_model.fit(X_train_tfidf, y_train)\n",
    "\n",
    "# Predict on the test set\n",
    "y_pred_sv = sv_model.predict(X_test_tfidf)\n",
    "\n",
    "#IGN Scores are Integers\n",
    "y_pred_sv = np.around(y_pred_sv,0)\n",
    "\n",
    "# Evaluate the model\n",
    "mse = mean_squared_error(y_test, y_pred_sv)\n",
    "r_squared = r2_score(y_test, y_pred_sv)\n",
    "\n",
    "print(f'Mean Squared Error: {mse}')\n",
    "print(f'R-squared: {r_squared}')"
   ]
  },
  {
   "cell_type": "code",
   "execution_count": 35,
   "id": "705d4b18",
   "metadata": {
    "scrolled": false
   },
   "outputs": [
    {
     "name": "stdout",
     "output_type": "stream",
     "text": [
      "[6. 6. 6. 6. 6. 6. 6. 7. 6. 6. 7. 7. 6. 7. 7. 7. 7. 6. 6. 7. 6. 7. 6. 7.]\n",
      "['6' '5' '6' '6' '6' '6' '5' '7' '5' '5' '7' '7' '7' '7' '7' '8' '8' '6'\n",
      " '6' '7' '5' '7' '5' '8']\n"
     ]
    }
   ],
   "source": [
    "print(y_pred_sv)\n",
    "print(np.array(y_test))"
   ]
  },
  {
   "cell_type": "markdown",
   "id": "606a1200",
   "metadata": {},
   "source": [
    "### Random Forest"
   ]
  },
  {
   "cell_type": "code",
   "execution_count": 36,
   "id": "8815e79e",
   "metadata": {},
   "outputs": [
    {
     "name": "stdout",
     "output_type": "stream",
     "text": [
      "Mean Squared Error (Random Forest): 0.4735194882830697\n",
      "R-squared (Random Forest): 0.5129513834802711\n"
     ]
    }
   ],
   "source": [
    "rf_model = RandomForestRegressor(n_estimators=150, random_state=42, max_depth=10)\n",
    "\n",
    "# Train the model\n",
    "rf_model.fit(X_train_tfidf, y_train)\n",
    "\n",
    "# Predict on the test set\n",
    "y_pred_rf = rf_model.predict(X_test_tfidf)\n",
    "\n",
    "#IGN Scores are Integers\n",
    "y_pred_sv = np.around(y_pred_rf,0)\n",
    "\n",
    "# Evaluate the model\n",
    "mse_rf = mean_squared_error(y_test, y_pred_rf)\n",
    "r_squared_rf = r2_score(y_test, y_pred_rf)\n",
    "\n",
    "print(f'Mean Squared Error (Random Forest): {mse_rf}')\n",
    "print(f'R-squared (Random Forest): {r_squared_rf}')"
   ]
  },
  {
   "cell_type": "code",
   "execution_count": 37,
   "id": "fd91dce8",
   "metadata": {},
   "outputs": [
    {
     "name": "stdout",
     "output_type": "stream",
     "text": [
      "[6. 6. 6. 6. 7. 7. 6. 7. 7. 6. 7. 7. 7. 7. 7. 7. 7. 7. 7. 7. 5. 7. 6. 7.]\n",
      "['6' '5' '6' '6' '6' '6' '5' '7' '5' '5' '7' '7' '7' '7' '7' '8' '8' '6'\n",
      " '6' '7' '5' '7' '5' '8']\n"
     ]
    }
   ],
   "source": [
    "print(np.around(y_pred_rf,0))\n",
    "print(np.array(y_test))"
   ]
  },
  {
   "cell_type": "markdown",
   "id": "9f6d9515",
   "metadata": {},
   "source": [
    "## How can I perform hyperparameter tuning, find the best parameters, and evaluate the model?"
   ]
  },
  {
   "cell_type": "markdown",
   "id": "fa44faba",
   "metadata": {},
   "source": [
    "## Grid Searches"
   ]
  },
  {
   "cell_type": "markdown",
   "id": "890aae1b",
   "metadata": {},
   "source": [
    "### SVR"
   ]
  },
  {
   "cell_type": "code",
   "execution_count": 38,
   "id": "8fe62980",
   "metadata": {},
   "outputs": [
    {
     "name": "stdout",
     "output_type": "stream",
     "text": [
      "Best parameters for SVM: {'C': 10, 'gamma': 'scale', 'kernel': 'linear'}\n",
      "Mean Squared Error (SVM): 0.43752060665383513\n",
      "R-squared (SVM): 0.5499788045846267\n"
     ]
    }
   ],
   "source": [
    "# Define the parameter grid for SVR\n",
    "svr_param_grid = {'C': [0.1, 1, 10],\n",
    "                  'kernel': ['linear', 'rbf', 'poly'],\n",
    "                  'gamma': ['scale', 'auto']}\n",
    "\n",
    "# Create the SVR model\n",
    "svr_model = SVR()\n",
    "\n",
    "# Create GridSearchCV for SVR\n",
    "svr_grid_search = GridSearchCV(svr_model, svr_param_grid, cv=5, scoring='neg_mean_squared_error')\n",
    "svr_grid_search.fit(X_train_tfidf, y_train)\n",
    "\n",
    "# Get the best parameters and model\n",
    "best_svr_params = svr_grid_search.best_params_\n",
    "best_svr_model = svr_grid_search.best_estimator_\n",
    "\n",
    "# Predict on the test set\n",
    "y_pred_svr = best_svr_model.predict(X_test_tfidf)\n",
    "\n",
    "# Evaluate the model\n",
    "mse_svr = mean_squared_error(y_test, y_pred_svr)\n",
    "r_squared_svr = r2_score(y_test, y_pred_svr)\n",
    "\n",
    "print(\"Best parameters for SVM:\", best_svr_params)\n",
    "print(f'Mean Squared Error (SVM): {mse_svr}')\n",
    "print(f'R-squared (SVM): {r_squared_svr}')\n"
   ]
  },
  {
   "cell_type": "markdown",
   "id": "257613ba",
   "metadata": {},
   "source": [
    "### Random Forest"
   ]
  },
  {
   "cell_type": "code",
   "execution_count": null,
   "id": "abf550b8",
   "metadata": {},
   "outputs": [],
   "source": [
    "# Define the parameter grid for Random Forest\n",
    "rf_param_grid = {'n_estimators': [50, 100, 150],\n",
    "                 'max_depth': [None, 10, 20, 30],\n",
    "                 'min_samples_split': [2, 5, 10],\n",
    "                 'min_samples_leaf': [1, 2, 4]}\n",
    "\n",
    "# Create the Random Forest model\n",
    "rf_model = RandomForestRegressor(random_state=42)\n",
    "\n",
    "# Create GridSearchCV for Random Forest\n",
    "rf_grid_search = GridSearchCV(rf_model, rf_param_grid, cv=5, scoring='neg_mean_squared_error')\n",
    "rf_grid_search.fit(X_train_tfidf, y_train)\n",
    "\n",
    "# Get the best parameters and model\n",
    "best_rf_params = rf_grid_search.best_params_\n",
    "best_rf_model = rf_grid_search.best_estimator_\n",
    "\n",
    "# Predict on the test set\n",
    "y_pred_rf_gs = best_rf_model.predict(X_test_tfidf)\n",
    "\n",
    "# Evaluate the model\n",
    "mse_rf_gs = mean_squared_error(y_test, y_pred_rf_gs)\n",
    "r_squared_rf_gs = r2_score(y_test, y_pred_rf_gs)\n",
    "\n",
    "print(\"Best parameters for Random Forest:\", best_rf_params)\n",
    "print(f'Mean Squared Error (Random Forest): {mse_rf_gs}')\n",
    "print(f'R-squared (Random Forest): {r_squared_rf_gs}')\n"
   ]
  },
  {
   "cell_type": "markdown",
   "id": "edbee2a3",
   "metadata": {},
   "source": [
    "## Is there a a way to automate the process for predicting?"
   ]
  },
  {
   "cell_type": "markdown",
   "id": "d569361e",
   "metadata": {},
   "source": [
    "## Pipelines"
   ]
  },
  {
   "cell_type": "markdown",
   "id": "1d22ada9",
   "metadata": {},
   "source": [
    "### Naive Bayes"
   ]
  },
  {
   "cell_type": "code",
   "execution_count": null,
   "id": "b81ca466",
   "metadata": {},
   "outputs": [],
   "source": [
    "nb = Pipeline([('vect', CountVectorizer()), # Convert text data into a bag-of-words representation\n",
    "               ('tfidf', TfidfTransformer()), # Transform the bag-of-words representation into TF-IDF features\n",
    "               ('clf', MultinomialNB()), # Multinomial Naive Bayes classifier\n",
    "              ])\n",
    "\n",
    "# Train the pipeline on the training data\n",
    "nb.fit(X_train, y_train)"
   ]
  },
  {
   "cell_type": "code",
   "execution_count": null,
   "id": "3055b144",
   "metadata": {},
   "outputs": [],
   "source": [
    "df['Score'].unique()"
   ]
  },
  {
   "cell_type": "code",
   "execution_count": null,
   "id": "616cde0c",
   "metadata": {
    "scrolled": false
   },
   "outputs": [],
   "source": [
    "y_pred_nb = nb.predict(X_test)\n",
    "\n",
    "# Print the accuracy of the model\n",
    "print('accuracy %s' % accuracy_score(y_pred_nb, y_test))\n",
    "\n",
    "# Print a classification report including precision, recall, and F1-score\n",
    "print(classification_report(y_test, y_pred_nb,target_names= df['Score'].unique()))"
   ]
  },
  {
   "cell_type": "markdown",
   "id": "73eb5eb2",
   "metadata": {},
   "source": [
    "This results are not good at all. The recalls are not accetable nor the precision and nor the accuracy."
   ]
  },
  {
   "cell_type": "code",
   "execution_count": null,
   "id": "e845e990",
   "metadata": {},
   "outputs": [],
   "source": [
    "print(np.around(y_pred_rf,0))\n",
    "print(np.array(y_test))"
   ]
  },
  {
   "cell_type": "markdown",
   "id": "c1344082",
   "metadata": {},
   "source": [
    "### Linear Support Vector Machine"
   ]
  },
  {
   "cell_type": "code",
   "execution_count": null,
   "id": "a74adf32",
   "metadata": {},
   "outputs": [],
   "source": [
    "svm = Pipeline([('vect', CountVectorizer()),\n",
    "                ('tfidf', TfidfTransformer()),\n",
    "                ('clf', SGDClassifier(loss='hinge', penalty='l2',alpha=1e-3, random_state=42, max_iter=5, tol=None)),\n",
    "               ])\n",
    "svm.fit(X_train, y_train)"
   ]
  },
  {
   "cell_type": "code",
   "execution_count": null,
   "id": "e18e425d",
   "metadata": {},
   "outputs": [],
   "source": [
    "y_pred_svm = svm.predict(X_test)\n",
    "\n",
    "print('accuracy %s' % accuracy_score(y_pred_svm, y_test))\n",
    "print(classification_report(y_test, y_pred_svm,target_names=df['Score'].unique()))"
   ]
  },
  {
   "cell_type": "markdown",
   "id": "7083efb8",
   "metadata": {},
   "source": [
    "And we have a winner! SVM is the best model for predicting in this case. 95$ of accuracy, great precision and recall. "
   ]
  },
  {
   "cell_type": "code",
   "execution_count": null,
   "id": "bec163e3",
   "metadata": {},
   "outputs": [],
   "source": [
    "print(y_pred_svm)\n",
    "print(np.array(y_test))"
   ]
  }
 ],
 "metadata": {
  "kernelspec": {
   "display_name": "Python 3 (ipykernel)",
   "language": "python",
   "name": "python3"
  },
  "language_info": {
   "codemirror_mode": {
    "name": "ipython",
    "version": 3
   },
   "file_extension": ".py",
   "mimetype": "text/x-python",
   "name": "python",
   "nbconvert_exporter": "python",
   "pygments_lexer": "ipython3",
   "version": "3.9.7"
  }
 },
 "nbformat": 4,
 "nbformat_minor": 5
}
