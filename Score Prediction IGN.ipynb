{
 "cells": [
  {
   "cell_type": "code",
   "execution_count": 157,
   "id": "3b68b114",
   "metadata": {},
   "outputs": [
    {
     "name": "stderr",
     "output_type": "stream",
     "text": [
      "[nltk_data] Downloading package stopwords to\n",
      "[nltk_data]     C:\\Users\\luisz\\AppData\\Roaming\\nltk_data...\n",
      "[nltk_data]   Package stopwords is already up-to-date!\n",
      "[nltk_data] Downloading package wordnet to\n",
      "[nltk_data]     C:\\Users\\luisz\\AppData\\Roaming\\nltk_data...\n",
      "[nltk_data]   Package wordnet is already up-to-date!\n",
      "[nltk_data] Downloading package punkt to\n",
      "[nltk_data]     C:\\Users\\luisz\\AppData\\Roaming\\nltk_data...\n",
      "[nltk_data]   Package punkt is already up-to-date!\n",
      "[nltk_data] Downloading package averaged_perceptron_tagger to\n",
      "[nltk_data]     C:\\Users\\luisz\\AppData\\Roaming\\nltk_data...\n",
      "[nltk_data]   Package averaged_perceptron_tagger is already up-to-\n",
      "[nltk_data]       date!\n"
     ]
    },
    {
     "data": {
      "text/plain": [
       "True"
      ]
     },
     "execution_count": 157,
     "metadata": {},
     "output_type": "execute_result"
    }
   ],
   "source": [
    "from bs4 import BeautifulSoup\n",
    "from urllib.parse import urljoin\n",
    "import requests\n",
    "import lxml\n",
    "import webbrowser\n",
    "import pandas as pd\n",
    "import numpy as np\n",
    "import re\n",
    "import string\n",
    "import gensim\n",
    "from sklearn.svm import SVR\n",
    "from sklearn.ensemble import RandomForestRegressor\n",
    "from sklearn.pipeline import Pipeline\n",
    "from sklearn.model_selection import train_test_split, GridSearchCV\n",
    "from sklearn.feature_extraction.text import CountVectorizer, TfidfVectorizer, TfidfTransformer\n",
    "from sklearn.metrics import accuracy_score, confusion_matrix, mean_squared_error, r2_score, classification_report\n",
    "from sklearn.naive_bayes import MultinomialNB\n",
    "from sklearn.linear_model import SGDClassifier\n",
    "from gensim.models import Word2Vec\n",
    "import nltk\n",
    "from nltk.corpus import stopwords\n",
    "from nltk.tag import pos_tag\n",
    "nltk.download('stopwords')\n",
    "nltk.download('wordnet')\n",
    "nltk.download('punkt')\n",
    "nltk.download('averaged_perceptron_tagger')\n"
   ]
  },
  {
   "cell_type": "code",
   "execution_count": 123,
   "id": "d3fbe408",
   "metadata": {},
   "outputs": [],
   "source": [
    "url = 'https://www.ign.com/reviews/movies'\n",
    "\n",
    "headers = {'User-Agent': 'Mozilla/5.0 (Windows NT 10.0; Win64; x64) AppleWebKit/537.36 (KHTML, like Gecko) Chrome/58.0.3029.110 Safari/537.3'}\n",
    "\n",
    "html_text = requests.get(url, headers=headers).text"
   ]
  },
  {
   "cell_type": "code",
   "execution_count": 124,
   "id": "ca59390a",
   "metadata": {},
   "outputs": [],
   "source": [
    "soup = BeautifulSoup(html_text, 'lxml')\n",
    "main = soup.find('main', {\"id\": 'main-content'})\n",
    "sections = main.section"
   ]
  },
  {
   "cell_type": "code",
   "execution_count": 125,
   "id": "ada2e0bc",
   "metadata": {
    "collapsed": true
   },
   "outputs": [
    {
     "name": "stdout",
     "output_type": "stream",
     "text": [
      "<section class=\"grid jsx-949309242\"><section class=\"box-wrapper jsx-537794787 grid-heading\"><div class=\"jsx-651505178 filter-heading page-content\"><h2 class=\"title1 jsx-4293198083 filter-title\">Movie Reviews</h2></div><div class=\"jsx-1423006382 page-content\"><div aria-label=\"Filters\" class=\"jsx-3963919147 jsx-4243969252 tab-filter-bar jsx-3933161798\" data-cy=\"filter-bar\" role=\"tablist\"><a aria-selected=\"false\" class=\"tab-filter jsx-3710415076\" href=\"/reviews\" id=\"all\" role=\"tab\" tabindex=\"-1\"><div class=\"interface jsx-153568585 bold small\">All</div></a><a aria-selected=\"false\" class=\"tab-filter jsx-3710415076\" href=\"/reviews/games\" id=\"games\" role=\"tab\" tabindex=\"-1\"><div class=\"interface jsx-153568585 bold small\">Games</div></a><a aria-selected=\"true\" class=\"tab-filter jsx-3710415076 active\" href=\"/reviews/movies\" id=\"movies\" role=\"tab\" tabindex=\"0\"><div class=\"interface jsx-153568585 bold small\">Movies</div></a><a aria-selected=\"false\" class=\"tab-filter jsx-3710415076\" href=\"/reviews/tv\" id=\"tv\" role=\"tab\" tabindex=\"-1\"><div class=\"interface jsx-153568585 bold small\">TV</div></a><a aria-selected=\"false\" class=\"tab-filter jsx-3710415076\" href=\"/reviews/comics\" id=\"comics\" role=\"tab\" tabindex=\"-1\"><div class=\"interface jsx-153568585 bold small\">Comics</div></a><a aria-selected=\"false\" class=\"tab-filter jsx-3710415076\" href=\"/reviews/tech\" id=\"tech\" role=\"tab\" tabindex=\"-1\"><div class=\"interface jsx-153568585 bold small\">Tech</div></a></div></div><div class=\"jsx-609084212 page-content options\"><div class=\"stack jsx-4148277892 review-filter-options\"><div class=\"stack jsx-1945591031\"><label class=\"interface jsx-153568585 toggle-label jsx-2914501929 left-justified checked toggle\" for=\"reviewScores\" id=\"reviewScores-label\"><input checked=\"\" id=\"reviewScores\" name=\"reviewScores\" type=\"checkbox\" value=\"true\"/><span class=\"label\">Review Scores</span><div class=\"left-justified toggle-wrapper\"><div class=\"toggle-indicator\"></div></div></label><label class=\"interface jsx-153568585 toggle-label jsx-2914501929 left-justified toggle\" for=\"editorsChoice\" id=\"editorsChoice-label\"><input id=\"editorsChoice\" name=\"editorsChoice\" type=\"checkbox\" value=\"false\"/><span class=\"label\">Editors’ Choice</span><div class=\"left-justified toggle-wrapper\"><div class=\"toggle-indicator\"></div></div></label></div><div class=\"stack jsx-1945591031\"><select aria-label=\"Sort\" class=\"jsx-3494031924 select\" id=\"sortBy\" name=\"sortBy\"><option class=\"jsx-3926553431\" selected=\"\" value=\"Latest\">Sort by Latest</option><option class=\"jsx-3926553431\" value=\"Oldest\">Sort by Oldest</option><option class=\"jsx-3926553431\" value=\"ScoreDescending\">Sort by Score</option><option class=\"jsx-3926553431\" value=\"Title\">Sort by Title</option></select><select aria-label=\"Score Range\" class=\"jsx-3494031924 select\" id=\"scoreRange\" name=\"scoreRange\"><option class=\"jsx-3926553431\">All Scores</option><option class=\"jsx-3926553431\" value=\"10,10\">10</option><option class=\"jsx-3926553431\" value=\"9.0,9.9\">9.0 - 9.9</option><option class=\"jsx-3926553431\" value=\"8.0,8.9\">8.0 - 8.9</option><option class=\"jsx-3926553431\" value=\"7.0,7.9\">7.0 - 7.9</option><option class=\"jsx-3926553431\" value=\"6.0,6.9\">6.0 - 6.9</option><option class=\"jsx-3926553431\" value=\"5.0,5.9\">5.0 - 5.9</option><option class=\"jsx-3926553431\" value=\"4.0,4.9\">4.0 - 4.9</option><option class=\"jsx-3926553431\" value=\"3.0,3.9\">3.0 - 3.9</option><option class=\"jsx-3926553431\" value=\"2.0,2.9\">2.0 - 2.9</option><option class=\"jsx-3926553431\" value=\"1.0,1.9\">1.0 - 1.9</option><option class=\"jsx-3926553431\" value=\"0.0,0.9\">0.0 - 0.9</option></select><select aria-label=\"Genre\" class=\"jsx-3494031924 select\" id=\"genre\" name=\"genre\"><option class=\"jsx-3926553431\">All Genres</option><option class=\"jsx-3926553431\" value=\"action\">Action</option><option class=\"jsx-3926553431\" value=\"adventure\">Adventure</option><option class=\"jsx-3926553431\" value=\"animation\">Animation</option><option class=\"jsx-3926553431\" value=\"anime\">Anime</option><option class=\"jsx-3926553431\" value=\"comedy\">Comedy</option><option class=\"jsx-3926553431\" value=\"crime\">Crime</option><option class=\"jsx-3926553431\" value=\"cult\">Cult</option><option class=\"jsx-3926553431\" value=\"documentary\">Documentary</option><option class=\"jsx-3926553431\" value=\"drama\">Drama</option><option class=\"jsx-3926553431\" value=\"family\">Family</option><option class=\"jsx-3926553431\" value=\"fantasy\">Fantasy</option><option class=\"jsx-3926553431\" value=\"film-noir\">Film Noir</option><option class=\"jsx-3926553431\" value=\"hong-kong\">Hong Kong</option><option class=\"jsx-3926553431\" value=\"horror\">Horror</option><option class=\"jsx-3926553431\" value=\"music-video\">Music Video</option><option class=\"jsx-3926553431\" value=\"musical\">Musical</option><option class=\"jsx-3926553431\" value=\"mystery\">Mystery</option><option class=\"jsx-3926553431\" value=\"other\">Other</option><option class=\"jsx-3926553431\" value=\"romance\">Romance</option><option class=\"jsx-3926553431\" value=\"sci-fi\">Sci Fi</option><option class=\"jsx-3926553431\" value=\"sports\">Sports</option><option class=\"jsx-3926553431\" value=\"superhero\">Super Hero</option><option class=\"jsx-3926553431\" value=\"thriller\">Thriller</option><option class=\"jsx-3926553431\" value=\"war\">War</option><option class=\"jsx-3926553431\" value=\"western\">Western</option></select></div></div></div></section><section class=\"box-wrapper jsx-537794787 grid-break\"></section><div class=\"content-feed-grid-wrapper group-0 even\"><section class=\"content-feed-grid group-0 page-content even\" data-cy=\"page-0\"><section class=\"main-content\"><div class=\"content-item jsx-1409608325 row divider\" data-id=\"adb89722-42c7-4f61-9cdf-459b10e45334\"><a aria-label=\"It's a Wonderful Knife Review\" class=\"item-body\" href=\"/articles/its-a-wonderful-knife-review\"><div class=\"item-thumbnail\"><span><img alt=\"It's a Wonderful Knife Review\" class=\"jsx-2920405963 progressive-image jsx-1049729975 item-image aspect-ratio aspect-ratio-16-9 jsx-3398679358 hover-opacity\" decoding=\"async\" src=\"https://assets-prd.ignimgs.com/2023/11/10/its-a-wonderful-knife-7-1699649956719.jpg?crop=16%3A9&amp;width=282\" srcset=\"https://assets-prd.ignimgs.com/2023/11/10/its-a-wonderful-knife-7-1699649956719.jpg?crop=16%3A9&amp;width=282 1x, https://assets-prd.ignimgs.com/2023/11/10/its-a-wonderful-knife-7-1699649956719.jpg?crop=16%3A9&amp;width=282&amp;dpr=2 2x\"/><figure class=\"review-score hexagon-wrapper jsx-468196757 medium\"><div class=\"hexagon\"><span class=\"hexagon-content-wrapper\"><figcaption>6</figcaption></span></div></figure></span></div><div class=\"stack jsx-1197884630 item-details\"><div class=\"caption jsx-3011539465 item-publish-date small\">2d ago</div><span class=\"interface jsx-777404155 item-title bold\">It's a Wonderful Knife Review</span><div class=\"interface jsx-153568585 jsx-957202555 item-subtitle small\">2d ago<!-- --> - <!-- -->Great title, okay slasher movie</div><div class=\"stack jsx-2043432607 item-more-data\"><object class=\"caption jsx-3011539465 data small\" title=\"Related Content Link\"><a class=\"caption jsx-3011539465 data small\" href=\"/movies/its-a-wonderful-knife\">It's a Wonderful Knife</a></object><object class=\"caption jsx-3011539465 data small\" title=\"Author Link\"><a class=\"caption jsx-3011539465 data small\" href=\"/person/Katie_Rife\">Katie Rife</a></object><div class=\"caption jsx-2211226727 comment-count data small\">22</div></div></div></a></div><div class=\"content-item jsx-1409608325 row divider\" data-id=\"15db862c-0c11-48a6-826e-e51ed4009249\"><a aria-label=\"The Hunger Games Prequel Review: Time in Not in Its Favor\" class=\"item-body\" href=\"/articles/the-hunger-games-the-ballad-of-songbirds-and-snakes-review\"><div class=\"item-thumbnail\"><span><img alt=\"The Hunger Games Prequel Review: Time in Not in Its Favor\" class=\"jsx-2920405963 progressive-image jsx-1049729975 item-image aspect-ratio aspect-ratio-16-9 jsx-3398679358 hover-opacity\" decoding=\"async\" src=\"https://assets-prd.ignimgs.com/2023/11/09/mixcollage-09-nov-2023-12-46-pm-2433-1699555743576.jpg?crop=16%3A9&amp;width=282\" srcset=\"https://assets-prd.ignimgs.com/2023/11/09/mixcollage-09-nov-2023-12-46-pm-2433-1699555743576.jpg?crop=16%3A9&amp;width=282 1x, https://assets-prd.ignimgs.com/2023/11/09/mixcollage-09-nov-2023-12-46-pm-2433-1699555743576.jpg?crop=16%3A9&amp;width=282&amp;dpr=2 2x\"/><figure class=\"review-score hexagon-wrapper jsx-468196757 medium\"><div class=\"hexagon\"><span class=\"hexagon-content-wrapper\"><figcaption>7</figcaption></span></div></figure></span></div><div class=\"stack jsx-1197884630 item-details\"><div class=\"caption jsx-3011539465 item-publish-date small\">4d ago</div><span class=\"interface jsx-777404155 item-title bold\">The Hunger Games Prequel Review: Time in Not in Its Favor</span><div class=\"interface jsx-153568585 jsx-957202555 item-subtitle small\">4d ago<!-- --> - <!-- -->Two-and-a-half hours is too little time for the prequel to spend on its complex story</div><div class=\"stack jsx-2043432607 item-more-data\"><object class=\"caption jsx-3011539465 data small\" title=\"Related Content Link\"><a class=\"caption jsx-3011539465 data small\" href=\"/movies/the-hunger-games-the-ballad-of-songbirds-and-snakes\">The Hunger Games: The Ballad of Songbirds and Snakes</a></object><object class=\"caption jsx-3011539465 data small\" title=\"Author Link\"><a class=\"caption jsx-3011539465 data small\" href=\"/person/estefansky\">Emma Stefansky</a></object><div class=\"caption jsx-2211226727 comment-count data small\">260</div></div></div></a></div><div class=\"content-item jsx-1409608325 row divider\" data-id=\"46108e6a-8cc3-4e1c-8e00-226219ef95e7\"><a aria-label=\"The Marvels Review\" class=\"item-body\" href=\"/articles/the-marvels-review-brie-larson-samuel-l-jackson-mcu\"><div class=\"item-thumbnail\"><span><img alt=\"The Marvels Review\" class=\"jsx-2920405963 progressive-image jsx-1049729975 item-image aspect-ratio aspect-ratio-16-9 jsx-3398679358 hover-opacity\" decoding=\"async\" src=\"https://assets-prd.ignimgs.com/2023/11/08/themarvels-review-blogroll-1-1699461729130.jpg?crop=16%3A9&amp;width=282\" srcset=\"https://assets-prd.ignimgs.com/2023/11/08/themarvels-review-blogroll-1-1699461729130.jpg?crop=16%3A9&amp;width=282 1x, https://assets-prd.ignimgs.com/2023/11/08/themarvels-review-blogroll-1-1699461729130.jpg?crop=16%3A9&amp;width=282&amp;dpr=2 2x\"/><figure class=\"review-score hexagon-wrapper jsx-468196757 medium\"><div class=\"hexagon\"><span class=\"hexagon-content-wrapper\"><figcaption>8</figcaption></span></div></figure></span></div><div class=\"stack jsx-1197884630 item-details\"><div class=\"caption jsx-3011539465 item-publish-date small\">5d ago</div><span class=\"interface jsx-777404155 item-title bold\">The Marvels Review</span><div class=\"interface jsx-153568585 jsx-957202555 item-subtitle small\">5d ago<!-- --> - <!-- -->Rumors of Marvel’s demise have been greatly exaggerated.</div><div class=\"stack jsx-2043432607 item-more-data\"><object class=\"caption jsx-3011539465 data small\" title=\"Related Content Link\"><a class=\"caption jsx-3011539465 data small\" href=\"/movies/the-marvels\">The Marvels</a></object><object class=\"caption jsx-3011539465 data small\" title=\"Author Link\"><a class=\"caption jsx-3011539465 data small\" href=\"/person/thatwitchmia\">Amelia Emberwing</a></object><div class=\"caption jsx-2211226727 comment-count data small\">2.3k</div></div></div></a></div><div class=\"content-item jsx-1409608325 row divider\" data-id=\"73e1cf25-2406-4414-8364-6146ee86caae\"><a aria-label=\"Divinity Review\" class=\"item-body\" href=\"/articles/divinity-review-bella-thorne-eddie-alcazar\"><div class=\"item-thumbnail\"><span><img alt=\"Divinity Review\" class=\"jsx-2920405963 progressive-image jsx-1049729975 item-image aspect-ratio aspect-ratio-16-9 jsx-3398679358 hover-opacity\" decoding=\"async\" src=\"https://assets-prd.ignimgs.com/2023/11/02/collage-maker-02-nov-2023-12-37-pm-2399-1698947084647.jpg?crop=16%3A9&amp;width=282\" srcset=\"https://assets-prd.ignimgs.com/2023/11/02/collage-maker-02-nov-2023-12-37-pm-2399-1698947084647.jpg?crop=16%3A9&amp;width=282 1x, https://assets-prd.ignimgs.com/2023/11/02/collage-maker-02-nov-2023-12-37-pm-2399-1698947084647.jpg?crop=16%3A9&amp;width=282&amp;dpr=2 2x\"/><figure class=\"review-score hexagon-wrapper jsx-468196757 medium\"><div class=\"hexagon\"><span class=\"hexagon-content-wrapper\"><figcaption>7</figcaption></span></div></figure></span></div><div class=\"stack jsx-1197884630 item-details\"><div class=\"caption jsx-3011539465 item-publish-date small\">11d ago</div><span class=\"interface jsx-777404155 item-title bold\">Divinity Review</span><div class=\"interface jsx-153568585 jsx-957202555 item-subtitle small\">11d ago<!-- --> - <!-- -->An uneven work of rock-star sci-fi</div><div class=\"stack jsx-2043432607 item-more-data\"><object class=\"caption jsx-3011539465 data small\" title=\"Related Content Link\"><a class=\"caption jsx-3011539465 data small\" href=\"/movies/divinity\">Divinity</a></object><object class=\"caption jsx-3011539465 data small\" title=\"Author Link\"><a class=\"caption jsx-3011539465 data small\" href=\"/person/SiddhantAdlakha\">Siddhant Adlakha</a></object><div class=\"caption jsx-2211226727 comment-count data small\">45</div></div></div></a></div><div class=\"content-item jsx-1409608325 row divider\" data-id=\"2d310583-2345-442f-8987-31aca7b2f6d5\"><a aria-label=\"The Killer: David Fincher Thriller Review\" class=\"item-body\" href=\"/articles/the-killer-review-david-fincher-michael-fassbender-netflix\"><div class=\"item-thumbnail\"><span><img alt=\"The Killer: David Fincher Thriller Review\" class=\"jsx-2920405963 progressive-image jsx-1049729975 item-image aspect-ratio aspect-ratio-16-9 jsx-3398679358 hover-opacity\" decoding=\"async\" src=\"https://assets-prd.ignimgs.com/2023/09/03/thekiller-blogroll-1693767924419.jpg?crop=16%3A9&amp;width=282\" srcset=\"https://assets-prd.ignimgs.com/2023/09/03/thekiller-blogroll-1693767924419.jpg?crop=16%3A9&amp;width=282 1x, https://assets-prd.ignimgs.com/2023/09/03/thekiller-blogroll-1693767924419.jpg?crop=16%3A9&amp;width=282&amp;dpr=2 2x\"/><figure class=\"review-score hexagon-wrapper jsx-468196757 medium\"><div class=\"hexagon\"><span class=\"hexagon-content-wrapper\"><figcaption>7</figcaption></span></div></figure></span></div><div class=\"stack jsx-1197884630 item-details\"><div class=\"caption jsx-3011539465 item-publish-date small\">Oct 26, 2023</div><span class=\"interface jsx-777404155 item-title bold\">The Killer: David Fincher Thriller Review</span><div class=\"interface jsx-153568585 jsx-957202555 item-subtitle small\">Oct 26, 2023<!-- --> - <!-- -->David Fincher’s latest exploration of violence is a calculated, restrained, and exciting return to form</div><div class=\"stack jsx-2043432607 item-more-data\"><object class=\"caption jsx-3011539465 data small\" title=\"Related Content Link\"><a class=\"caption jsx-3011539465 data small\" href=\"/movies/the-killer-netflix\">The Killer</a></object><object class=\"caption jsx-3011539465 data small\" title=\"Author Link\"><a class=\"caption jsx-3011539465 data small\" href=\"/person/nikonamerica\">Lex Briscuso</a></object><div class=\"caption jsx-2211226727 comment-count data small\">133</div></div></div></a></div><div class=\"content-item jsx-1409608325 row divider\" data-id=\"79ec8f97-6b0a-4c49-bccd-e1802b7043ff\"><a aria-label=\"Five Nights at Freddy's Movie Review\" class=\"item-body\" href=\"/articles/five-nights-at-freddys-review\"><div class=\"item-thumbnail\"><span><img alt=\"Five Nights at Freddy's Movie Review\" class=\"jsx-2920405963 progressive-image jsx-1049729975 item-image aspect-ratio aspect-ratio-16-9 jsx-3398679358 hover-opacity\" decoding=\"async\" src=\"https://assets-prd.ignimgs.com/2023/10/26/fivenightsatfreddys-review-blogroll-1698309593553.jpg?crop=16%3A9&amp;width=282\" srcset=\"https://assets-prd.ignimgs.com/2023/10/26/fivenightsatfreddys-review-blogroll-1698309593553.jpg?crop=16%3A9&amp;width=282 1x, https://assets-prd.ignimgs.com/2023/10/26/fivenightsatfreddys-review-blogroll-1698309593553.jpg?crop=16%3A9&amp;width=282&amp;dpr=2 2x\"/><figure class=\"review-score hexagon-wrapper jsx-468196757 medium\"><div class=\"hexagon\"><span class=\"hexagon-content-wrapper\"><figcaption>4</figcaption></span></div></figure></span></div><div class=\"stack jsx-1197884630 item-details\"><div class=\"caption jsx-3011539465 item-publish-date small\">Oct 26, 2023</div><span class=\"interface jsx-777404155 item-title bold\">Five Nights at Freddy's Movie Review</span><div class=\"interface jsx-153568585 jsx-957202555 item-subtitle small\">Oct 26, 2023<!-- --> - <!-- -->Slam the door on this animatronic monstrosity.</div><div class=\"stack jsx-2043432607 item-more-data\"><object class=\"caption jsx-3011539465 data small\" title=\"Related Content Link\"><a class=\"caption jsx-3011539465 data small\" href=\"/movies/five-nights-at-freddys\">Five Nights at Freddy's</a></object><object class=\"caption jsx-3011539465 data small\" title=\"Author Link\"><a class=\"caption jsx-3011539465 data small\" href=\"/person/AADowd\">A.A. Dowd</a></object><div class=\"caption jsx-2211226727 comment-count data small\">341</div></div></div></a></div><div class=\"content-item jsx-1409608325 row divider\" data-id=\"db772800-f043-41e6-99aa-deaf5eed0df3\"><a aria-label=\"Freelance Review\" class=\"item-body\" href=\"/articles/freelance-review-john-cena-alison-brie\"><div class=\"item-thumbnail\"><span><img alt=\"Freelance Review\" class=\"jsx-2920405963 progressive-image jsx-1049729975 item-image aspect-ratio aspect-ratio-16-9 jsx-3398679358 hover-opacity\" decoding=\"async\" src=\"https://assets-prd.ignimgs.com/2023/08/23/freelance-thumb223-1692820432063.jpg?crop=16%3A9&amp;width=282\" srcset=\"https://assets-prd.ignimgs.com/2023/08/23/freelance-thumb223-1692820432063.jpg?crop=16%3A9&amp;width=282 1x, https://assets-prd.ignimgs.com/2023/08/23/freelance-thumb223-1692820432063.jpg?crop=16%3A9&amp;width=282&amp;dpr=2 2x\"/><figure class=\"review-score hexagon-wrapper jsx-468196757 medium\"><div class=\"hexagon\"><span class=\"hexagon-content-wrapper\"><figcaption>4</figcaption></span></div></figure></span></div><div class=\"stack jsx-1197884630 item-details\"><div class=\"caption jsx-3011539465 item-publish-date small\">Oct 26, 2023</div><span class=\"interface jsx-777404155 item-title bold\">Freelance Review</span><div class=\"interface jsx-153568585 jsx-957202555 item-subtitle small\">Oct 26, 2023<!-- --> - <!-- -->Unfortunately, you can see this new John Cena movie.</div><div class=\"stack jsx-2043432607 item-more-data\"><object class=\"caption jsx-3011539465 data small\" title=\"Related Content Link\"><a class=\"caption jsx-3011539465 data small\" href=\"/movies/freelance\">Freelance</a></object><object class=\"caption jsx-3011539465 data small\" title=\"Author Link\"><a class=\"caption jsx-3011539465 data small\" href=\"/person/Donatobomb\">Matt Donato</a></object><div class=\"caption jsx-2211226727 comment-count data small\">20</div></div></div></a></div><div class=\"content-item jsx-1409608325 row divider\" data-id=\"e4a2b906-78fc-4883-8939-8c3348c12bf4\"><a aria-label=\"Cobweb (Geomijip) Review\" class=\"item-body\" href=\"/articles/cobweb-geomijip-review-song-kang-ho-kim-jee-woon\"><div class=\"item-thumbnail\"><span><img alt=\"Cobweb (Geomijip) Review\" class=\"jsx-2920405963 progressive-image jsx-1049729975 item-image aspect-ratio aspect-ratio-16-9 jsx-3398679358 hover-opacity\" decoding=\"async\" src=\"https://assets-prd.ignimgs.com/2023/10/25/collage-maker-25-oct-2023-10-30-am-1332-1698248370482.jpg?crop=16%3A9&amp;width=282\" srcset=\"https://assets-prd.ignimgs.com/2023/10/25/collage-maker-25-oct-2023-10-30-am-1332-1698248370482.jpg?crop=16%3A9&amp;width=282 1x, https://assets-prd.ignimgs.com/2023/10/25/collage-maker-25-oct-2023-10-30-am-1332-1698248370482.jpg?crop=16%3A9&amp;width=282&amp;dpr=2 2x\"/><figure class=\"review-score hexagon-wrapper jsx-468196757 medium\"><div class=\"hexagon\"><span class=\"hexagon-content-wrapper\"><figcaption>6</figcaption></span></div></figure></span></div><div class=\"stack jsx-1197884630 item-details\"><div class=\"caption jsx-3011539465 item-publish-date small\">Oct 25, 2023</div><span class=\"interface jsx-777404155 item-title bold\">Cobweb (Geomijip) Review</span><div class=\"interface jsx-153568585 jsx-957202555 item-subtitle small\">Oct 25, 2023<!-- --> - <!-- -->Writer-director Kim Jee-woon delivers style over substance  </div><div class=\"stack jsx-2043432607 item-more-data\"><object class=\"caption jsx-3011539465 data small\" title=\"Related Content Link\"><a class=\"caption jsx-3011539465 data small\" href=\"/movies/cobweb-geomijip\">Cobweb (Geomijip)</a></object><object class=\"caption jsx-3011539465 data small\" title=\"Author Link\"><a class=\"caption jsx-3011539465 data small\" href=\"/person/MartinCarr1\">Martin Carr</a></object></div></div></a></div><div class=\"content-item jsx-1409608325 row divider\" data-id=\"9f2cefd8-6866-4b57-af70-abf0776b5df2\"><a aria-label=\"The End We Start From Review\" class=\"item-body\" href=\"/articles/the-end-we-start-from-review-jodie-comer\"><div class=\"item-thumbnail\"><span><img alt=\"The End We Start From Review\" class=\"jsx-2920405963 progressive-image jsx-1049729975 item-image aspect-ratio aspect-ratio-16-9 jsx-3398679358 hover-opacity\" decoding=\"async\" src=\"https://assets-prd.ignimgs.com/2023/10/24/the-end-we-start-from-blogroll-1698178525908.jpg?crop=16%3A9&amp;width=282\" srcset=\"https://assets-prd.ignimgs.com/2023/10/24/the-end-we-start-from-blogroll-1698178525908.jpg?crop=16%3A9&amp;width=282 1x, https://assets-prd.ignimgs.com/2023/10/24/the-end-we-start-from-blogroll-1698178525908.jpg?crop=16%3A9&amp;width=282&amp;dpr=2 2x\"/><figure class=\"review-score hexagon-wrapper jsx-468196757 medium\"><div class=\"hexagon\"><span class=\"hexagon-content-wrapper\"><figcaption>4</figcaption></span></div></figure></span></div><div class=\"stack jsx-1197884630 item-details\"><div class=\"caption jsx-3011539465 item-publish-date small\">Oct 24, 2023</div><span class=\"interface jsx-777404155 item-title bold\">The End We Start From Review</span><div class=\"interface jsx-153568585 jsx-957202555 item-subtitle small\">Oct 24, 2023<!-- --> - <!-- -->A mother and daughter escape flooded London in a muted post-apocalyptic drama</div><div class=\"stack jsx-2043432607 item-more-data\"><object class=\"caption jsx-3011539465 data small\" title=\"Related Content Link\"><a class=\"caption jsx-3011539465 data small\" href=\"/movies/the-end-we-start-from\">The End We Start From</a></object><object class=\"caption jsx-3011539465 data small\" title=\"Author Link\"><a class=\"caption jsx-3011539465 data small\" href=\"/person/rafiews\">Rafa Sales Ross</a></object><div class=\"caption jsx-2211226727 comment-count data small\">3</div></div></div></a></div><div class=\"content-item jsx-1409608325 row divider\" data-id=\"2bcb90cd-21e4-41fd-b633-0130938b40a7\"><a aria-label=\"Late Night with the Devil Review\" class=\"item-body\" href=\"/articles/late-night-with-the-devil-review-david-dastmalchian\"><div class=\"item-thumbnail\"><span><img alt=\"Late Night with the Devil Review\" class=\"jsx-2920405963 progressive-image jsx-1049729975 item-image aspect-ratio aspect-ratio-16-9 jsx-3398679358 hover-opacity\" decoding=\"async\" src=\"https://assets-prd.ignimgs.com/2023/10/23/late-night-with-the-devil-blogroll-1698089615873.jpg?crop=16%3A9&amp;width=282\" srcset=\"https://assets-prd.ignimgs.com/2023/10/23/late-night-with-the-devil-blogroll-1698089615873.jpg?crop=16%3A9&amp;width=282 1x, https://assets-prd.ignimgs.com/2023/10/23/late-night-with-the-devil-blogroll-1698089615873.jpg?crop=16%3A9&amp;width=282&amp;dpr=2 2x\"/><figure class=\"review-score hexagon-wrapper jsx-468196757 medium\"><div class=\"hexagon\"><span class=\"hexagon-content-wrapper\"><figcaption>6</figcaption></span></div></figure></span></div><div class=\"stack jsx-1197884630 item-details\"><div class=\"caption jsx-3011539465 item-publish-date small\">Oct 23, 2023</div><span class=\"interface jsx-777404155 item-title bold\">Late Night with the Devil Review</span><div class=\"interface jsx-153568585 jsx-957202555 item-subtitle small\">Oct 23, 2023<!-- --> - <!-- -->David Dastmalchian lifts up a middling demon possession schlockumentary</div><div class=\"stack jsx-2043432607 item-more-data\"><object class=\"caption jsx-3011539465 data small\" title=\"Related Content Link\"><a class=\"caption jsx-3011539465 data small\" href=\"/movies/late-night-with-the-devil\">Late Night with the Devil</a></object><object class=\"caption jsx-3011539465 data small\" title=\"Author Link\"><a class=\"caption jsx-3011539465 data small\" href=\"/person/jarrodwjones\">Jarrod Jones</a></object><div class=\"caption jsx-2211226727 comment-count data small\">17</div></div></div></a></div></section><section class=\"right-rail\"><div class=\"jsx-3890157964 wrapper\"><div class=\"jsx-303009029 adunit-wrapper\"><div class=\"jsx-303009029 bobble bobble-0 pogocnt pg-index\"><div class=\"jsx-343126785 pogo-slot\" data-mix-name=\"smallAd\" data-pogo-hide=\"1\" data-pos=\"0\"></div></div></div><div class=\"stack jsx-2101331117\"><h3 class=\"title3 jsx-115949532\">Popular Platforms</h3></div><div class=\"jsx-4207328966 divider\"></div><div class=\"stack jsx-844896408\"><a class=\"interface jsx-153568585 muted\" href=\"/reviews/games/3ds\">3DS</a><a class=\"interface jsx-153568585 muted\" href=\"/reviews/games/iphone\">iPhone</a><a class=\"interface jsx-153568585 muted\" href=\"/reviews/games/mac\">Mac</a><a class=\"interface jsx-153568585 muted\" href=\"/reviews/games/nintendo-switch\">Nintendo Switch</a><a class=\"interface jsx-153568585 muted\" href=\"/reviews/games/pc\">PC</a><a class=\"interface jsx-153568585 muted\" href=\"/reviews/games/ps4\">PS4</a><a class=\"interface jsx-153568585 muted\" href=\"/reviews/games/ps5\">PS5</a><a class=\"interface jsx-153568585 muted\" href=\"/reviews/games/wii-u\">Wii U</a><a class=\"interface jsx-153568585 muted\" href=\"/reviews/games/xbox-one\">Xbox One</a><a class=\"interface jsx-153568585 muted\" href=\"/reviews/games/xbox-4\">Xbox Series X</a></div></div></section></section></div><section class=\"box-wrapper jsx-537794787 grid-break\"></section></section>\n"
     ]
    }
   ],
   "source": [
    "print(sections)"
   ]
  },
  {
   "cell_type": "code",
   "execution_count": 126,
   "id": "8703d199",
   "metadata": {},
   "outputs": [],
   "source": [
    "figcaption_elements = soup.findAll('figcaption')\n",
    "\n",
    "figcaption_values = []\n",
    "for figcaption_element in figcaption_elements:\n",
    "    figcaption_value = figcaption_element.text\n",
    "    figcaption_values.append(figcaption_value)"
   ]
  },
  {
   "cell_type": "code",
   "execution_count": 127,
   "id": "244cc2b0",
   "metadata": {},
   "outputs": [
    {
     "data": {
      "text/plain": [
       "['8', '6', '7', '8', '7', '7', '4', '4', '6', '4', '6']"
      ]
     },
     "execution_count": 127,
     "metadata": {},
     "output_type": "execute_result"
    }
   ],
   "source": [
    "figcaption_values"
   ]
  },
  {
   "cell_type": "code",
   "execution_count": 128,
   "id": "738a21b8",
   "metadata": {},
   "outputs": [],
   "source": [
    "review_links = soup.find_all('a', class_='item-body')\n",
    "\n",
    "hrefs = []\n",
    "for review_link in review_links:\n",
    "    href = review_link.get('href')\n",
    "    hrefs.append(href)"
   ]
  },
  {
   "cell_type": "code",
   "execution_count": 129,
   "id": "633fad77",
   "metadata": {},
   "outputs": [
    {
     "data": {
      "text/plain": [
       "['/articles/its-a-wonderful-knife-review',\n",
       " '/articles/the-hunger-games-the-ballad-of-songbirds-and-snakes-review',\n",
       " '/articles/the-marvels-review-brie-larson-samuel-l-jackson-mcu',\n",
       " '/articles/divinity-review-bella-thorne-eddie-alcazar',\n",
       " '/articles/the-killer-review-david-fincher-michael-fassbender-netflix',\n",
       " '/articles/five-nights-at-freddys-review',\n",
       " '/articles/freelance-review-john-cena-alison-brie',\n",
       " '/articles/cobweb-geomijip-review-song-kang-ho-kim-jee-woon',\n",
       " '/articles/the-end-we-start-from-review-jodie-comer',\n",
       " '/articles/late-night-with-the-devil-review-david-dastmalchian']"
      ]
     },
     "execution_count": 129,
     "metadata": {},
     "output_type": "execute_result"
    }
   ],
   "source": [
    "hrefs"
   ]
  },
  {
   "cell_type": "code",
   "execution_count": 130,
   "id": "faaa3679",
   "metadata": {},
   "outputs": [
    {
     "name": "stdout",
     "output_type": "stream",
     "text": [
      "{'Title': \"It's a Wonderful Knife Review - IGN\", 'Score': '8', 'Paragraph': 'It’s a Wonderful Knife is an excellent title for a Christmas slasher movie. So excellent, it’s surprising no one thought of it before. (That’s the sign of a good pun – it seems obvious, even inevitable.) Unfortunately, nothing else about the film matches that level of inspiration.'}\n",
      "{'Title': \"It's a Wonderful Knife Review - IGN\", 'Score': '8', 'Paragraph': 'The opening sequence glows with the warm incandescent light of a Hallmark or Lifetime Christmas movie, introducing an idyllic town square full of smiling citizens in festive sweaters to match. Angel Falls is celebrating its annual Christmas tree lighting ceremony, and everything seems perfect – at least on the surface. (Behind the scenes, there’s some family drama going on, but that’s not really important.) Then “The Angel,” an anonymous killer in a white cape and smooth, featureless white mask, appears at a raucous Christmas Eve party attended by our ostensible lead, Cara (Hana Huggins). Given that this is a slasher movie, it’s not hard to guess what happens next.'}\n",
      "{'Title': \"It's a Wonderful Knife Review - IGN\", 'Score': '8', 'Paragraph': 'Fifteen minutes in, a title card appears on screen, and the real story begins. As it turns out, Cara is not the protagonist of It’s a Wonderful Knife – her BFF Winnie (Jane Widdop) is. A year has passed since Cara’s artfully staged murder at the aforementioned party, and Winnie is appalled by her family’s reluctance to talk about what happened. So she storms off, like the angsty adolescent she is.'}\n",
      "{'Title': \"It's a Wonderful Knife Review - IGN\", 'Score': '8', 'Paragraph': 'When she returns home, she finds that The Angel was not caught the previous Christmas, and is still terrorizing the citizens of Angel Falls. Winnie’s parents don’t recognize her, her brother is dead, and the town has the barrel-fire-and-boarded-up-windows vibe of a backlot shanty town. It’s almost like… she was never born. The “It’s a Wonderful Life, but with a killer” concept unfolds dependably from there, hitting every beat down to giving Winnie a Clarence – who’s aware she’s a Clarence, and says as much out loud at one point – in the form of teen outcast Bernie (Jess McLeod). Without spoiling too much, their relationship takes a refreshing turn towards the end of the movie. '}\n",
      "{'Title': \"It's a Wonderful Knife Review - IGN\", 'Score': '8', 'Paragraph': 'Screenwriter Michael Kennedy isn’t  beholden to only holiday-season staples here: In addition to the Scream-esque intro, there are traces of I Know What You Did Last Summer and other ’90s teen horror films. But the biggest shadow looming over It’s A Wonderful Knife is cast by Kennedy himself: He also wrote Freaky, the cheeky, blood-soaked 2020 horror riff on Freaky Friday directed by Christopher Landon. That film surpasses this one in terms of agility, which is less a reflection on Kennedy’s script than director Tyler Macintyre’s handling of it. Macintyre, who also directed 2017’s Tragedy Girls, displays an admirable grasp on, and respect for, the craft of suspense, particularly in the opening kill scene. And a slasher lives and dies (no pun intended) by its fundamentals, which takes It’s A Wonderful Knife a long way.'}\n",
      "{'Title': \"It's a Wonderful Knife Review - IGN\", 'Score': '8', 'Paragraph': 'Stunt casting does little to lighten the sometimes-leaden stabs at comedy. In the role of Winnie’s dad, Joel McHale’s best scene is a dramatic one, believe it or not; Justin Long’s villainous turn, while fun at times, is taking place in a different, more heightened reality than the snarky, self-aware dimension where most of his co-stars reside.'}\n",
      "{'Title': \"It's a Wonderful Knife Review - IGN\", 'Score': '8', 'Paragraph': 'There are a few good performances in It’s a Wonderful Knife: Widdop puts a heroic effort into her final-girl role, and Katharine Isabelle is charmingly unhinged as Winnie’s drunk lesbian aunt. (The only people who believe Winnie’s story are lesbians, a reflection of Kennedy’s queer sensibility.) And, again, the kills are solid enough to satisfy devoted slasher fans. But this is neither the writer nor the director’s tightest or most polished work. Is it enough of a misstep to destroy either of their careers? Probably not. They’ll reboot. It’s what they do.'}\n",
      "{'Title': 'The Hunger Games: The Ballad of Songbirds and Snakes Review - IGN', 'Score': '6', 'Paragraph': 'We know what we’re in for when we sit down for a Hunger Games movie. Adapted from Suzanne Collins’ trilogy for young adults, they’re full of commentary-via-metaphor on class, politics, war, propaganda, and the inherent violence of the entertainment industry. Children are made to fight to the death in dangerous arenas on live television, a nightmare inversion of reality TV and game shows in which gaining the favor of a vapid, privileged audience can mean just as much as archery skills. The Games’ conflicts are won not with true combat, but with deceit and manipulation. Director Francis Lawrence returns to the franchise for its newest installment, The Hunger Games: The Ballad of Songbirds and Snakes (based on Collins’ 2020 book), a prequel that has all the potent ingredients of the previous films and then some, making for an enjoyable yet thin adaptation that needs much more time to make its complex story truly compelling. '}\n",
      "{'Title': 'The Hunger Games: The Ballad of Songbirds and Snakes Review - IGN', 'Score': '6', 'Paragraph': 'We’re treated to a short prologue set in “The Dark Days” immediately after the Districts’ war with the Capitol. The megacity has been reduced to rubble and young Tigris and her little cousin Coriolanus Snow witness a man cutting off a corpse’s leg for meat. We fast-forward to the present, the eve of the 10th annual Hunger Games, a collective punishment to indicate in no uncertain terms the Capitol’s absolute mastery over the Districts. Coriolanus (a bleach-blonde Tom Blyth) is close to graduating from his secondary school and attending a prestigious university, but not before his class is ordered to partner with the unfortunate child tributes of the Hunger Games in the event’s first mentorship program. For Coriolanus, the situation is desperate: The mentor of this year’s victor will receive a monetary prize that will allow Coriolanus to buy his grandmother and his cousin (an underused Hunter Schafer) out of poverty and their once-grand, now-shoddy apartment. '}\n",
      "{'Title': 'The Hunger Games: The Ballad of Songbirds and Snakes Review - IGN', 'Score': '6', 'Paragraph': 'This new mandate is one of many changes to this year’s Games. Viewership is down – it’s implied that Capitol citizens no longer find much entertainment in watching kids violently kill each other. The mentors are told they must find ways to turn the Games into a real spectacle, something that will keep the people watching. (There’s that commentary on the entertainment industry again.) Coriolanus’ mentee Lucy Gray Baird (a vibrant Rachel Zegler), a traveling singer from District 12, seems hopeless at first, until her talent for showmanship proves she’s at least ready to make a lasting impression on the viewers at home. That, paired with Coriolanus’ sneaky self-serving streak and ability to ingratiate himself with real power players like magician-weatherman-host Lucretius “Lucky” Flickerman (a hysterically funny Jason Schwartzman) mad-scientist Games designer Dr. Volumnia Gaul (Viola Davis in retro Disney villain mode), stack the odds in their favor. '}\n",
      "{'Title': 'The Hunger Games: The Ballad of Songbirds and Snakes Review - IGN', 'Score': '6', 'Paragraph': 'There are wrinkles, of course. Coriolanus’ school friend Sejanus Plinth (Josh Andrés Rivera) is District-born but blessed with a wealthy and well-connected father who was able to purchase his son a Capitol education. As such, he sympathizes with the citizens trapped in the Districts and with the rebel insurgents who are still at large on Capitol territory, and Coriolanus constantly has to keep him in check. And, naturally, Coriolanus and Lucy Gray begin to fall for each other, making it even more of an imperative for him to do anything to keep her alive. '}\n",
      "{'Title': 'The Hunger Games: The Ballad of Songbirds and Snakes Review - IGN', 'Score': '6', 'Paragraph': 'It’s a good story, and a good setting for a prequel. It sets up and mostly answers plenty of interesting questions: Who created the Hunger Games? What are they really for? How did Coriolanus Snow (who is the villainous president played by Donald Sutherland by the time of the previous films) get so bad? But the density of its plot – it takes place over the course of one entire Hunger Games, plus its aftermath – made me wish it was either longer (it’s already pushing three hours) or split in half, as with the trilogy’s final book Mockingjay. Unlike Mockingjay, there is enough material here for two movies – The Ballad of Songbirds and Snakes doesn’t have enough time to depict the interplay of emotions and manipulations that make up Coriolanus and Lucy Gray’s relationship. '}\n",
      "{'Title': 'The Hunger Games: The Ballad of Songbirds and Snakes Review - IGN', 'Score': '6', 'Paragraph': 'That fluctuating duality ought to be the driving force behind the action here. The audience should be asking themselves which, of any, character is truly genuine in their actions, or if everything is simply a means to an end. In Lucy Gray’s opening scene, she defiantly sings a local folk song on live TV and slips a snake down the back of an enemy’s dress, perhaps already aware that in order to win the Games, you have to put on a show. Coriolanus is constantly shown stepping aside from or actively participating in the downfalls of those he considers friends. And yet the movie never introduces the question of who is using who until the very end, when the outcome is inevitable. It treats Coriolanus’ slow yet steady descent as a heel-turn twist rather than the predetermined result of his circumstances and his personality, a shift that feels like a grand reveal instead of the tragedy that it is. '}\n",
      "{'Title': 'The Hunger Games: The Ballad of Songbirds and Snakes Review - IGN', 'Score': '6', 'Paragraph': 'And the film is a tragedy, at its heart. I will say this is maybe the first time that a Hunger Games movie has really driven the point home that these are children killing children – the stripped-down empty sports hall sits in stark contrast to the flash and pomp of the terraformed environments of future arenas, with no beautiful scenery or eye-catching wildlife to distract from the brutal violence. The spectacle feels real, but the rest doesn’t add quite enough to put on a good show.'}\n",
      "{'Title': 'The Marvels Review - IGN', 'Score': '7', 'Paragraph': 'Comic books are art in hundreds of ways, but perhaps the most undervalued of those ways – particularly in superhero comics – is their ability to make you belly laugh while wildly tragic events are unfolding. Sure, there are sad comic books and serious comic books and somber comic books, and the same can be said for comic book films. But if you love that first kind I mentioned in the same way that I do, I suspect you are going to have a grand time with The Marvels. '}\n",
      "{'Title': 'The Marvels Review - IGN', 'Score': '7', 'Paragraph': 'With her inaugural outing in the Marvel Cinematic Universe, Nia DaCosta directs the kind of film that leaves you grinning well after the credits roll. It’s made up of heart and soul and spirit and all of the piss and vinegar you’d expect from a story featuring three stellar leading ladies. Captain Marvel (Brie Larson) is more human than the franchise has ever allowed before this point, Monica Rambeau (Teyonah Parris) is as bright and bold as ever, and Ms. Marvel (Iman Vellani) predictably steals the show.'}\n",
      "{'Title': 'The Marvels Review - IGN', 'Score': '7', 'Paragraph': 'Perhaps what’s most refreshing here is that where Captain Marvel – despite its merits – felt like a living, breathing ad for military recruitment (no, really, there were literal Air Force ads), The Marvels is the antithesis of that. In fact, the primary conflict is centered on Carol Danvers’ wartime mistakes and their fallout. Our villain, Dar-Benn (Zawe Ashton), is a survivor of the Kree civil war that followed Captain Marvel’s destruction of the Supreme Intelligence, the AI that ruled over Dar-Benn’s home planet of Hala. Hala is dying as a result, and Dar-Benn will stop at nothing to save it and her people.'}\n",
      "{'Title': 'The Marvels Review - IGN', 'Score': '7', 'Paragraph': 'While she’s certainly a sympathetic villain, Dar-Benn is unfortunately one of the weakest parts of The Marvels (through no fault of Ashton’s). Marvel struggled with undeveloped baddies in Phase 1, and it continues to struggle with underdeveloped baddies in Phase 5. She’s simply not given a whole lot to do beyond serving as the reason that Carol, Monica, and Kamala are together. Also, many of the Kree lackeys look pretty cool thanks to makeup and costume designs, but her right hand man is just some dude with a manbun (Ty-Rone, played by Daniel Ings). It’s strange!'}\n",
      "{'Title': 'The Marvels Review - IGN', 'Score': '7', 'Paragraph': 'As Carol reckons with her mistakes, she is also given the opportunity to be a person. Don’t take that to mean that this is the Captain Marvel show, though: Despite the shift of focus in recent trailers, The Marvels very much centers on all three of its leads. Each member of the ensemble gets a full character arc, with their closing moments giving them the opportunity to find closure, peace, or a way forward. For this chapter, at least.'}\n",
      "{'Title': 'The Marvels Review - IGN', 'Score': '7', 'Paragraph': 'That’s noteworthy not just because writers DaCosta, Megan McDonnell and Elissa Karasik had the tall task of cramming three complete storylines into the MCU’s shortest movie yet, but because The Marvels matters a great deal to the franchise as a whole. The ending and the post-credits scene set up very consequential happenings in this universe and beyond, and it leaves you just as it should: excitedly wondering where all of this could go next.'}\n",
      "{'Title': 'The Marvels Review - IGN', 'Score': '7', 'Paragraph': 'Maybe it will be some kind of resolution for the Skrulls, because watching this species get beaten down has gotten kind of tiring. They cannot catch a break, and neither Carol Danvers nor Nick Fury (Samuel L. Jackson) is doing a damn thing about it. In that same vein, there may have been a version of this movie that tied to Secret Invasion, but it’s not the one coming to a theater near you. There is connective tissue to other MCU shows besides Ms. Marvel, but you’re going to have a hard time guessing which – and that’s a compliment.'}\n",
      "{'Title': 'The Marvels Review - IGN', 'Score': '7', 'Paragraph': 'Fury deserves to be smacked by every Skrull he encounters, but the fact still remains that he is at his best alongside Carol Danvers. The same can now also be said for Monica and Kamala, as he acts as a mentor to the former and a role model to the other. He spends much of his time in The Marvels with Kamala’s family – a surprising and delightful pairing. '}\n",
      "{'Title': 'The Marvels Review - IGN', 'Score': '7', 'Paragraph': \"The Marvels’ greatest strength is most certainly its ensemble, but the comedy is a close second. A team-up to halt an intergalactic revenge plot isn’t a story that screams “hilarious”, but this one is brimming with laughs from start to finish. It evokes the silliness of DC’s Legends of Tomorrow more than once, and even goes slapstick a few times early on, all of which plays quite well and never at the expense of the film's downbeat moments. The Marvels simply understands that many of the things that unfold in superhero yarns – particularly this one – are deeply silly, or weird, or uncomfortable, and has no interest in self-seriousness in the face of that silliness and discomfort. Sometimes, the answer is to simply stop running from the Flerken. \"}\n",
      "{'Title': 'The Marvels Review - IGN', 'Score': '7', 'Paragraph': 'Speaking of Flerken, the visual effects here look quite solid. It’s amazing what can be accomplished when VFX artists are given time to cook, which is exactly what happened: The Marvels swapped release dates with Ant-Man and the Wasp: Quantumania, giving the teams behind this film more runway and their Quantumania counterparts, well… we all saw what happened there. The Marvels does have a couple of less-than-stellar frames but, on the whole, it is a vast improvement on recent MCU fare.'}\n",
      "{'Title': 'The Marvels Review - IGN', 'Score': '7', 'Paragraph': 'DaCosta delivers a film with no bloat, tons of heart, and endless laughs. You can see bits and pieces of her style sprinkled throughout the film, even if the spots where the Marvel Machine took over are evident. If we’re very lucky, maybe we’ll see her return to the MCU for future projects. But, in the meantime, we can say for sure that this isn’t the end of Carol, Monica, or Kamala’s stories, and The Marvels will leave you wanting more of them immediately.'}\n",
      "{'Title': 'Divinity Review - IGN', 'Score': '8', 'Paragraph': 'Divinity, the fifth film by Eddie Alcazar, is a strange and propulsive curio. Part retrofuturistic sci-fi, part meditation on masculine form (and shot entirely in black-and-white), it has the kind of plot you can only half-describe on paper, but its oblique genre musings are presented in alluring and esoteric fashion, making it hard to look away. Inventor and marketer Jaxxon Pierce (Stephen Dorff) creates an immortality serum that changes the world as we know it, but this incurs the wrath of supernaturally powered beings from… somewhere, and somewhen. Earth? A distant galaxy? Centuries in the future? It’s hard to be sure. Divinity isn’t concerned with these details, but rather with the anxieties surrounding mortality in the modern world. These pieces don’t always fit together, and they can be frustrating to interpret, but the result is never boring, thanks to images you’ve likely never seen assembled this way.'}\n",
      "{'Title': 'Divinity Review - IGN', 'Score': '8', 'Paragraph': \"Archival footage of a long-dead scientist, Sterling Pierce (Scott Bakula), sets the stage: On the verge of a major breakthrough, Sterling desperately searches for ways to synthesize a chemical that can halt mental and physical aging, though his work is incomplete. Most of the movie unfolds decades later, after Sterling’s sons – the business-minded Jaxxon and the aptly-named bodybuilder Rip (Michael O'Hearn) – have perfected their father’s formula, which they’ve dubbed “Divinity,” and turned it into a global industry. It is, however, intentionally difficult to tell when the story is set, thanks to the design sensibilities Jaxxon’s lavish home, which combines mid-century modern furnishings with screens out of the 1980s and some much more recent technology. It feels like a film out of time, which is precisely the vibe given off by its two groups of otherworldly humanoids, who seldom interact but have their own distinct missions.\"}\n",
      "{'Title': 'Divinity Review - IGN', 'Score': '8', 'Paragraph': 'In a white void, a cult of silent, stoic women in matching bodysuits parse Earthly goings on. Led by their matriarch Ziva (Bella Thorne), they discuss rescuing fertile women and inducting them into their ranks, since this apparent future has seen the human race rendered largely sterile. There’s a godlike benevolence to Ziva, her clan, and the gentle light that envelops them – but it’s hard to tell if these are human women at all, rather than some sort of extraterrestrial lifeforms or even psychic manifestations whose words seem to echo endlessly.'}\n",
      "{'Title': 'Divinity Review - IGN', 'Score': '8', 'Paragraph': 'Meanwhile, in the sprawling desert where Jaxxon has built his isolated mansion, meteor strikes mark the arrival of two young brothers (Moises Arias and Jason Genao). Clad in black vests, their eyes occasionally gleam in sync and their forearms bear what appear to be lengthy, gloved tattoos wrapped all around their skin. Once the brothers make their way to Jaxxon’s residence, they capture him with the use of Star Trek-esque stun guns and speak almost in riddles about the moral havoc Jaxxon either has caused, or will cause – the details are left vague. (Similarly obscured: The enraging secret source of Divinity, which they discover in his lab.) As a form of revenge, the mysterious siblings hook Jaxxon up to a powerful, constant dose of his own chemicals, resulting in a physically grotesque transformation that brings the most troubling aspects of male self-image and body standards into sharp, unyielding focus.'}\n",
      "{'Title': 'Divinity Review - IGN', 'Score': '8', 'Paragraph': 'But when a hired sex worker, Nikita (Karrueche Tran), comes knocking on Jaxxon’s door ahead of the birthday bash he’s planned for that evening, the film switches gears from these half-formed sci-fi concepts, shifting towards the ravenous pleasures of food, dance, and flesh – involving a mutual seduction between Nikita and the brothers that blossoms into a profound mutual understanding.'}\n",
      "{'Title': 'Divinity Review - IGN', 'Score': '8', 'Paragraph': \"While it seems to lack substance at times, calling Divinity's approach “style over substance” would be a misnomer. It’s style as substance, with meaning and intent woven into the fabric of each grainy, high-contrast, 16mm composition: Cinematographer Danny Hiele turns each shadowy frame into a mystery of its own. The camera shakes and quivers, warping the texture of both simple shots of characters engaged in revelry and sweeping drone footage of the surrounding landscape, usually backed by a night sky so clear that it feels like a dream.\"}\n",
      "{'Title': 'Divinity Review - IGN', 'Score': '8', 'Paragraph': 'Divinity often emits an uncanny glow, complemented by its pulsating musical score by Cypress Hill alumnus DJ Muggs and Twin Peaks sound designer Dean Hurley. And while the film often runs the risk of self-absorption – it’s so intent on obfuscating its meaning that its characters occasionally become mere ciphers – Alcazar’s lo-fi flourishes turn it from a potentially pretentious work of arthouse endurance into a charming 86-minute genre throwback. Its action-heavy climax involves highly detailed prosthetics and stop-motion trickery; the whole endeavor plays like a Twilight Zone episode about rebirth as written by a Rod Serling who’s hopped up on techno and MDMA. It’s a party where you may not know a single person, but it has one hell of a vibe.'}\n",
      "{'Title': 'The Killer Review - IGN', 'Score': '7', 'Paragraph': 'The Killer is now streaming on Netflix. This review is based on a screening at the 2023 Venice International Film Festival.'}\n",
      "{'Title': 'The Killer Review - IGN', 'Score': '7', 'Paragraph': \"David Fincher’s new movie, The Killer, calls back to the filmmaker’s Fight Club adaptation, letting the audience in on an unnamed lead character’s inner monologue. In frank voiceover, the titular assassin (Michael Fassbender, in his first feature since 2019’s Dark Phoenix), relates thoughts that span from quotes to live by (some with attribution, others' authors forgotten) to job-focused tactics to the mantra that keeps him focused. “Stick to the plan. Trust no one. Anticipate, don't improvise. Fight only the battle you're paid to fight.” He speaks of what he calls “the void of life,” and how his ability to recognize it sets him apart – not one of the many, but the few.\"}\n",
      "{'Title': 'The Killer Review - IGN', 'Score': '7', 'Paragraph': 'In his seemingly untouchable way, though, he is part of an even more exclusive group: he is the only, and something about that is always ready to be cracked and broken by fate. The Killer is a return to form for Fincher, who has made meals of these kinds of stories in the past, but with this film, he expertly lays bare how untouchability is dismantled by emotion, and how that can force even the most calculated into a quest for a kind of absolution – even a bloody one. '}\n",
      "{'Title': 'The Killer Review - IGN', 'Score': '7', 'Paragraph': 'Fassbender’s character is unflinchingly good at his job, precise in all the ways that would make anyone capable of the emotional compartmentalization necessary to be a first-rate murderer. Despite being a destroyer of worlds, the killer is, at least, truthful in his thoughts, and it allows the audience to root for him as a complicated protagonist. We meet him keeping watch meticulously, doing Patrick Bateman-style yoga in a run-down hideout disguised as a Parisian WeWork. When a run-of-the-mill assignment goes awry, he is forced to adjust his methods, craft a plan to save his skin, and get satisfying revenge in the only way he knows how.  '}\n",
      "{'Title': 'The Killer Review - IGN', 'Score': '7', 'Paragraph': 'Andrew Kevin Walker’s script – based on the French graphic novel series by Alexis “Matz” Nolent – strikes the proper tone, giving the killer both interiority as well as a compelling desire to keep control of his circumstances. Walker’s work even brings a sense of humanity to the character with small tells within the killer’s monologues – tiny moments where we see that his emotional life is as rich as our own.'}\n",
      "{'Title': 'The Killer Review - IGN', 'Score': '7', 'Paragraph': \"Fassbender is smart and stylish in the role, giving us a quiet but weighty performance that leans into the lone-wolf necessities of this perverse line of work. At times, he seems like someone we could find likable if we met him on the street; in other moments, his ruthless brutality is on full display. Tilda Swinton has a small part in the film, but it's nevertheless a pivotal one, and she perfectly embodies the qualities of wise and seasoned yet resigned. To give anything further away about her character would be a spoiler, but it’s a delight to see her show up in this story, even for just a scene. Another short-but-sweet appearance in The Killer comes from a less likely source: BBC journalist Fiona Bruce, an interesting bit of casting but nevertheless a good one. Her performance is natural and nuanced for the few minutes we get with her.\"}\n",
      "{'Title': 'The Killer Review - IGN', 'Score': '7', 'Paragraph': 'Naturally, the film is full of murders, but when the killing ramps up – and it does, in Florida of all places – the big fight scene is a joy. That might sound morbid, but the scene is impeccably choreographed, cut, and edited, to the point where it’s impossible to check out from. The violence is captivating – which might say a lot about society, but Fincher capitalizes on our proclivities, even the bloody ones, in a similar fashion to the way he did in Fight Club.'}\n",
      "{'Title': 'The Killer Review - IGN', 'Score': '7', 'Paragraph': 'By the end of Fincher’s bombastic odyssey, the killer admits something to us. If we too can see the void, then maybe we’re all actually just one of the many – and maybe, just maybe, we’re like him. It’s a poignant closing moment and a reversal of his original philosophy that tells us something crucial about this character: He ultimately always wanted to be one of the many, one of the people who can shed the skin they live in and find some kind of peace within that void. With the ending Fincher and Walker give to the titular killer, full of satisfaction and a prescient calm after the storm, it seems like he may have gotten his wish. As for us? We’re left repeating his mantras, dissecting his work, and, at least in my case, itching to press replay on the whole damn affair.'}\n",
      "{'Title': \"Five Nights at Freddy's Review - IGN\", 'Score': '7', 'Paragraph': \"How did a point-and-click indie horror game become one of the biggest multimedia sensations of the last decade? No jump scare could be more surprising than the sheer runaway success of Five Nights at Freddy's. At the same time, it's not so hard to see what the fuss is about. The first game especially is a novel and ingenious assault on the nerves. Set in an abandoned Chuck E. Cheese-style pizzeria where the animatronic attractions lurch to life at night, the original FNaF drew its cruel power from how helpless it left the player feeling. You have no weapons, no escape route, nothing but a limited range of defensive actions, all linked to a rapidly depleting power source. It was an exercise in nightmare minimalism – a surveillance simulator of doom. The fanbase was deserved, if still unfathomably massive.\"}\n",
      "{'Title': \"Five Nights at Freddy's Review - IGN\", 'Score': '7', 'Paragraph': \"That this relentlessly milked cash cow and merchandising gold mine would eventually be turned into a movie was inevitable. So, too, were the challenges facing any filmmaker attempting to bring Freddy and his roving robot friends from monitor to silver screen. A master of suspense, like John Carpenter in his prime, could maybe have preserved the single-setting claustrophobia – that sense of being locked in one place as evil approaches from all sides. What we get instead from director and co-writer Emma Tammi, producer Jason Blum, and the game's original creator, Scott Cawthon, is a Five Nights at Freddy's that's been opened up in multiple respects, none of them agreeable.\"}\n",
      "{'Title': \"Five Nights at Freddy's Review - IGN\", 'Score': '7', 'Paragraph': 'Out of viable occupational options after mistaking a bad dad for a kidnapper at the mall, security guard Mike Schmidt (Josh Hutcherson) reluctantly agrees to work the graveyard shift watching over the long-shuttered \\'80s eatery Freddy Fazbear\\'s Pizza, where the synthetic entertainers prove less… immobile than one might hope. Mike arguably has bigger problems than the fearsome oversized animal mascots stomping around his new workplace. If he doesn\\'t get his act together, he might lose custody of his kid sister (Piper Rubio) to his cartoonishly villainous aunt (Mary Stuart Masterson). We know she\\'s a monster, organic rather than mechanical, because she\\'s rude to service workers: \"Are you being paid by the word?\" she quips at a waiter. Given the volume of superfluous gab, you might ask the screenwriters the same thing.'}\n",
      "{'Title': \"Five Nights at Freddy's Review - IGN\", 'Score': '7', 'Paragraph': \"As if premature orphanhood weren't enough, Mike is also haunted by the childhood disappearance of his little brother, who was snatched during a day at the park and never seen again. Yes, contemporary horror's obsession with trauma has breached even the colorful walls of Freddy's. Hutcherson's hero will spend much more time grappling with his demons – and talking to ghosts, figurative and literal – than he will be scanning staticky monitors for signs of herky-jerky movement. Who invited the therapist to the pizza party?\"}\n",
      "{'Title': \"Five Nights at Freddy's Review - IGN\", 'Score': '7', 'Paragraph': \"It'd be nice to report that all this laborious melodrama is just the setup for fun-center fun. The movie's heart monitor does briefly, faintly spike once Mike actually settles into security detail inside the deserted restaurant, a flickering neon graveyard of a play place. Rather than lock us into a nightmarish night shift, though, this Five Nights keeps scanning for an exit. No sooner are we on Freddy's turf than we're back in suburbia, watching Mike fight for custody or entertain a quasi-romance with a local cop (Elizabeth Lail) so full of helpful tidbits of backstory that they could have named her Officer Exposition. Here, the title proves less of a promise of escalating nocturnal danger than an excuse to break up the supposed horror with endless daytime soap.\"}\n",
      "{'Title': \"Five Nights at Freddy's Review - IGN\", 'Score': '7', 'Paragraph': \"There's somehow too much and not enough of the animatronics. Created by the Jim Henson Creature Shop, they naturally look pretty cool – both faithful to the game design and credible, physical machinery, like something you might have scarring memories of seeing in the '80s or '90s. But the movie doesn't seem entirely sure of how scary it's allowed to make them. Yes, tweens will see this PG-13 horror movie, but they also play the games, and the robots are rather frightening there – in part, it must be said, because you only ever see them locked in staring place, waiting for you to look away before they move again, à la those statue phantoms from Doctor Who. Here, they kind of lumber around like Barney, shedding menace by the heavy footstep. And the movie makes a huge miscalculation in turning them into misunderstood monsters, with an origin story that's technically from the games but deflating in adaptation.\"}\n",
      "{'Title': \"Five Nights at Freddy's Review - IGN\", 'Score': '7', 'Paragraph': \"There was a mockbuster version of this premise a few years ago: the zero-budget Willy's Wonderland, starring an unusually silent Nicolas Cage and some off-brand mascot beasties. That movie was pure junk, a transparent attempt to will a cult film into existence. But in its chintzy, bottom-dollar way, it better capitalized on the appeal of Five Nights at Freddy's: the retro-cheese-gone-bad vibes of the locale, the mechanical gait of the monsters, the sense of a nostalgic memory of family fun corrupted by unholy forces. This more polished, authorized take has the official Freddy seal, but little else going for it; the sadistic thrill of the game disappears under a mountain of plot. If it came first, there would be no Five Nights empire to exploit.\"}\n",
      "{'Title': 'Freelance Review - IGN', 'Score': '4', 'Paragraph': 'Freelance is a rarity in how dead it appears on arrival. Director Pierre Morel is a shell of the filmmaker who made action romps Taken and Peppermint; this lifeless action rom-ish-com fails every genre in its multi-hyphenate description. Writer Jacob Lentz’s thoughtless feature debut screenplay is a shambles of contradictory dialogue and forgotten plotlines whose thematic fumbles are fit for an ESPN Not Top 10 reel. At no point does anyone in front of or behind the camera seem to understand the movie they’re making. It’s a mess from start to finish, but not the fun type of disaster where bad turns to worse with entertaining discombobulation.'}\n",
      "{'Title': 'Freelance Review - IGN', 'Score': '4', 'Paragraph': 'John Cena stars as ex-special forces operative Mason Pettits. He’s injured in combat, becomes a numb-to-the-world lawyer, and then attempts to relocate his sense of purpose by accepting a private-security contract. Cena narrates an ugly first-person introduction in which Pettits dishes out military propaganda that explains why he enlisted instead of pursuing the wife-kids-and-white-picket-fence lifestyle. Are we supposed to laugh at how much he loathes the thought of living in the suburbs, like a “joke” about how he’d get bored and end up having an affair with his hot neighbor? It’s never clear because Freelance’s Dust Bowl-dry sense of humor isn’t witty enough to be sardonic nor obvious enough to be slapstick.'}\n",
      "{'Title': 'Freelance Review - IGN', 'Score': '4', 'Paragraph': 'It’s an awful introduction to a movie with limp convictions that starts with an unhappy veteran’s decision to chase mercenary work motivated by a pending divorce. Poor Alice Eve plays Pettits’ wife, who presents like a glitchy, AI-generated Lifetime Original Movie character who in a single conversation declares she’s “done” with her husband and suggests he should leave, then gets furious when he says he took a job overseas and will leave, then forgets all that and angrily tells him they’re dangerously close to over again. This carelessness is par for the course in Lentz’s amnesiac screenplay, which only worsens with the introduction of discouraged celebrity gossip journalist Claire Wellington (Alison Brie). Pettits is employed to provide protection services on Wellington’s trip to Paldonia, a war-torn, geographically ambiguous nation where she’ll interview a divisive dictator, President Juan Venegas (Juan Pablo Raba).'}\n",
      "{'Title': 'Freelance Review - IGN', 'Score': '4', 'Paragraph': \"There’s a bounty of drama in Freelance that we should care about. For one, Pettits blames Venegas for an incident from a previous tour of duty, when Paldonian missiles shot down his transport chopper, killed half his squadron, and left him with chronic back issues. Christian Slater plays Pettits’ closest comrade from his special forces days and new boss – and he’s suspiciously the one who sends Pettits on a mission involving Venegas. The seeds of betrayal are planted, but Lentz doesn’t seem to have the attention span to see storytelling dynamics blossom into exceptional conclusions. Over and over, setups deflate upon payoff or are lazily discarded, like the devastating spinal damage that makes an opening fight scene painfully difficult for Pettits to complete – it's forgotten by the third act, in which Pettits is as agile as a gymnast (or, you know, a professional wrestler) with no physical repercussions.\"}\n",
      "{'Title': 'Freelance Review - IGN', 'Score': '4', 'Paragraph': 'Freelance is an eyesore of GoPro-style cinematography, horrendous digital effects, and uninspired action. There’s no moviemaking magic: stunt doubles hardly hide their identities, green-screened backgrounds come across like foliage-patterned shower curtains hung behind actors on horseback, and sets look like plywood replicas an inch away from exposing the sound stage beyond their borders. The visual composition of Freelance is unacceptably flat, with as much flavor as a mayonnaise glob between stale Wonder Bread slices. You can see all the seams as RPGs fire missiles on wires or pixelated helicopters crash into lush Paldonian jungle floors, as if post-production departments crammed all their assignments into the night before they were due.'}\n",
      "{'Title': 'Freelance Review - IGN', 'Score': '4', 'Paragraph': \"The only chuckles come from Cena and Raba forcing their charms through abysmally written character – Cena the Adonis action hero prototype, and Raba the (supposed) eccentric tyrant with a heart (and revolver) of gold. Cena and Brie have less sexual chemistry than Dwayne Johnson and Jason Statham in Hobbs & Shaw, rendering any will-they/won’t-they as impotent as the majority of Freelance’s performances. Lentz and Morel are terrible when sustaining long-form storytelling, and Pettits, Venegas, and Wellington learn nothing because Freelance doesn’t teach lessons, it just reads the answers aloud. Depictions of corporate disgust, anarchistic coups, and senseless killing are lifelessly plastic, using the hardships that plague underdeveloped nations as a “zany” backdrop for a shoot-'em-up gone putrid.\"}\n",
      "{'Title': 'Freelance Review - IGN', 'Score': '4', 'Paragraph': 'Freelance is non-stop frustration, repeating dud after dud as it tries to figure out what type of movie it is in real time. Is it the self-serious international political commentary about greedy capitalist regimes? The buddy comedy about an expert soldier and gunslinging leader who establish a brotherhood despite their differences? The romantic back-and-forth where a journalist and bodyguard find their purposes (or temptations) entwined? Nothing suggests that either Morel or Lentz know themselves, as made evident by the litany of follies that make it into the final cut.'}\n",
      "{'Title': 'Cobweb (Geomijip) Review - IGN', 'Score': '4', 'Paragraph': 'This review is based on a screening at the 2023 BFI London Film Festival.'}\n",
      "{'Title': 'Cobweb (Geomijip) Review - IGN', 'Score': '4', 'Paragraph': 'With the ceiling on fire, Kim Ki-yeol (Song Kang-ho) risks life and limb directing his latest film, convinced it will become an instant classic of Korean cinema, despite collapsing sets and government officials determined to shut things down. This is the all-consuming Cobweb of paranoia writer-director Kim Jee-woon explores with his audience, as hidden agendas, fragile egos, and mental breakdowns pour gasoline on the problems of moviemaking under a microscope in 1970s South Korea.  '}\n",
      "{'Title': 'Cobweb (Geomijip) Review - IGN', 'Score': '4', 'Paragraph': 'What follows is a combination of slapstick farce and character-driven drama. In a performance of extremes from Song, Ki-yeol suffers through stress-induced hallucinations, bone-dry moments of awkward comedy, and melodramatic clashes with Yu-rim, played to pampered perfection by Krystal Jung. Yu-rim stands her ground against the pushy director, giving Cobweb (not to be confused with the 2023 American horror film of the same title) some real substance early on before things go off the rails and writer-director Kim allows his film to drift towards self-indulgence in its collision of fictional worlds.'}\n",
      "{'Title': 'Cobweb (Geomijip) Review - IGN', 'Score': '4', 'Paragraph': 'That’s the main problem with Cobweb: a focus on creative process takes priority, leaving audiences without a story to distract them from the needless, ultimately overbearing display of visual showmanship. As much as Kim would like Cobweb to compete with Alejandro E. Inarritu’s Birdman or (The Unexpected Virtue of Ignorance) in terms of storytelling, it comes closer to James Franco’s The Disaster Artist in execution, if not subject matter. For some that might sound harsh, since Cobweb featured out of competition at Cannes this year and boasts solid performances from Im Soo-jung (reuniting with Kim after 2004’s A Tale of Two Sisters), as well as Jeon Yeo-been, making a formidable impression as the heir to studio head President Baek (Jang Young-Nam).'}\n",
      "{'Title': 'Cobweb (Geomijip) Review - IGN', 'Score': '4', 'Paragraph': 'However, if Cobweb succeeds anywhere beyond those central performances, it comes through best in Kim’s desire to understand the importance of cinema for writer-directors such as himself – on this occasion, he seems to have used filmmaking as some form of therapy. He puts Ki-yeol in the crosshairs of narrow-minded politicians who see no value in cinema beyond a means of spreading propaganda. If he had allowed more of that to come through in Cobweb, then this might have become a film with something original to say about the state of censorship. Sadly, it turns into an exercise in self-indulgence that will leave most audiences wondering about the point he’s trying to make.   '}\n",
      "{'Title': 'Cobweb (Geomijip) Review - IGN', 'Score': '4', 'Paragraph': 'It is a shame Kim decided to take things in a direction that adds little value beyond showcasing cinematic techniques. When the chaos created by a closed set fails to make people laugh in its final minutes, Cobweb turns into a claustrophobic scramble for closure that undermines any political statements, leaving an audience oblivious to the underlying message. All the preceding scenes of slapstick that concealed something more serious beneath the surface lose their power when technical razzle-dazzle overshadows everything else. Numerous obstacles may stand between an exasperated Ki-yeol and his efforts to finish a film that never measures up to the masterpiece in his mind, but as events inevitably escalate, Cobweb reveals itself to be nothing more than an exercise in style over substance.'}\n",
      "{'Title': 'The End We Start From Review - IGN', 'Score': '6', 'Paragraph': 'Dystopian films about the end of the world have to balance on their precarious tightrope the terrifying threat of extinction and the human resilience that fuels an almost unshakeable sense of hope. There is no better catalyst for hope than a reminder of the possibilities of a future, and no better reminder of the future than children. Think Alfonso Cuarón’s seminal Children of Men or John Hillcoat’s The Road, two dystopian stories that see ordinary men turn into heroes thanks to a primal desire to defend and protect the children under their care.'}\n",
      "{'Title': 'The End We Start From Review - IGN', 'Score': '6', 'Paragraph': 'Mahalia Belo’s feature debut The End We Start From employs similar tactics. An unnamed mother (Jodie Comer) is forced into early labor when water comes crashing down through the gaping windows of her London townhouse. The water, it turns out, won’t stop coming. With London now submerged, the mother, father R (Joel Fry), and their newborn daughter head out to the countryside, where R’s family lives in a rustic cottage with a fully stocked pantry and fertile ground able to keep their mouths full and their bodies strong. This being a post-apocalyptic drama, their idyllic life in the country can’t last, of course, and soon tragedy comes knocking on their door, breaking apart the family and sending mother and baby on their own journey of survival.'}\n",
      "{'Title': 'The End We Start From Review - IGN', 'Score': '6', 'Paragraph': 'In her novel The End We Start From, author Megan Hunter doesn’t say much about the ecological disaster that renders a global city unlivable, nor does she reveal if the same thing has happened anywhere else. The screenplay adaptation by Alice Birch follows that lead; as director, Belo decides instead to translate literary prose through visual contemplation, with the mother encapsulating the emotional torment of facing the unknown while carrying a small baby in her arms. The film’s greatest triumph lies in the casting of Jodie Comer, an actress capable of communicating even the slightest change of psychological gears, just as effective in moments of passion shared between two lovers as she is while standing on the precipice of oblivion.'}\n",
      "{'Title': 'The End We Start From Review - IGN', 'Score': '6', 'Paragraph': 'Comer is joined by Elisabeth Waterston as a fellow mother at an emergency shelter, Mark Strong as R’s loving dad, and executive producer Benedict Cumberbatch as a soulful nomad. While the latter two have only brief cameos, Waterston slides into the spot of spirited sidekick, punctuating moments of dread with little quips about the not-so-rose-tinted realities of motherhood. It’s a relationship that grows quickly tiresome, the quiet, mourning mother and the one-dimensional friend who exists only to provide the lead character with glaringly manufactured interactions to bring up her backstory. We know as little about the lives of the supporting characters as we know about London’s sudden transformation into an open-air aquarium, and such a disconnect makes it hard to feel for their shortcomings.'}\n",
      "{'Title': 'The End We Start From Review - IGN', 'Score': '6', 'Paragraph': 'And here lies the Achilles heel of Belo’s debut: by favoring muted meditation over a much-needed pinch of dramatic exposure, The End We Start From lacks an emotional pull. We never get to witness the blood-chilling terror of the flood nor are we allowed the time to feel for the people whose lives have been so abruptly uprooted. All attempts to establish sympathy with the mother come from her position as, well, a mother, or hurried flashbacks employed as a crutch whenever the story hits one of its many dead ends. Such aimlessness muddles the film’s timing: while the second act drags endlessly, the conclusion feels rushed, with characters coming in and out of the story with little justification for their existence apart from, of course, advancing the mother’s journey. '}\n",
      "{'Title': 'The End We Start From Review - IGN', 'Score': '6', 'Paragraph': 'By the time a much-teased reunion comes, it feels a bit too little, too late. Patience, it turns out, is a scarce commodity too, and it is tricky to chase down a reward in The End We Start From’s haystack of frustration. It’s a shame, because Belo occasionally captures a glimpse of raw humanity: in the very few moments where Comer gets to dwell on the grief that accompanies motherhood, or the losses that come with beginnings as much as with endings. For just a second, we get to fully comprehend the magnitude of what is at stake.'}\n",
      "{'Title': 'Late Night with the Devil Review - IGN', 'Score': '4', 'Paragraph': 'This review is based on a screening at the 59th Chicago International Film Festival.'}\n",
      "{'Title': 'Late Night with the Devil Review - IGN', 'Score': '4', 'Paragraph': 'Late Night with the Devil, from Australian writer-director siblings Cameron and Colin Cairnes, has more on its mind than merely conjuring late-October chills. Possibly too much. As a period piece fascinated by American talk shows and demonic possession, it’s eager to show its homework. It takes great pains to capture the funky aesthetic of ’70s TV (people in sideburns! Who smoke on set!) and then saddles this groovy costume party with a cultural zeitgeist that paints the story in a grimmer context. It employs practical gore effects that are so charmingly gross that when it starts dressing them up with weaker digital effects, the results sap the low-budget magic. '}\n",
      "{'Title': 'Late Night with the Devil Review - IGN', 'Score': '4', 'Paragraph': 'The premise has spark: Halloween 1977 has fallen on a sweeps week – that do-or-die period of the broadcast calendar prone to ratings-grabbing stunts – and for Jack Delroy (David Dastmalchian), the would-be king of late night, dwindling audience numbers are scarier than a horde of trick-or-treaters. Something has to be done to save Jack’s soul – er, show. '}\n",
      "{'Title': 'Late Night with the Devil Review - IGN', 'Score': '4', 'Paragraph': 'Late Night with the Devil’s found-footage framework kicks off with a six-minute pseudo-documentary montage in which Michael Ironside narrates Delroy’s rise and seemingly imminent fall. “America in the 1970s: An era of mistrust,” Ironside growls, priming us for the on-air chicanery that beaten-down Delroy will soon resort to. Naturally, shots of Richard Nixon’s resignation make an appearance. To belabor this seamy (silly) mood, footage of various killers such as David Berkowitz, Charles Manson, and Ted Bundy are spliced in. Peppered throughout this sequence, as though what we’ve just seen isn’t heavy-handed enough, are images of social upheaval and, more pertinently, Satanism, the era’s favorite source of irrational panic and, clearly, the film’s big hook. The Cairnes aim to blend the devil with the broken spirit of the ’70s; in their zealousness, they only manage an info dump.'}\n",
      "{'Title': 'Late Night with the Devil Review - IGN', 'Score': '4', 'Paragraph': 'Cut to Jack. He’s TV’s genial Midwestern alternative to Johnny Carson’s metropolitan swagger, but the ratings for his show, “Night Owls,” are in the toilet. In desperation, Jack and his hard-drinking producer, Leo (Josh Quong Tart), gin up sensationalist drivel to vie for audience attention. Jack arm wrestles little people and pits draft dodgers against returning soldiers, a veritable Jerry Springer of his time. Purposefully, his onstage antics echo late-night history, like when Madonna went on David Letterman to let Ol’ Dave have it with a few choice expletives. (There’s also a nod to Burt Reynolds’s Tonight Show water fight with Marc Summers.) These moments make Late Night With the Devil feel more lively and spontaneous – more so than the ensuing 86 minutes, which often confuses dead air for mounting dread. '}\n",
      "{'Title': 'Late Night with the Devil Review - IGN', 'Score': '4', 'Paragraph': 'The bulk of Late Night with the Devil is presented as a master recording of “the live TV event that shocked a nation,” a Hail Mary thrown by Jack on October 31, 1977. The lineup for that night’s show includes psychic Christou (Fayssal Bazzi), magician-turned-skeptic Carmichael Hunt (Ian Bliss), and Dr. June Ross-Mitchell (Laura Gordon), who’s written a book based on her experiences with Lilly (Ingrid Torelli), a young Satanic cult survivor. There’s also the Andy Richter to Jack’s Conan, Gus (Rhys Auteri), the faithful sidekick/announcer who’s more pious than showbiz (or Jack) wants him to be. As the night progresses, guests bicker over the existence of the supernatural and then, perplexingly, civility (or the lack of it, in Charmichael’s case). Strange things begin to stack up. Details concerning Jack’s ambition (and the movie’s lore) simmer offstage. Jack, our host who may be more responsible for the oncoming havoc than his aw-shucks demeanor lets on, is only barely holding the whole show together. '}\n",
      "{'Title': 'Late Night with the Devil Review - IGN', 'Score': '4', 'Paragraph': 'This should sound familiar to well-versed horror nuts: Late Night With the Devil is a goofier riff on Lesley Manning and Stephen Volk’s Ghostwatch, a far more subtle and frightening transmission from the faux-broadcast branch of the found-footage family tree. This comparison would be unfair if The Cairnes weren’t so clearly repackaging its gimmick. Ghostwatch aired on the BBC on Halloween night in 1992, employing real television anchors to give the special an air of legitimacy – to the degree that some viewers believed the ghost story unfolding before their eyes was true. Late Night uses real-life horrors to give it some additional color, but it has more fun dabbling in fantasy. Once the chairs begin to float, the movie has shown its hand. The head of subtlety just spins and spins.'}\n",
      "{'Title': 'Late Night with the Devil Review - IGN', 'Score': '4', 'Paragraph': 'Still, it’s an amusing enough spectacle to watch unravel. Dastmalchian is sharp casting; his passion for regional late-night horror hosts is well documented (he created the Dark Horse Comics series Count Crowley in tribute to them), and his charming peculiarities shimmer beneath the unctuous persona of Jack Delroy. (“Where’s Vincent Price when you need him?” he brays to the crowd.) Bliss is a terrific foil for everyone on stage; he’s such an effective asshole that watching him puff on his cigar – after he makes a show of producing it from thin air – is a riot unto itself. He makes everyone squirm (quite literally at one point), and the movie is all the better for it. Torelli has a presence that is just as eerie as the doomed girl she plays. '}\n",
      "{'Title': 'Late Night with the Devil Review - IGN', 'Score': '4', 'Paragraph': 'But while Late Night with the Devil captures the smoky late-’70s miasma through convincing enough set design, its cinematography is less committed to authenticity. The video effects and color grading capture the generic horror-throwback/video-store aesthetics that overcrowd Tubi. But it’s during the black-and-white backstage sequences that the otherwise sturdy artifice shatters completely. While these scenes reveal crucial story details, it just doesn’t seem likely that Jack would speak so candidly to Leo, June, and Gus with a rolling camera in his face – or two, for that matter, as coverage has clearly been shot for these backstage chats that go well beyond typical “archival” footage. That prickliness to get its point across extends to the dialogue, which is so leaden that it dulls talk TV’s off-the-cuff snap and sounds more like a stage play – though, it should be said, the script would adapt into a great one. '}\n",
      "{'Title': 'Late Night with the Devil Review - IGN', 'Score': '4', 'Paragraph': 'None of this is very frightening, sad to say. And the on/offstage melodrama only has stock characters – the nervy host, the cynical guest, the concerned friend, the stern professional, etc. – to rely on. The performances elevate this material, and even those can vary in quality. But when it plays its fiendish games with its format (hypnotism makes one sequence a lot of fun), and Dastmalchian is given space to work his freaky sorcery, Late Night With the Devil goes from dreary rerun to appointment (phony) television.'}\n"
     ]
    }
   ],
   "source": [
    "base_url = 'https://www.ign.com'\n",
    "data_from_urls = []\n",
    "\n",
    "for href, score in zip(hrefs, figcaption_values):\n",
    "    full_url = urljoin(base_url, href)\n",
    "    response = requests.get(full_url, headers=headers)\n",
    "    html_text = response.text\n",
    "    soup = BeautifulSoup(html_text, 'lxml')\n",
    "    page_title = soup.title.text\n",
    "    paragraphs = soup.find_all('p', class_='jsx-3649800006')\n",
    "\n",
    "    for paragraph in paragraphs:\n",
    "        data_from_urls.append({'Title': page_title, 'Score': score, 'Paragraph': paragraph.text})\n",
    "\n",
    "for data in data_from_urls:\n",
    "    print(data)"
   ]
  },
  {
   "cell_type": "code",
   "execution_count": 131,
   "id": "5ef27f6b",
   "metadata": {},
   "outputs": [
    {
     "data": {
      "text/plain": [
       "'Late Night with the Devil Review - IGN'"
      ]
     },
     "execution_count": 131,
     "metadata": {},
     "output_type": "execute_result"
    }
   ],
   "source": [
    "page_title"
   ]
  },
  {
   "cell_type": "code",
   "execution_count": 132,
   "id": "53ebd94e",
   "metadata": {},
   "outputs": [],
   "source": [
    "df = pd.DataFrame(data_from_urls)"
   ]
  },
  {
   "cell_type": "code",
   "execution_count": 133,
   "id": "49b4f641",
   "metadata": {},
   "outputs": [
    {
     "data": {
      "text/html": [
       "<div>\n",
       "<style scoped>\n",
       "    .dataframe tbody tr th:only-of-type {\n",
       "        vertical-align: middle;\n",
       "    }\n",
       "\n",
       "    .dataframe tbody tr th {\n",
       "        vertical-align: top;\n",
       "    }\n",
       "\n",
       "    .dataframe thead th {\n",
       "        text-align: right;\n",
       "    }\n",
       "</style>\n",
       "<table border=\"1\" class=\"dataframe\">\n",
       "  <thead>\n",
       "    <tr style=\"text-align: right;\">\n",
       "      <th></th>\n",
       "      <th>Title</th>\n",
       "      <th>Score</th>\n",
       "      <th>Paragraph</th>\n",
       "    </tr>\n",
       "  </thead>\n",
       "  <tbody>\n",
       "    <tr>\n",
       "      <th>0</th>\n",
       "      <td>It's a Wonderful Knife Review - IGN</td>\n",
       "      <td>8</td>\n",
       "      <td>It’s a Wonderful Knife is an excellent title f...</td>\n",
       "    </tr>\n",
       "    <tr>\n",
       "      <th>1</th>\n",
       "      <td>It's a Wonderful Knife Review - IGN</td>\n",
       "      <td>8</td>\n",
       "      <td>The opening sequence glows with the warm incan...</td>\n",
       "    </tr>\n",
       "    <tr>\n",
       "      <th>2</th>\n",
       "      <td>It's a Wonderful Knife Review - IGN</td>\n",
       "      <td>8</td>\n",
       "      <td>Fifteen minutes in, a title card appears on sc...</td>\n",
       "    </tr>\n",
       "    <tr>\n",
       "      <th>3</th>\n",
       "      <td>It's a Wonderful Knife Review - IGN</td>\n",
       "      <td>8</td>\n",
       "      <td>When she returns home, she finds that The Ange...</td>\n",
       "    </tr>\n",
       "    <tr>\n",
       "      <th>4</th>\n",
       "      <td>It's a Wonderful Knife Review - IGN</td>\n",
       "      <td>8</td>\n",
       "      <td>Screenwriter Michael Kennedy isn’t  beholden t...</td>\n",
       "    </tr>\n",
       "    <tr>\n",
       "      <th>...</th>\n",
       "      <td>...</td>\n",
       "      <td>...</td>\n",
       "      <td>...</td>\n",
       "    </tr>\n",
       "    <tr>\n",
       "      <th>71</th>\n",
       "      <td>Late Night with the Devil Review - IGN</td>\n",
       "      <td>4</td>\n",
       "      <td>The bulk of Late Night with the Devil is prese...</td>\n",
       "    </tr>\n",
       "    <tr>\n",
       "      <th>72</th>\n",
       "      <td>Late Night with the Devil Review - IGN</td>\n",
       "      <td>4</td>\n",
       "      <td>This should sound familiar to well-versed horr...</td>\n",
       "    </tr>\n",
       "    <tr>\n",
       "      <th>73</th>\n",
       "      <td>Late Night with the Devil Review - IGN</td>\n",
       "      <td>4</td>\n",
       "      <td>Still, it’s an amusing enough spectacle to wat...</td>\n",
       "    </tr>\n",
       "    <tr>\n",
       "      <th>74</th>\n",
       "      <td>Late Night with the Devil Review - IGN</td>\n",
       "      <td>4</td>\n",
       "      <td>But while Late Night with the Devil captures t...</td>\n",
       "    </tr>\n",
       "    <tr>\n",
       "      <th>75</th>\n",
       "      <td>Late Night with the Devil Review - IGN</td>\n",
       "      <td>4</td>\n",
       "      <td>None of this is very frightening, sad to say. ...</td>\n",
       "    </tr>\n",
       "  </tbody>\n",
       "</table>\n",
       "<p>76 rows × 3 columns</p>\n",
       "</div>"
      ],
      "text/plain": [
       "                                     Title Score  \\\n",
       "0      It's a Wonderful Knife Review - IGN     8   \n",
       "1      It's a Wonderful Knife Review - IGN     8   \n",
       "2      It's a Wonderful Knife Review - IGN     8   \n",
       "3      It's a Wonderful Knife Review - IGN     8   \n",
       "4      It's a Wonderful Knife Review - IGN     8   \n",
       "..                                     ...   ...   \n",
       "71  Late Night with the Devil Review - IGN     4   \n",
       "72  Late Night with the Devil Review - IGN     4   \n",
       "73  Late Night with the Devil Review - IGN     4   \n",
       "74  Late Night with the Devil Review - IGN     4   \n",
       "75  Late Night with the Devil Review - IGN     4   \n",
       "\n",
       "                                            Paragraph  \n",
       "0   It’s a Wonderful Knife is an excellent title f...  \n",
       "1   The opening sequence glows with the warm incan...  \n",
       "2   Fifteen minutes in, a title card appears on sc...  \n",
       "3   When she returns home, she finds that The Ange...  \n",
       "4   Screenwriter Michael Kennedy isn’t  beholden t...  \n",
       "..                                                ...  \n",
       "71  The bulk of Late Night with the Devil is prese...  \n",
       "72  This should sound familiar to well-versed horr...  \n",
       "73  Still, it’s an amusing enough spectacle to wat...  \n",
       "74  But while Late Night with the Devil captures t...  \n",
       "75  None of this is very frightening, sad to say. ...  \n",
       "\n",
       "[76 rows x 3 columns]"
      ]
     },
     "execution_count": 133,
     "metadata": {},
     "output_type": "execute_result"
    }
   ],
   "source": [
    "df"
   ]
  },
  {
   "cell_type": "code",
   "execution_count": 134,
   "id": "9c84cc52",
   "metadata": {},
   "outputs": [
    {
     "data": {
      "text/html": [
       "<div>\n",
       "<style scoped>\n",
       "    .dataframe tbody tr th:only-of-type {\n",
       "        vertical-align: middle;\n",
       "    }\n",
       "\n",
       "    .dataframe tbody tr th {\n",
       "        vertical-align: top;\n",
       "    }\n",
       "\n",
       "    .dataframe thead th {\n",
       "        text-align: right;\n",
       "    }\n",
       "</style>\n",
       "<table border=\"1\" class=\"dataframe\">\n",
       "  <thead>\n",
       "    <tr style=\"text-align: right;\">\n",
       "      <th></th>\n",
       "      <th>Title</th>\n",
       "      <th>Score</th>\n",
       "      <th>Paragraph</th>\n",
       "    </tr>\n",
       "  </thead>\n",
       "  <tbody>\n",
       "  </tbody>\n",
       "</table>\n",
       "</div>"
      ],
      "text/plain": [
       "Empty DataFrame\n",
       "Columns: [Title, Score, Paragraph]\n",
       "Index: []"
      ]
     },
     "execution_count": 134,
     "metadata": {},
     "output_type": "execute_result"
    }
   ],
   "source": [
    "df[df['Paragraph']==' ']"
   ]
  },
  {
   "cell_type": "code",
   "execution_count": 135,
   "id": "c8c001fd",
   "metadata": {},
   "outputs": [],
   "source": [
    "df.replace(' ', np.nan, inplace=True)"
   ]
  },
  {
   "cell_type": "code",
   "execution_count": 136,
   "id": "93c8f35f",
   "metadata": {},
   "outputs": [],
   "source": [
    "df.dropna(subset=['Paragraph'], inplace=True)"
   ]
  },
  {
   "cell_type": "code",
   "execution_count": 137,
   "id": "d5034150",
   "metadata": {},
   "outputs": [
    {
     "data": {
      "text/html": [
       "<div>\n",
       "<style scoped>\n",
       "    .dataframe tbody tr th:only-of-type {\n",
       "        vertical-align: middle;\n",
       "    }\n",
       "\n",
       "    .dataframe tbody tr th {\n",
       "        vertical-align: top;\n",
       "    }\n",
       "\n",
       "    .dataframe thead th {\n",
       "        text-align: right;\n",
       "    }\n",
       "</style>\n",
       "<table border=\"1\" class=\"dataframe\">\n",
       "  <thead>\n",
       "    <tr style=\"text-align: right;\">\n",
       "      <th></th>\n",
       "      <th>Title</th>\n",
       "      <th>Score</th>\n",
       "      <th>Paragraph</th>\n",
       "    </tr>\n",
       "  </thead>\n",
       "  <tbody>\n",
       "  </tbody>\n",
       "</table>\n",
       "</div>"
      ],
      "text/plain": [
       "Empty DataFrame\n",
       "Columns: [Title, Score, Paragraph]\n",
       "Index: []"
      ]
     },
     "execution_count": 137,
     "metadata": {},
     "output_type": "execute_result"
    }
   ],
   "source": [
    "df[df['Paragraph']==' ']"
   ]
  },
  {
   "cell_type": "code",
   "execution_count": 138,
   "id": "bae96bfa",
   "metadata": {},
   "outputs": [],
   "source": [
    "def preprocess_text(text):\n",
    "    text = text.lower()\n",
    "    \n",
    "    text = re.sub(r'\\d+', '', text)\n",
    "    text = re.sub(r'[^\\w\\s]', '', text)\n",
    "    \n",
    "    tokens = nltk.word_tokenize(text)\n",
    "    \n",
    "    return tokens"
   ]
  },
  {
   "cell_type": "code",
   "execution_count": 139,
   "id": "36f63fc5",
   "metadata": {},
   "outputs": [],
   "source": [
    "def remove_stopWords(tokens):\n",
    "    stopWords = set(stopwords.words('english'))\n",
    "    filtered_tokens = [words for words in tokens if words not in stopWords]\n",
    "    return filtered_tokens"
   ]
  },
  {
   "cell_type": "code",
   "execution_count": 140,
   "id": "85198a50",
   "metadata": {},
   "outputs": [],
   "source": [
    "def lemmatization(tokens):\n",
    "    lemmatizer = nltk.WordNetLemmatizer()\n",
    "    lemmatized_tokens = [lemmatizer.lemmatize(token) for token in tokens]\n",
    "    return lemmatized_tokens"
   ]
  },
  {
   "cell_type": "code",
   "execution_count": 141,
   "id": "a3f1e5ca",
   "metadata": {},
   "outputs": [],
   "source": [
    "def remove_proper_names(tokens):\n",
    "    tagged_tokens = pos_tag(tokens)\n",
    "    filtered_tokens = [token[0] for token in tagged_tokens if token[1] != 'NNP']\n",
    "    return filtered_tokens"
   ]
  },
  {
   "cell_type": "code",
   "execution_count": 142,
   "id": "068085b9",
   "metadata": {},
   "outputs": [],
   "source": [
    "def clean_text(text):\n",
    "    tokens = preprocess_text(text)\n",
    "    filtered_tokens = remove_stopWords(tokens)\n",
    "    lemmatization_tokens = lemmatization(filtered_tokens)\n",
    "    non_proper_name_tokens = remove_proper_names(filtered_tokens)\n",
    "    clean_text = ' '.join(non_proper_name_tokens)\n",
    "    return clean_text"
   ]
  },
  {
   "cell_type": "code",
   "execution_count": 143,
   "id": "bb9219d2",
   "metadata": {},
   "outputs": [],
   "source": [
    "df['cleaned_Paragraph'] = df['Paragraph'].apply(clean_text)"
   ]
  },
  {
   "cell_type": "code",
   "execution_count": 144,
   "id": "87a2c7e3",
   "metadata": {
    "scrolled": true
   },
   "outputs": [
    {
     "data": {
      "text/html": [
       "<div>\n",
       "<style scoped>\n",
       "    .dataframe tbody tr th:only-of-type {\n",
       "        vertical-align: middle;\n",
       "    }\n",
       "\n",
       "    .dataframe tbody tr th {\n",
       "        vertical-align: top;\n",
       "    }\n",
       "\n",
       "    .dataframe thead th {\n",
       "        text-align: right;\n",
       "    }\n",
       "</style>\n",
       "<table border=\"1\" class=\"dataframe\">\n",
       "  <thead>\n",
       "    <tr style=\"text-align: right;\">\n",
       "      <th></th>\n",
       "      <th>Title</th>\n",
       "      <th>Score</th>\n",
       "      <th>Paragraph</th>\n",
       "      <th>cleaned_Paragraph</th>\n",
       "    </tr>\n",
       "  </thead>\n",
       "  <tbody>\n",
       "    <tr>\n",
       "      <th>0</th>\n",
       "      <td>It's a Wonderful Knife Review - IGN</td>\n",
       "      <td>8</td>\n",
       "      <td>It’s a Wonderful Knife is an excellent title f...</td>\n",
       "      <td>wonderful knife excellent title christmas slas...</td>\n",
       "    </tr>\n",
       "    <tr>\n",
       "      <th>1</th>\n",
       "      <td>It's a Wonderful Knife Review - IGN</td>\n",
       "      <td>8</td>\n",
       "      <td>The opening sequence glows with the warm incan...</td>\n",
       "      <td>opening sequence glows warm incandescent light...</td>\n",
       "    </tr>\n",
       "    <tr>\n",
       "      <th>2</th>\n",
       "      <td>It's a Wonderful Knife Review - IGN</td>\n",
       "      <td>8</td>\n",
       "      <td>Fifteen minutes in, a title card appears on sc...</td>\n",
       "      <td>fifteen minutes title card appears screen real...</td>\n",
       "    </tr>\n",
       "    <tr>\n",
       "      <th>3</th>\n",
       "      <td>It's a Wonderful Knife Review - IGN</td>\n",
       "      <td>8</td>\n",
       "      <td>When she returns home, she finds that The Ange...</td>\n",
       "      <td>returns home finds angel caught previous chris...</td>\n",
       "    </tr>\n",
       "    <tr>\n",
       "      <th>4</th>\n",
       "      <td>It's a Wonderful Knife Review - IGN</td>\n",
       "      <td>8</td>\n",
       "      <td>Screenwriter Michael Kennedy isn’t  beholden t...</td>\n",
       "      <td>screenwriter michael kennedy isnt beholden hol...</td>\n",
       "    </tr>\n",
       "    <tr>\n",
       "      <th>...</th>\n",
       "      <td>...</td>\n",
       "      <td>...</td>\n",
       "      <td>...</td>\n",
       "      <td>...</td>\n",
       "    </tr>\n",
       "    <tr>\n",
       "      <th>71</th>\n",
       "      <td>Late Night with the Devil Review - IGN</td>\n",
       "      <td>4</td>\n",
       "      <td>The bulk of Late Night with the Devil is prese...</td>\n",
       "      <td>bulk late night devil presented master recordi...</td>\n",
       "    </tr>\n",
       "    <tr>\n",
       "      <th>72</th>\n",
       "      <td>Late Night with the Devil Review - IGN</td>\n",
       "      <td>4</td>\n",
       "      <td>This should sound familiar to well-versed horr...</td>\n",
       "      <td>sound familiar wellversed horror nuts late nig...</td>\n",
       "    </tr>\n",
       "    <tr>\n",
       "      <th>73</th>\n",
       "      <td>Late Night with the Devil Review - IGN</td>\n",
       "      <td>4</td>\n",
       "      <td>Still, it’s an amusing enough spectacle to wat...</td>\n",
       "      <td>still amusing enough spectacle watch unravel d...</td>\n",
       "    </tr>\n",
       "    <tr>\n",
       "      <th>74</th>\n",
       "      <td>Late Night with the Devil Review - IGN</td>\n",
       "      <td>4</td>\n",
       "      <td>But while Late Night with the Devil captures t...</td>\n",
       "      <td>late night devil captures smoky lates miasma c...</td>\n",
       "    </tr>\n",
       "    <tr>\n",
       "      <th>75</th>\n",
       "      <td>Late Night with the Devil Review - IGN</td>\n",
       "      <td>4</td>\n",
       "      <td>None of this is very frightening, sad to say. ...</td>\n",
       "      <td>none frightening sad say onoffstage melodrama ...</td>\n",
       "    </tr>\n",
       "  </tbody>\n",
       "</table>\n",
       "<p>76 rows × 4 columns</p>\n",
       "</div>"
      ],
      "text/plain": [
       "                                     Title Score  \\\n",
       "0      It's a Wonderful Knife Review - IGN     8   \n",
       "1      It's a Wonderful Knife Review - IGN     8   \n",
       "2      It's a Wonderful Knife Review - IGN     8   \n",
       "3      It's a Wonderful Knife Review - IGN     8   \n",
       "4      It's a Wonderful Knife Review - IGN     8   \n",
       "..                                     ...   ...   \n",
       "71  Late Night with the Devil Review - IGN     4   \n",
       "72  Late Night with the Devil Review - IGN     4   \n",
       "73  Late Night with the Devil Review - IGN     4   \n",
       "74  Late Night with the Devil Review - IGN     4   \n",
       "75  Late Night with the Devil Review - IGN     4   \n",
       "\n",
       "                                            Paragraph  \\\n",
       "0   It’s a Wonderful Knife is an excellent title f...   \n",
       "1   The opening sequence glows with the warm incan...   \n",
       "2   Fifteen minutes in, a title card appears on sc...   \n",
       "3   When she returns home, she finds that The Ange...   \n",
       "4   Screenwriter Michael Kennedy isn’t  beholden t...   \n",
       "..                                                ...   \n",
       "71  The bulk of Late Night with the Devil is prese...   \n",
       "72  This should sound familiar to well-versed horr...   \n",
       "73  Still, it’s an amusing enough spectacle to wat...   \n",
       "74  But while Late Night with the Devil captures t...   \n",
       "75  None of this is very frightening, sad to say. ...   \n",
       "\n",
       "                                    cleaned_Paragraph  \n",
       "0   wonderful knife excellent title christmas slas...  \n",
       "1   opening sequence glows warm incandescent light...  \n",
       "2   fifteen minutes title card appears screen real...  \n",
       "3   returns home finds angel caught previous chris...  \n",
       "4   screenwriter michael kennedy isnt beholden hol...  \n",
       "..                                                ...  \n",
       "71  bulk late night devil presented master recordi...  \n",
       "72  sound familiar wellversed horror nuts late nig...  \n",
       "73  still amusing enough spectacle watch unravel d...  \n",
       "74  late night devil captures smoky lates miasma c...  \n",
       "75  none frightening sad say onoffstage melodrama ...  \n",
       "\n",
       "[76 rows x 4 columns]"
      ]
     },
     "execution_count": 144,
     "metadata": {},
     "output_type": "execute_result"
    }
   ],
   "source": [
    "df"
   ]
  },
  {
   "cell_type": "code",
   "execution_count": 145,
   "id": "e2ba9ee1",
   "metadata": {},
   "outputs": [],
   "source": [
    "del df['Paragraph']"
   ]
  },
  {
   "cell_type": "code",
   "execution_count": 146,
   "id": "06fa5828",
   "metadata": {},
   "outputs": [
    {
     "data": {
      "text/html": [
       "<div>\n",
       "<style scoped>\n",
       "    .dataframe tbody tr th:only-of-type {\n",
       "        vertical-align: middle;\n",
       "    }\n",
       "\n",
       "    .dataframe tbody tr th {\n",
       "        vertical-align: top;\n",
       "    }\n",
       "\n",
       "    .dataframe thead th {\n",
       "        text-align: right;\n",
       "    }\n",
       "</style>\n",
       "<table border=\"1\" class=\"dataframe\">\n",
       "  <thead>\n",
       "    <tr style=\"text-align: right;\">\n",
       "      <th></th>\n",
       "      <th>Title</th>\n",
       "      <th>Score</th>\n",
       "      <th>cleaned_Paragraph</th>\n",
       "    </tr>\n",
       "  </thead>\n",
       "  <tbody>\n",
       "    <tr>\n",
       "      <th>0</th>\n",
       "      <td>It's a Wonderful Knife Review - IGN</td>\n",
       "      <td>8</td>\n",
       "      <td>wonderful knife excellent title christmas slas...</td>\n",
       "    </tr>\n",
       "    <tr>\n",
       "      <th>1</th>\n",
       "      <td>It's a Wonderful Knife Review - IGN</td>\n",
       "      <td>8</td>\n",
       "      <td>opening sequence glows warm incandescent light...</td>\n",
       "    </tr>\n",
       "    <tr>\n",
       "      <th>2</th>\n",
       "      <td>It's a Wonderful Knife Review - IGN</td>\n",
       "      <td>8</td>\n",
       "      <td>fifteen minutes title card appears screen real...</td>\n",
       "    </tr>\n",
       "    <tr>\n",
       "      <th>3</th>\n",
       "      <td>It's a Wonderful Knife Review - IGN</td>\n",
       "      <td>8</td>\n",
       "      <td>returns home finds angel caught previous chris...</td>\n",
       "    </tr>\n",
       "    <tr>\n",
       "      <th>4</th>\n",
       "      <td>It's a Wonderful Knife Review - IGN</td>\n",
       "      <td>8</td>\n",
       "      <td>screenwriter michael kennedy isnt beholden hol...</td>\n",
       "    </tr>\n",
       "    <tr>\n",
       "      <th>...</th>\n",
       "      <td>...</td>\n",
       "      <td>...</td>\n",
       "      <td>...</td>\n",
       "    </tr>\n",
       "    <tr>\n",
       "      <th>71</th>\n",
       "      <td>Late Night with the Devil Review - IGN</td>\n",
       "      <td>4</td>\n",
       "      <td>bulk late night devil presented master recordi...</td>\n",
       "    </tr>\n",
       "    <tr>\n",
       "      <th>72</th>\n",
       "      <td>Late Night with the Devil Review - IGN</td>\n",
       "      <td>4</td>\n",
       "      <td>sound familiar wellversed horror nuts late nig...</td>\n",
       "    </tr>\n",
       "    <tr>\n",
       "      <th>73</th>\n",
       "      <td>Late Night with the Devil Review - IGN</td>\n",
       "      <td>4</td>\n",
       "      <td>still amusing enough spectacle watch unravel d...</td>\n",
       "    </tr>\n",
       "    <tr>\n",
       "      <th>74</th>\n",
       "      <td>Late Night with the Devil Review - IGN</td>\n",
       "      <td>4</td>\n",
       "      <td>late night devil captures smoky lates miasma c...</td>\n",
       "    </tr>\n",
       "    <tr>\n",
       "      <th>75</th>\n",
       "      <td>Late Night with the Devil Review - IGN</td>\n",
       "      <td>4</td>\n",
       "      <td>none frightening sad say onoffstage melodrama ...</td>\n",
       "    </tr>\n",
       "  </tbody>\n",
       "</table>\n",
       "<p>76 rows × 3 columns</p>\n",
       "</div>"
      ],
      "text/plain": [
       "                                     Title Score  \\\n",
       "0      It's a Wonderful Knife Review - IGN     8   \n",
       "1      It's a Wonderful Knife Review - IGN     8   \n",
       "2      It's a Wonderful Knife Review - IGN     8   \n",
       "3      It's a Wonderful Knife Review - IGN     8   \n",
       "4      It's a Wonderful Knife Review - IGN     8   \n",
       "..                                     ...   ...   \n",
       "71  Late Night with the Devil Review - IGN     4   \n",
       "72  Late Night with the Devil Review - IGN     4   \n",
       "73  Late Night with the Devil Review - IGN     4   \n",
       "74  Late Night with the Devil Review - IGN     4   \n",
       "75  Late Night with the Devil Review - IGN     4   \n",
       "\n",
       "                                    cleaned_Paragraph  \n",
       "0   wonderful knife excellent title christmas slas...  \n",
       "1   opening sequence glows warm incandescent light...  \n",
       "2   fifteen minutes title card appears screen real...  \n",
       "3   returns home finds angel caught previous chris...  \n",
       "4   screenwriter michael kennedy isnt beholden hol...  \n",
       "..                                                ...  \n",
       "71  bulk late night devil presented master recordi...  \n",
       "72  sound familiar wellversed horror nuts late nig...  \n",
       "73  still amusing enough spectacle watch unravel d...  \n",
       "74  late night devil captures smoky lates miasma c...  \n",
       "75  none frightening sad say onoffstage melodrama ...  \n",
       "\n",
       "[76 rows x 3 columns]"
      ]
     },
     "execution_count": 146,
     "metadata": {},
     "output_type": "execute_result"
    }
   ],
   "source": [
    "df"
   ]
  },
  {
   "cell_type": "code",
   "execution_count": 147,
   "id": "369d08ae",
   "metadata": {},
   "outputs": [
    {
     "name": "stdout",
     "output_type": "stream",
     "text": [
      "Worst reviews: \n",
      "Title\n",
      "Cobweb (Geomijip) Review - IGN            4\n",
      "Freelance Review - IGN                    4\n",
      "Late Night with the Devil Review - IGN    4\n",
      "Name: Score, dtype: object\n",
      "\n",
      "Best reviews: \n",
      "Title\n",
      "Divinity Review - IGN                   8\n",
      "It's a Wonderful Knife Review - IGN     8\n",
      "Five Nights at Freddy's Review - IGN    7\n",
      "Name: Score, dtype: object\n"
     ]
    }
   ],
   "source": [
    "print(f'Worst reviews: \\n{df.groupby(\"Title\")[\"Score\"].max().sort_values().head(3)}')\n",
    "print()\n",
    "print(f'Best reviews: \\n{df.groupby(\"Title\")[\"Score\"].max().sort_values(ascending=False).head(3)}')\n"
   ]
  },
  {
   "cell_type": "markdown",
   "id": "e1b859d6",
   "metadata": {},
   "source": [
    "# Try Models"
   ]
  },
  {
   "cell_type": "code",
   "execution_count": 148,
   "id": "ef5f0382",
   "metadata": {},
   "outputs": [],
   "source": [
    "X = df['cleaned_Paragraph']\n",
    "y = df['Score']\n",
    "\n",
    "# Split the data into training and testing sets\n",
    "X_train, X_test, y_train, y_test = train_test_split(X, y, test_size=0.3, random_state=42)\n",
    "\n",
    "# Convert text data to TF-IDF features\n",
    "tfidf_vectorizer = TfidfVectorizer()\n",
    "X_train_tfidf = tfidf_vectorizer.fit_transform(X_train)\n",
    "X_test_tfidf = tfidf_vectorizer.transform(X_test)\n"
   ]
  },
  {
   "cell_type": "markdown",
   "id": "e8c468e0",
   "metadata": {},
   "source": [
    "### Support Vector Regression"
   ]
  },
  {
   "cell_type": "code",
   "execution_count": 158,
   "id": "f1e64e53",
   "metadata": {
    "collapsed": true
   },
   "outputs": [
    {
     "ename": "ValueError",
     "evalue": "dtype='numeric' is not compatible with arrays of bytes/strings.Convert your data to numeric values explicitly instead.",
     "output_type": "error",
     "traceback": [
      "\u001b[1;31m---------------------------------------------------------------------------\u001b[0m",
      "\u001b[1;31mValueError\u001b[0m                                Traceback (most recent call last)",
      "Cell \u001b[1;32mIn[158], line 12\u001b[0m\n\u001b[0;32m      9\u001b[0m y_pred_sv \u001b[38;5;241m=\u001b[39m np\u001b[38;5;241m.\u001b[39maround(y_pred_sv,\u001b[38;5;241m0\u001b[39m)\n\u001b[0;32m     11\u001b[0m \u001b[38;5;66;03m# Evaluate the model\u001b[39;00m\n\u001b[1;32m---> 12\u001b[0m mse \u001b[38;5;241m=\u001b[39m \u001b[43mmean_squared_error\u001b[49m\u001b[43m(\u001b[49m\u001b[43my_test\u001b[49m\u001b[43m,\u001b[49m\u001b[43m \u001b[49m\u001b[43my_pred\u001b[49m\u001b[43m)\u001b[49m\n\u001b[0;32m     13\u001b[0m r_squared \u001b[38;5;241m=\u001b[39m r2_score(y_test, y_pred)\n\u001b[0;32m     15\u001b[0m \u001b[38;5;28mprint\u001b[39m(\u001b[38;5;124mf\u001b[39m\u001b[38;5;124m'\u001b[39m\u001b[38;5;124mMean Squared Error: \u001b[39m\u001b[38;5;132;01m{\u001b[39;00mmse\u001b[38;5;132;01m}\u001b[39;00m\u001b[38;5;124m'\u001b[39m)\n",
      "File \u001b[1;32m~\\anaconda3\\lib\\site-packages\\sklearn\\utils\\_param_validation.py:211\u001b[0m, in \u001b[0;36mvalidate_params.<locals>.decorator.<locals>.wrapper\u001b[1;34m(*args, **kwargs)\u001b[0m\n\u001b[0;32m    205\u001b[0m \u001b[38;5;28;01mtry\u001b[39;00m:\n\u001b[0;32m    206\u001b[0m     \u001b[38;5;28;01mwith\u001b[39;00m config_context(\n\u001b[0;32m    207\u001b[0m         skip_parameter_validation\u001b[38;5;241m=\u001b[39m(\n\u001b[0;32m    208\u001b[0m             prefer_skip_nested_validation \u001b[38;5;129;01mor\u001b[39;00m global_skip_validation\n\u001b[0;32m    209\u001b[0m         )\n\u001b[0;32m    210\u001b[0m     ):\n\u001b[1;32m--> 211\u001b[0m         \u001b[38;5;28;01mreturn\u001b[39;00m func(\u001b[38;5;241m*\u001b[39margs, \u001b[38;5;241m*\u001b[39m\u001b[38;5;241m*\u001b[39mkwargs)\n\u001b[0;32m    212\u001b[0m \u001b[38;5;28;01mexcept\u001b[39;00m InvalidParameterError \u001b[38;5;28;01mas\u001b[39;00m e:\n\u001b[0;32m    213\u001b[0m     \u001b[38;5;66;03m# When the function is just a wrapper around an estimator, we allow\u001b[39;00m\n\u001b[0;32m    214\u001b[0m     \u001b[38;5;66;03m# the function to delegate validation to the estimator, but we replace\u001b[39;00m\n\u001b[0;32m    215\u001b[0m     \u001b[38;5;66;03m# the name of the estimator by the name of the function in the error\u001b[39;00m\n\u001b[0;32m    216\u001b[0m     \u001b[38;5;66;03m# message to avoid confusion.\u001b[39;00m\n\u001b[0;32m    217\u001b[0m     msg \u001b[38;5;241m=\u001b[39m re\u001b[38;5;241m.\u001b[39msub(\n\u001b[0;32m    218\u001b[0m         \u001b[38;5;124mr\u001b[39m\u001b[38;5;124m\"\u001b[39m\u001b[38;5;124mparameter of \u001b[39m\u001b[38;5;124m\\\u001b[39m\u001b[38;5;124mw+ must be\u001b[39m\u001b[38;5;124m\"\u001b[39m,\n\u001b[0;32m    219\u001b[0m         \u001b[38;5;124mf\u001b[39m\u001b[38;5;124m\"\u001b[39m\u001b[38;5;124mparameter of \u001b[39m\u001b[38;5;132;01m{\u001b[39;00mfunc\u001b[38;5;241m.\u001b[39m\u001b[38;5;18m__qualname__\u001b[39m\u001b[38;5;132;01m}\u001b[39;00m\u001b[38;5;124m must be\u001b[39m\u001b[38;5;124m\"\u001b[39m,\n\u001b[0;32m    220\u001b[0m         \u001b[38;5;28mstr\u001b[39m(e),\n\u001b[0;32m    221\u001b[0m     )\n",
      "File \u001b[1;32m~\\anaconda3\\lib\\site-packages\\sklearn\\metrics\\_regression.py:474\u001b[0m, in \u001b[0;36mmean_squared_error\u001b[1;34m(y_true, y_pred, sample_weight, multioutput, squared)\u001b[0m\n\u001b[0;32m    404\u001b[0m \u001b[38;5;129m@validate_params\u001b[39m(\n\u001b[0;32m    405\u001b[0m     {\n\u001b[0;32m    406\u001b[0m         \u001b[38;5;124m\"\u001b[39m\u001b[38;5;124my_true\u001b[39m\u001b[38;5;124m\"\u001b[39m: [\u001b[38;5;124m\"\u001b[39m\u001b[38;5;124marray-like\u001b[39m\u001b[38;5;124m\"\u001b[39m],\n\u001b[1;32m   (...)\u001b[0m\n\u001b[0;32m    415\u001b[0m     y_true, y_pred, \u001b[38;5;241m*\u001b[39m, sample_weight\u001b[38;5;241m=\u001b[39m\u001b[38;5;28;01mNone\u001b[39;00m, multioutput\u001b[38;5;241m=\u001b[39m\u001b[38;5;124m\"\u001b[39m\u001b[38;5;124muniform_average\u001b[39m\u001b[38;5;124m\"\u001b[39m, squared\u001b[38;5;241m=\u001b[39m\u001b[38;5;28;01mTrue\u001b[39;00m\n\u001b[0;32m    416\u001b[0m ):\n\u001b[0;32m    417\u001b[0m \u001b[38;5;250m    \u001b[39m\u001b[38;5;124;03m\"\"\"Mean squared error regression loss.\u001b[39;00m\n\u001b[0;32m    418\u001b[0m \n\u001b[0;32m    419\u001b[0m \u001b[38;5;124;03m    Read more in the :ref:`User Guide <mean_squared_error>`.\u001b[39;00m\n\u001b[1;32m   (...)\u001b[0m\n\u001b[0;32m    472\u001b[0m \u001b[38;5;124;03m    0.825...\u001b[39;00m\n\u001b[0;32m    473\u001b[0m \u001b[38;5;124;03m    \"\"\"\u001b[39;00m\n\u001b[1;32m--> 474\u001b[0m     y_type, y_true, y_pred, multioutput \u001b[38;5;241m=\u001b[39m \u001b[43m_check_reg_targets\u001b[49m\u001b[43m(\u001b[49m\n\u001b[0;32m    475\u001b[0m \u001b[43m        \u001b[49m\u001b[43my_true\u001b[49m\u001b[43m,\u001b[49m\u001b[43m \u001b[49m\u001b[43my_pred\u001b[49m\u001b[43m,\u001b[49m\u001b[43m \u001b[49m\u001b[43mmultioutput\u001b[49m\n\u001b[0;32m    476\u001b[0m \u001b[43m    \u001b[49m\u001b[43m)\u001b[49m\n\u001b[0;32m    477\u001b[0m     check_consistent_length(y_true, y_pred, sample_weight)\n\u001b[0;32m    478\u001b[0m     output_errors \u001b[38;5;241m=\u001b[39m np\u001b[38;5;241m.\u001b[39maverage((y_true \u001b[38;5;241m-\u001b[39m y_pred) \u001b[38;5;241m*\u001b[39m\u001b[38;5;241m*\u001b[39m \u001b[38;5;241m2\u001b[39m, axis\u001b[38;5;241m=\u001b[39m\u001b[38;5;241m0\u001b[39m, weights\u001b[38;5;241m=\u001b[39msample_weight)\n",
      "File \u001b[1;32m~\\anaconda3\\lib\\site-packages\\sklearn\\metrics\\_regression.py:101\u001b[0m, in \u001b[0;36m_check_reg_targets\u001b[1;34m(y_true, y_pred, multioutput, dtype)\u001b[0m\n\u001b[0;32m     99\u001b[0m check_consistent_length(y_true, y_pred)\n\u001b[0;32m    100\u001b[0m y_true \u001b[38;5;241m=\u001b[39m check_array(y_true, ensure_2d\u001b[38;5;241m=\u001b[39m\u001b[38;5;28;01mFalse\u001b[39;00m, dtype\u001b[38;5;241m=\u001b[39mdtype)\n\u001b[1;32m--> 101\u001b[0m y_pred \u001b[38;5;241m=\u001b[39m \u001b[43mcheck_array\u001b[49m\u001b[43m(\u001b[49m\u001b[43my_pred\u001b[49m\u001b[43m,\u001b[49m\u001b[43m \u001b[49m\u001b[43mensure_2d\u001b[49m\u001b[38;5;241;43m=\u001b[39;49m\u001b[38;5;28;43;01mFalse\u001b[39;49;00m\u001b[43m,\u001b[49m\u001b[43m \u001b[49m\u001b[43mdtype\u001b[49m\u001b[38;5;241;43m=\u001b[39;49m\u001b[43mdtype\u001b[49m\u001b[43m)\u001b[49m\n\u001b[0;32m    103\u001b[0m \u001b[38;5;28;01mif\u001b[39;00m y_true\u001b[38;5;241m.\u001b[39mndim \u001b[38;5;241m==\u001b[39m \u001b[38;5;241m1\u001b[39m:\n\u001b[0;32m    104\u001b[0m     y_true \u001b[38;5;241m=\u001b[39m y_true\u001b[38;5;241m.\u001b[39mreshape((\u001b[38;5;241m-\u001b[39m\u001b[38;5;241m1\u001b[39m, \u001b[38;5;241m1\u001b[39m))\n",
      "File \u001b[1;32m~\\anaconda3\\lib\\site-packages\\sklearn\\utils\\validation.py:948\u001b[0m, in \u001b[0;36mcheck_array\u001b[1;34m(array, accept_sparse, accept_large_sparse, dtype, order, copy, force_all_finite, ensure_2d, allow_nd, ensure_min_samples, ensure_min_features, estimator, input_name)\u001b[0m\n\u001b[0;32m    940\u001b[0m         \u001b[38;5;28;01mraise\u001b[39;00m \u001b[38;5;167;01mValueError\u001b[39;00m(\n\u001b[0;32m    941\u001b[0m             \u001b[38;5;124m\"\u001b[39m\u001b[38;5;124mExpected 2D array, got 1D array instead:\u001b[39m\u001b[38;5;130;01m\\n\u001b[39;00m\u001b[38;5;124marray=\u001b[39m\u001b[38;5;132;01m{}\u001b[39;00m\u001b[38;5;124m.\u001b[39m\u001b[38;5;130;01m\\n\u001b[39;00m\u001b[38;5;124m\"\u001b[39m\n\u001b[0;32m    942\u001b[0m             \u001b[38;5;124m\"\u001b[39m\u001b[38;5;124mReshape your data either using array.reshape(-1, 1) if \u001b[39m\u001b[38;5;124m\"\u001b[39m\n\u001b[0;32m    943\u001b[0m             \u001b[38;5;124m\"\u001b[39m\u001b[38;5;124myour data has a single feature or array.reshape(1, -1) \u001b[39m\u001b[38;5;124m\"\u001b[39m\n\u001b[0;32m    944\u001b[0m             \u001b[38;5;124m\"\u001b[39m\u001b[38;5;124mif it contains a single sample.\u001b[39m\u001b[38;5;124m\"\u001b[39m\u001b[38;5;241m.\u001b[39mformat(array)\n\u001b[0;32m    945\u001b[0m         )\n\u001b[0;32m    947\u001b[0m \u001b[38;5;28;01mif\u001b[39;00m dtype_numeric \u001b[38;5;129;01mand\u001b[39;00m \u001b[38;5;28mhasattr\u001b[39m(array\u001b[38;5;241m.\u001b[39mdtype, \u001b[38;5;124m\"\u001b[39m\u001b[38;5;124mkind\u001b[39m\u001b[38;5;124m\"\u001b[39m) \u001b[38;5;129;01mand\u001b[39;00m array\u001b[38;5;241m.\u001b[39mdtype\u001b[38;5;241m.\u001b[39mkind \u001b[38;5;129;01min\u001b[39;00m \u001b[38;5;124m\"\u001b[39m\u001b[38;5;124mUSV\u001b[39m\u001b[38;5;124m\"\u001b[39m:\n\u001b[1;32m--> 948\u001b[0m     \u001b[38;5;28;01mraise\u001b[39;00m \u001b[38;5;167;01mValueError\u001b[39;00m(\n\u001b[0;32m    949\u001b[0m         \u001b[38;5;124m\"\u001b[39m\u001b[38;5;124mdtype=\u001b[39m\u001b[38;5;124m'\u001b[39m\u001b[38;5;124mnumeric\u001b[39m\u001b[38;5;124m'\u001b[39m\u001b[38;5;124m is not compatible with arrays of bytes/strings.\u001b[39m\u001b[38;5;124m\"\u001b[39m\n\u001b[0;32m    950\u001b[0m         \u001b[38;5;124m\"\u001b[39m\u001b[38;5;124mConvert your data to numeric values explicitly instead.\u001b[39m\u001b[38;5;124m\"\u001b[39m\n\u001b[0;32m    951\u001b[0m     )\n\u001b[0;32m    952\u001b[0m \u001b[38;5;28;01mif\u001b[39;00m \u001b[38;5;129;01mnot\u001b[39;00m allow_nd \u001b[38;5;129;01mand\u001b[39;00m array\u001b[38;5;241m.\u001b[39mndim \u001b[38;5;241m>\u001b[39m\u001b[38;5;241m=\u001b[39m \u001b[38;5;241m3\u001b[39m:\n\u001b[0;32m    953\u001b[0m     \u001b[38;5;28;01mraise\u001b[39;00m \u001b[38;5;167;01mValueError\u001b[39;00m(\n\u001b[0;32m    954\u001b[0m         \u001b[38;5;124m\"\u001b[39m\u001b[38;5;124mFound array with dim \u001b[39m\u001b[38;5;132;01m%d\u001b[39;00m\u001b[38;5;124m. \u001b[39m\u001b[38;5;132;01m%s\u001b[39;00m\u001b[38;5;124m expected <= 2.\u001b[39m\u001b[38;5;124m\"\u001b[39m\n\u001b[0;32m    955\u001b[0m         \u001b[38;5;241m%\u001b[39m (array\u001b[38;5;241m.\u001b[39mndim, estimator_name)\n\u001b[0;32m    956\u001b[0m     )\n",
      "\u001b[1;31mValueError\u001b[0m: dtype='numeric' is not compatible with arrays of bytes/strings.Convert your data to numeric values explicitly instead."
     ]
    }
   ],
   "source": [
    "sv_model = SVR(kernel='linear')  # There are many different kernels like 'linear', 'rbf', etc.\n",
    "\n",
    "# Train the model\n",
    "sv_model.fit(X_train_tfidf, y_train)\n",
    "\n",
    "# Predict on the test set\n",
    "y_pred_sv = sv_model.predict(X_test_tfidf)\n",
    "\n",
    "#IGN Scores are Integers\n",
    "y_pred_sv = np.around(y_pred_sv,0)\n",
    "\n",
    "# Evaluate the model\n",
    "mse = mean_squared_error(y_test, y_pred_sv)\n",
    "r_squared = r2_score(y_test, y_pred_sv)\n",
    "\n",
    "print(f'Mean Squared Error: {mse}')\n",
    "print(f'R-squared: {r_squared}')"
   ]
  },
  {
   "cell_type": "code",
   "execution_count": 87,
   "id": "5e7e5119",
   "metadata": {
    "scrolled": false
   },
   "outputs": [
    {
     "name": "stdout",
     "output_type": "stream",
     "text": [
      "[7. 6. 6. 7. 6. 6. 6. 6. 6. 6. 6. 6. 7. 6. 6. 7. 6. 7. 7. 6. 6. 6. 7.]\n",
      "['8' '7' '6' '8' '7' '4' '6' '4' '4' '8' '4' '4' '7' '6' '4' '7' '6' '8'\n",
      " '7' '7' '8' '7' '7']\n"
     ]
    }
   ],
   "source": [
    "print(y_pred_sv)\n",
    "print(np.array(y_test))"
   ]
  },
  {
   "cell_type": "markdown",
   "id": "b72146f9",
   "metadata": {},
   "source": [
    "### Random Forest"
   ]
  },
  {
   "cell_type": "code",
   "execution_count": 95,
   "id": "2c848a8d",
   "metadata": {},
   "outputs": [
    {
     "name": "stdout",
     "output_type": "stream",
     "text": [
      "Mean Squared Error (Random Forest): 1.571517527436379\n",
      "R-squared (Random Forest): 0.2833338172294443\n"
     ]
    }
   ],
   "source": [
    "rf_model = RandomForestRegressor(n_estimators=150, random_state=42, max_depth=10)\n",
    "\n",
    "# Train the model\n",
    "rf_model.fit(X_train_tfidf, y_train)\n",
    "\n",
    "# Predict on the test set\n",
    "y_pred_rf = rf_model.predict(X_test_tfidf)\n",
    "\n",
    "#IGN Scores are Integers\n",
    "y_pred_sv = np.around(y_pred_rf,0)\n",
    "\n",
    "# Evaluate the model\n",
    "mse_rf = mean_squared_error(y_test, y_pred_rf)\n",
    "r_squared_rf = r2_score(y_test, y_pred_rf)\n",
    "\n",
    "print(f'Mean Squared Error (Random Forest): {mse_rf}')\n",
    "print(f'R-squared (Random Forest): {r_squared_rf}')"
   ]
  },
  {
   "cell_type": "code",
   "execution_count": 160,
   "id": "25f8e9df",
   "metadata": {},
   "outputs": [
    {
     "name": "stdout",
     "output_type": "stream",
     "text": [
      "[7. 7. 7. 7. 7. 7. 6. 7. 5. 7. 4. 4. 7. 7. 6. 7. 7. 7. 7. 6. 6. 6. 7.]\n",
      "['8' '7' '6' '8' '7' '4' '6' '4' '4' '8' '4' '4' '7' '6' '4' '7' '6' '8'\n",
      " '7' '7' '8' '7' '7']\n"
     ]
    }
   ],
   "source": [
    "print(np.around(y_pred_rf,0))\n",
    "print(np.array(y_test))"
   ]
  },
  {
   "cell_type": "markdown",
   "id": "99f9c264",
   "metadata": {},
   "source": [
    "## Grid Searches"
   ]
  },
  {
   "cell_type": "markdown",
   "id": "68475428",
   "metadata": {},
   "source": [
    "### SVR"
   ]
  },
  {
   "cell_type": "code",
   "execution_count": 161,
   "id": "37bc4de4",
   "metadata": {},
   "outputs": [
    {
     "name": "stdout",
     "output_type": "stream",
     "text": [
      "Best parameters for SVM: {'C': 10, 'gamma': 'scale', 'kernel': 'linear'}\n",
      "Mean Squared Error (SVM): 1.3513823254582094\n",
      "R-squared (SVM): 0.3837230602005235\n"
     ]
    }
   ],
   "source": [
    "# Define the parameter grid for SVR\n",
    "svr_param_grid = {'C': [0.1, 1, 10],\n",
    "                  'kernel': ['linear', 'rbf', 'poly'],\n",
    "                  'gamma': ['scale', 'auto']}\n",
    "\n",
    "# Create the SVR model\n",
    "svr_model = SVR()\n",
    "\n",
    "# Create GridSearchCV for SVR\n",
    "svr_grid_search = GridSearchCV(svr_model, svr_param_grid, cv=5, scoring='neg_mean_squared_error')\n",
    "svr_grid_search.fit(X_train_tfidf, y_train)\n",
    "\n",
    "# Get the best parameters and model\n",
    "best_svr_params = svr_grid_search.best_params_\n",
    "best_svr_model = svr_grid_search.best_estimator_\n",
    "\n",
    "# Predict on the test set\n",
    "y_pred_svr = best_svr_model.predict(X_test_tfidf)\n",
    "\n",
    "# Evaluate the model\n",
    "mse_svr = mean_squared_error(y_test, y_pred_svr)\n",
    "r_squared_svr = r2_score(y_test, y_pred_svr)\n",
    "\n",
    "print(\"Best parameters for SVM:\", best_svr_params)\n",
    "print(f'Mean Squared Error (SVM): {mse_svr}')\n",
    "print(f'R-squared (SVM): {r_squared_svr}')\n"
   ]
  },
  {
   "cell_type": "markdown",
   "id": "9a2303cd",
   "metadata": {},
   "source": [
    "### Random Forest"
   ]
  },
  {
   "cell_type": "code",
   "execution_count": 100,
   "id": "582e7acd",
   "metadata": {},
   "outputs": [
    {
     "name": "stdout",
     "output_type": "stream",
     "text": [
      "Best parameters for Random Forest: {'max_depth': None, 'min_samples_leaf': 1, 'min_samples_split': 2, 'n_estimators': 100}\n",
      "Mean Squared Error (Random Forest): 1.5773304347826085\n",
      "R-squared (Random Forest): 0.2806829310344827\n"
     ]
    }
   ],
   "source": [
    "# Define the parameter grid for Random Forest\n",
    "rf_param_grid = {'n_estimators': [50, 100, 150],\n",
    "                 'max_depth': [None, 10, 20, 30],\n",
    "                 'min_samples_split': [2, 5, 10],\n",
    "                 'min_samples_leaf': [1, 2, 4]}\n",
    "\n",
    "# Create the Random Forest model\n",
    "rf_model = RandomForestRegressor(random_state=42)\n",
    "\n",
    "# Create GridSearchCV for Random Forest\n",
    "rf_grid_search = GridSearchCV(rf_model, rf_param_grid, cv=5, scoring='neg_mean_squared_error')\n",
    "rf_grid_search.fit(X_train_tfidf, y_train)\n",
    "\n",
    "# Get the best parameters and model\n",
    "best_rf_params = rf_grid_search.best_params_\n",
    "best_rf_model = rf_grid_search.best_estimator_\n",
    "\n",
    "# Predict on the test set\n",
    "y_pred_rf_gs = best_rf_model.predict(X_test_tfidf)\n",
    "\n",
    "# Evaluate the model\n",
    "mse_rf_gs = mean_squared_error(y_test, y_pred_rf_gs)\n",
    "r_squared_rf_gs = r2_score(y_test, y_pred_rf_gs)\n",
    "\n",
    "print(\"Best parameters for Random Forest:\", best_rf_params)\n",
    "print(f'Mean Squared Error (Random Forest): {mse_rf_gs}')\n",
    "print(f'R-squared (Random Forest): {r_squared_rf_gs}')\n"
   ]
  },
  {
   "cell_type": "markdown",
   "id": "36605499",
   "metadata": {},
   "source": [
    "### Naive Bayes"
   ]
  },
  {
   "cell_type": "code",
   "execution_count": 149,
   "id": "1fc8d8bb",
   "metadata": {},
   "outputs": [
    {
     "data": {
      "text/html": [
       "<style>#sk-container-id-3 {color: black;}#sk-container-id-3 pre{padding: 0;}#sk-container-id-3 div.sk-toggleable {background-color: white;}#sk-container-id-3 label.sk-toggleable__label {cursor: pointer;display: block;width: 100%;margin-bottom: 0;padding: 0.3em;box-sizing: border-box;text-align: center;}#sk-container-id-3 label.sk-toggleable__label-arrow:before {content: \"▸\";float: left;margin-right: 0.25em;color: #696969;}#sk-container-id-3 label.sk-toggleable__label-arrow:hover:before {color: black;}#sk-container-id-3 div.sk-estimator:hover label.sk-toggleable__label-arrow:before {color: black;}#sk-container-id-3 div.sk-toggleable__content {max-height: 0;max-width: 0;overflow: hidden;text-align: left;background-color: #f0f8ff;}#sk-container-id-3 div.sk-toggleable__content pre {margin: 0.2em;color: black;border-radius: 0.25em;background-color: #f0f8ff;}#sk-container-id-3 input.sk-toggleable__control:checked~div.sk-toggleable__content {max-height: 200px;max-width: 100%;overflow: auto;}#sk-container-id-3 input.sk-toggleable__control:checked~label.sk-toggleable__label-arrow:before {content: \"▾\";}#sk-container-id-3 div.sk-estimator input.sk-toggleable__control:checked~label.sk-toggleable__label {background-color: #d4ebff;}#sk-container-id-3 div.sk-label input.sk-toggleable__control:checked~label.sk-toggleable__label {background-color: #d4ebff;}#sk-container-id-3 input.sk-hidden--visually {border: 0;clip: rect(1px 1px 1px 1px);clip: rect(1px, 1px, 1px, 1px);height: 1px;margin: -1px;overflow: hidden;padding: 0;position: absolute;width: 1px;}#sk-container-id-3 div.sk-estimator {font-family: monospace;background-color: #f0f8ff;border: 1px dotted black;border-radius: 0.25em;box-sizing: border-box;margin-bottom: 0.5em;}#sk-container-id-3 div.sk-estimator:hover {background-color: #d4ebff;}#sk-container-id-3 div.sk-parallel-item::after {content: \"\";width: 100%;border-bottom: 1px solid gray;flex-grow: 1;}#sk-container-id-3 div.sk-label:hover label.sk-toggleable__label {background-color: #d4ebff;}#sk-container-id-3 div.sk-serial::before {content: \"\";position: absolute;border-left: 1px solid gray;box-sizing: border-box;top: 0;bottom: 0;left: 50%;z-index: 0;}#sk-container-id-3 div.sk-serial {display: flex;flex-direction: column;align-items: center;background-color: white;padding-right: 0.2em;padding-left: 0.2em;position: relative;}#sk-container-id-3 div.sk-item {position: relative;z-index: 1;}#sk-container-id-3 div.sk-parallel {display: flex;align-items: stretch;justify-content: center;background-color: white;position: relative;}#sk-container-id-3 div.sk-item::before, #sk-container-id-3 div.sk-parallel-item::before {content: \"\";position: absolute;border-left: 1px solid gray;box-sizing: border-box;top: 0;bottom: 0;left: 50%;z-index: -1;}#sk-container-id-3 div.sk-parallel-item {display: flex;flex-direction: column;z-index: 1;position: relative;background-color: white;}#sk-container-id-3 div.sk-parallel-item:first-child::after {align-self: flex-end;width: 50%;}#sk-container-id-3 div.sk-parallel-item:last-child::after {align-self: flex-start;width: 50%;}#sk-container-id-3 div.sk-parallel-item:only-child::after {width: 0;}#sk-container-id-3 div.sk-dashed-wrapped {border: 1px dashed gray;margin: 0 0.4em 0.5em 0.4em;box-sizing: border-box;padding-bottom: 0.4em;background-color: white;}#sk-container-id-3 div.sk-label label {font-family: monospace;font-weight: bold;display: inline-block;line-height: 1.2em;}#sk-container-id-3 div.sk-label-container {text-align: center;}#sk-container-id-3 div.sk-container {/* jupyter's `normalize.less` sets `[hidden] { display: none; }` but bootstrap.min.css set `[hidden] { display: none !important; }` so we also need the `!important` here to be able to override the default hidden behavior on the sphinx rendered scikit-learn.org. See: https://github.com/scikit-learn/scikit-learn/issues/21755 */display: inline-block !important;position: relative;}#sk-container-id-3 div.sk-text-repr-fallback {display: none;}</style><div id=\"sk-container-id-3\" class=\"sk-top-container\"><div class=\"sk-text-repr-fallback\"><pre>Pipeline(steps=[(&#x27;vect&#x27;, CountVectorizer()), (&#x27;tfidf&#x27;, TfidfTransformer()),\n",
       "                (&#x27;clf&#x27;, MultinomialNB())])</pre><b>In a Jupyter environment, please rerun this cell to show the HTML representation or trust the notebook. <br />On GitHub, the HTML representation is unable to render, please try loading this page with nbviewer.org.</b></div><div class=\"sk-container\" hidden><div class=\"sk-item sk-dashed-wrapped\"><div class=\"sk-label-container\"><div class=\"sk-label sk-toggleable\"><input class=\"sk-toggleable__control sk-hidden--visually\" id=\"sk-estimator-id-9\" type=\"checkbox\" ><label for=\"sk-estimator-id-9\" class=\"sk-toggleable__label sk-toggleable__label-arrow\">Pipeline</label><div class=\"sk-toggleable__content\"><pre>Pipeline(steps=[(&#x27;vect&#x27;, CountVectorizer()), (&#x27;tfidf&#x27;, TfidfTransformer()),\n",
       "                (&#x27;clf&#x27;, MultinomialNB())])</pre></div></div></div><div class=\"sk-serial\"><div class=\"sk-item\"><div class=\"sk-estimator sk-toggleable\"><input class=\"sk-toggleable__control sk-hidden--visually\" id=\"sk-estimator-id-10\" type=\"checkbox\" ><label for=\"sk-estimator-id-10\" class=\"sk-toggleable__label sk-toggleable__label-arrow\">CountVectorizer</label><div class=\"sk-toggleable__content\"><pre>CountVectorizer()</pre></div></div></div><div class=\"sk-item\"><div class=\"sk-estimator sk-toggleable\"><input class=\"sk-toggleable__control sk-hidden--visually\" id=\"sk-estimator-id-11\" type=\"checkbox\" ><label for=\"sk-estimator-id-11\" class=\"sk-toggleable__label sk-toggleable__label-arrow\">TfidfTransformer</label><div class=\"sk-toggleable__content\"><pre>TfidfTransformer()</pre></div></div></div><div class=\"sk-item\"><div class=\"sk-estimator sk-toggleable\"><input class=\"sk-toggleable__control sk-hidden--visually\" id=\"sk-estimator-id-12\" type=\"checkbox\" ><label for=\"sk-estimator-id-12\" class=\"sk-toggleable__label sk-toggleable__label-arrow\">MultinomialNB</label><div class=\"sk-toggleable__content\"><pre>MultinomialNB()</pre></div></div></div></div></div></div></div>"
      ],
      "text/plain": [
       "Pipeline(steps=[('vect', CountVectorizer()), ('tfidf', TfidfTransformer()),\n",
       "                ('clf', MultinomialNB())])"
      ]
     },
     "execution_count": 149,
     "metadata": {},
     "output_type": "execute_result"
    }
   ],
   "source": [
    "nb = Pipeline([('vect', CountVectorizer()),\n",
    "               ('tfidf', TfidfTransformer()),\n",
    "               ('clf', MultinomialNB()),\n",
    "              ])\n",
    "nb.fit(X_train, y_train)"
   ]
  },
  {
   "cell_type": "code",
   "execution_count": 150,
   "id": "0ffef103",
   "metadata": {},
   "outputs": [
    {
     "data": {
      "text/plain": [
       "array(['8', '6', '7', '4'], dtype=object)"
      ]
     },
     "execution_count": 150,
     "metadata": {},
     "output_type": "execute_result"
    }
   ],
   "source": [
    "df['Score'].unique()"
   ]
  },
  {
   "cell_type": "code",
   "execution_count": 151,
   "id": "c0b03f94",
   "metadata": {
    "scrolled": false
   },
   "outputs": [
    {
     "name": "stdout",
     "output_type": "stream",
     "text": [
      "accuracy 0.6086956521739131\n",
      "              precision    recall  f1-score   support\n",
      "\n",
      "           8       0.86      1.00      0.92         6\n",
      "           6       0.00      0.00      0.00         4\n",
      "           7       0.50      1.00      0.67         8\n",
      "           4       0.00      0.00      0.00         5\n",
      "\n",
      "    accuracy                           0.61        23\n",
      "   macro avg       0.34      0.50      0.40        23\n",
      "weighted avg       0.40      0.61      0.47        23\n",
      "\n"
     ]
    },
    {
     "name": "stderr",
     "output_type": "stream",
     "text": [
      "C:\\Users\\luisz\\anaconda3\\lib\\site-packages\\sklearn\\metrics\\_classification.py:1469: UndefinedMetricWarning: Precision and F-score are ill-defined and being set to 0.0 in labels with no predicted samples. Use `zero_division` parameter to control this behavior.\n",
      "  _warn_prf(average, modifier, msg_start, len(result))\n",
      "C:\\Users\\luisz\\anaconda3\\lib\\site-packages\\sklearn\\metrics\\_classification.py:1469: UndefinedMetricWarning: Precision and F-score are ill-defined and being set to 0.0 in labels with no predicted samples. Use `zero_division` parameter to control this behavior.\n",
      "  _warn_prf(average, modifier, msg_start, len(result))\n",
      "C:\\Users\\luisz\\anaconda3\\lib\\site-packages\\sklearn\\metrics\\_classification.py:1469: UndefinedMetricWarning: Precision and F-score are ill-defined and being set to 0.0 in labels with no predicted samples. Use `zero_division` parameter to control this behavior.\n",
      "  _warn_prf(average, modifier, msg_start, len(result))\n"
     ]
    }
   ],
   "source": [
    "y_pred_nb = nb.predict(X_test)\n",
    "\n",
    "print('accuracy %s' % accuracy_score(y_pred_nb, y_test))\n",
    "print(classification_report(y_test, y_pred_nb,target_names= df['Score'].unique()))"
   ]
  },
  {
   "cell_type": "code",
   "execution_count": null,
   "id": "562692cf",
   "metadata": {},
   "outputs": [],
   "source": [
    "print(np.around(y_pred_rf,0))\n",
    "print(np.array(y_test))"
   ]
  },
  {
   "cell_type": "markdown",
   "id": "b8a386e4",
   "metadata": {},
   "source": [
    "### Linear Support Vector Machine"
   ]
  },
  {
   "cell_type": "code",
   "execution_count": 152,
   "id": "e5d6309c",
   "metadata": {},
   "outputs": [
    {
     "data": {
      "text/html": [
       "<style>#sk-container-id-4 {color: black;}#sk-container-id-4 pre{padding: 0;}#sk-container-id-4 div.sk-toggleable {background-color: white;}#sk-container-id-4 label.sk-toggleable__label {cursor: pointer;display: block;width: 100%;margin-bottom: 0;padding: 0.3em;box-sizing: border-box;text-align: center;}#sk-container-id-4 label.sk-toggleable__label-arrow:before {content: \"▸\";float: left;margin-right: 0.25em;color: #696969;}#sk-container-id-4 label.sk-toggleable__label-arrow:hover:before {color: black;}#sk-container-id-4 div.sk-estimator:hover label.sk-toggleable__label-arrow:before {color: black;}#sk-container-id-4 div.sk-toggleable__content {max-height: 0;max-width: 0;overflow: hidden;text-align: left;background-color: #f0f8ff;}#sk-container-id-4 div.sk-toggleable__content pre {margin: 0.2em;color: black;border-radius: 0.25em;background-color: #f0f8ff;}#sk-container-id-4 input.sk-toggleable__control:checked~div.sk-toggleable__content {max-height: 200px;max-width: 100%;overflow: auto;}#sk-container-id-4 input.sk-toggleable__control:checked~label.sk-toggleable__label-arrow:before {content: \"▾\";}#sk-container-id-4 div.sk-estimator input.sk-toggleable__control:checked~label.sk-toggleable__label {background-color: #d4ebff;}#sk-container-id-4 div.sk-label input.sk-toggleable__control:checked~label.sk-toggleable__label {background-color: #d4ebff;}#sk-container-id-4 input.sk-hidden--visually {border: 0;clip: rect(1px 1px 1px 1px);clip: rect(1px, 1px, 1px, 1px);height: 1px;margin: -1px;overflow: hidden;padding: 0;position: absolute;width: 1px;}#sk-container-id-4 div.sk-estimator {font-family: monospace;background-color: #f0f8ff;border: 1px dotted black;border-radius: 0.25em;box-sizing: border-box;margin-bottom: 0.5em;}#sk-container-id-4 div.sk-estimator:hover {background-color: #d4ebff;}#sk-container-id-4 div.sk-parallel-item::after {content: \"\";width: 100%;border-bottom: 1px solid gray;flex-grow: 1;}#sk-container-id-4 div.sk-label:hover label.sk-toggleable__label {background-color: #d4ebff;}#sk-container-id-4 div.sk-serial::before {content: \"\";position: absolute;border-left: 1px solid gray;box-sizing: border-box;top: 0;bottom: 0;left: 50%;z-index: 0;}#sk-container-id-4 div.sk-serial {display: flex;flex-direction: column;align-items: center;background-color: white;padding-right: 0.2em;padding-left: 0.2em;position: relative;}#sk-container-id-4 div.sk-item {position: relative;z-index: 1;}#sk-container-id-4 div.sk-parallel {display: flex;align-items: stretch;justify-content: center;background-color: white;position: relative;}#sk-container-id-4 div.sk-item::before, #sk-container-id-4 div.sk-parallel-item::before {content: \"\";position: absolute;border-left: 1px solid gray;box-sizing: border-box;top: 0;bottom: 0;left: 50%;z-index: -1;}#sk-container-id-4 div.sk-parallel-item {display: flex;flex-direction: column;z-index: 1;position: relative;background-color: white;}#sk-container-id-4 div.sk-parallel-item:first-child::after {align-self: flex-end;width: 50%;}#sk-container-id-4 div.sk-parallel-item:last-child::after {align-self: flex-start;width: 50%;}#sk-container-id-4 div.sk-parallel-item:only-child::after {width: 0;}#sk-container-id-4 div.sk-dashed-wrapped {border: 1px dashed gray;margin: 0 0.4em 0.5em 0.4em;box-sizing: border-box;padding-bottom: 0.4em;background-color: white;}#sk-container-id-4 div.sk-label label {font-family: monospace;font-weight: bold;display: inline-block;line-height: 1.2em;}#sk-container-id-4 div.sk-label-container {text-align: center;}#sk-container-id-4 div.sk-container {/* jupyter's `normalize.less` sets `[hidden] { display: none; }` but bootstrap.min.css set `[hidden] { display: none !important; }` so we also need the `!important` here to be able to override the default hidden behavior on the sphinx rendered scikit-learn.org. See: https://github.com/scikit-learn/scikit-learn/issues/21755 */display: inline-block !important;position: relative;}#sk-container-id-4 div.sk-text-repr-fallback {display: none;}</style><div id=\"sk-container-id-4\" class=\"sk-top-container\"><div class=\"sk-text-repr-fallback\"><pre>Pipeline(steps=[(&#x27;vect&#x27;, CountVectorizer()), (&#x27;tfidf&#x27;, TfidfTransformer()),\n",
       "                (&#x27;clf&#x27;,\n",
       "                 SGDClassifier(alpha=0.001, max_iter=5, random_state=42,\n",
       "                               tol=None))])</pre><b>In a Jupyter environment, please rerun this cell to show the HTML representation or trust the notebook. <br />On GitHub, the HTML representation is unable to render, please try loading this page with nbviewer.org.</b></div><div class=\"sk-container\" hidden><div class=\"sk-item sk-dashed-wrapped\"><div class=\"sk-label-container\"><div class=\"sk-label sk-toggleable\"><input class=\"sk-toggleable__control sk-hidden--visually\" id=\"sk-estimator-id-13\" type=\"checkbox\" ><label for=\"sk-estimator-id-13\" class=\"sk-toggleable__label sk-toggleable__label-arrow\">Pipeline</label><div class=\"sk-toggleable__content\"><pre>Pipeline(steps=[(&#x27;vect&#x27;, CountVectorizer()), (&#x27;tfidf&#x27;, TfidfTransformer()),\n",
       "                (&#x27;clf&#x27;,\n",
       "                 SGDClassifier(alpha=0.001, max_iter=5, random_state=42,\n",
       "                               tol=None))])</pre></div></div></div><div class=\"sk-serial\"><div class=\"sk-item\"><div class=\"sk-estimator sk-toggleable\"><input class=\"sk-toggleable__control sk-hidden--visually\" id=\"sk-estimator-id-14\" type=\"checkbox\" ><label for=\"sk-estimator-id-14\" class=\"sk-toggleable__label sk-toggleable__label-arrow\">CountVectorizer</label><div class=\"sk-toggleable__content\"><pre>CountVectorizer()</pre></div></div></div><div class=\"sk-item\"><div class=\"sk-estimator sk-toggleable\"><input class=\"sk-toggleable__control sk-hidden--visually\" id=\"sk-estimator-id-15\" type=\"checkbox\" ><label for=\"sk-estimator-id-15\" class=\"sk-toggleable__label sk-toggleable__label-arrow\">TfidfTransformer</label><div class=\"sk-toggleable__content\"><pre>TfidfTransformer()</pre></div></div></div><div class=\"sk-item\"><div class=\"sk-estimator sk-toggleable\"><input class=\"sk-toggleable__control sk-hidden--visually\" id=\"sk-estimator-id-16\" type=\"checkbox\" ><label for=\"sk-estimator-id-16\" class=\"sk-toggleable__label sk-toggleable__label-arrow\">SGDClassifier</label><div class=\"sk-toggleable__content\"><pre>SGDClassifier(alpha=0.001, max_iter=5, random_state=42, tol=None)</pre></div></div></div></div></div></div></div>"
      ],
      "text/plain": [
       "Pipeline(steps=[('vect', CountVectorizer()), ('tfidf', TfidfTransformer()),\n",
       "                ('clf',\n",
       "                 SGDClassifier(alpha=0.001, max_iter=5, random_state=42,\n",
       "                               tol=None))])"
      ]
     },
     "execution_count": 152,
     "metadata": {},
     "output_type": "execute_result"
    }
   ],
   "source": [
    "svm = Pipeline([('vect', CountVectorizer()),\n",
    "                ('tfidf', TfidfTransformer()),\n",
    "                ('clf', SGDClassifier(loss='hinge', penalty='l2',alpha=1e-3, random_state=42, max_iter=5, tol=None)),\n",
    "               ])\n",
    "svm.fit(X_train, y_train)"
   ]
  },
  {
   "cell_type": "code",
   "execution_count": 153,
   "id": "b3c11728",
   "metadata": {},
   "outputs": [
    {
     "name": "stdout",
     "output_type": "stream",
     "text": [
      "accuracy 0.9130434782608695\n",
      "              precision    recall  f1-score   support\n",
      "\n",
      "           8       0.86      1.00      0.92         6\n",
      "           6       1.00      1.00      1.00         4\n",
      "           7       0.89      1.00      0.94         8\n",
      "           4       1.00      0.60      0.75         5\n",
      "\n",
      "    accuracy                           0.91        23\n",
      "   macro avg       0.94      0.90      0.90        23\n",
      "weighted avg       0.92      0.91      0.91        23\n",
      "\n"
     ]
    }
   ],
   "source": [
    "y_pred_svm = svm.predict(X_test)\n",
    "\n",
    "print('accuracy %s' % accuracy_score(y_pred_svm, y_test))\n",
    "print(classification_report(y_test, y_pred_svm,target_names=df['Score'].unique()))"
   ]
  },
  {
   "cell_type": "code",
   "execution_count": 155,
   "id": "a1a35cd3",
   "metadata": {},
   "outputs": [
    {
     "name": "stdout",
     "output_type": "stream",
     "text": [
      "['8' '7' '6' '8' '7' '4' '6' '4' '4' '8' '4' '4' '7' '6' '4' '7' '6' '7'\n",
      " '7' '7' '4' '7' '7']\n"
     ]
    }
   ],
   "source": [
    "print(np.around(y_pred_svm,0))\n",
    "print(np.array(y_test))"
   ]
  }
 ],
 "metadata": {
  "kernelspec": {
   "display_name": "Python 3 (ipykernel)",
   "language": "python",
   "name": "python3"
  },
  "language_info": {
   "codemirror_mode": {
    "name": "ipython",
    "version": 3
   },
   "file_extension": ".py",
   "mimetype": "text/x-python",
   "name": "python",
   "nbconvert_exporter": "python",
   "pygments_lexer": "ipython3",
   "version": "3.9.7"
  }
 },
 "nbformat": 4,
 "nbformat_minor": 5
}
