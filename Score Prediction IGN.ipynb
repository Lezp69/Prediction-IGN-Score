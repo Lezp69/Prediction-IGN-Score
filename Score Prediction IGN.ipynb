{
 "cells": [
  {
   "cell_type": "code",
   "execution_count": 1,
   "id": "3b68b114",
   "metadata": {},
   "outputs": [
    {
     "name": "stderr",
     "output_type": "stream",
     "text": [
      "[nltk_data] Downloading package stopwords to\n",
      "[nltk_data]     C:\\Users\\luisz\\AppData\\Roaming\\nltk_data...\n",
      "[nltk_data]   Package stopwords is already up-to-date!\n",
      "[nltk_data] Downloading package wordnet to\n",
      "[nltk_data]     C:\\Users\\luisz\\AppData\\Roaming\\nltk_data...\n",
      "[nltk_data]   Package wordnet is already up-to-date!\n",
      "[nltk_data] Downloading package punkt to\n",
      "[nltk_data]     C:\\Users\\luisz\\AppData\\Roaming\\nltk_data...\n",
      "[nltk_data]   Package punkt is already up-to-date!\n",
      "[nltk_data] Downloading package averaged_perceptron_tagger to\n",
      "[nltk_data]     C:\\Users\\luisz\\AppData\\Roaming\\nltk_data...\n",
      "[nltk_data]   Package averaged_perceptron_tagger is already up-to-\n",
      "[nltk_data]       date!\n"
     ]
    },
    {
     "data": {
      "text/plain": [
       "True"
      ]
     },
     "execution_count": 1,
     "metadata": {},
     "output_type": "execute_result"
    }
   ],
   "source": [
    "from bs4 import BeautifulSoup\n",
    "from urllib.parse import urljoin\n",
    "import requests\n",
    "import lxml\n",
    "import webbrowser\n",
    "\n",
    "import pandas as pd\n",
    "import numpy as np\n",
    "import re\n",
    "import string\n",
    "\n",
    "from sklearn.svm import SVR\n",
    "from sklearn.ensemble import RandomForestRegressor\n",
    "from sklearn.pipeline import Pipeline\n",
    "from sklearn.model_selection import train_test_split, GridSearchCV\n",
    "from sklearn.feature_extraction.text import CountVectorizer, TfidfVectorizer, TfidfTransformer\n",
    "from sklearn.metrics import accuracy_score, confusion_matrix, mean_squared_error, r2_score, classification_report\n",
    "from sklearn.naive_bayes import MultinomialNB\n",
    "from sklearn.linear_model import SGDClassifier\n",
    "\n",
    "import gensim\n",
    "from gensim.models import Word2Vec\n",
    "\n",
    "from wordcloud import WordCloud\n",
    "from wordcloud import ImageColorGenerator\n",
    "from wordcloud import STOPWORDS\n",
    "import matplotlib.pyplot as plt\n",
    "from collections import Counter\n",
    "\n",
    "\n",
    "from textblob import TextBlob\n",
    "\n",
    "import nltk\n",
    "from nltk.corpus import stopwords\n",
    "from nltk.tag import pos_tag\n",
    "nltk.download('stopwords')\n",
    "nltk.download('wordnet')\n",
    "nltk.download('punkt')\n",
    "nltk.download('averaged_perceptron_tagger')\n"
   ]
  },
  {
   "cell_type": "markdown",
   "id": "2b60f769",
   "metadata": {},
   "source": [
    "## Recollecting the data we need"
   ]
  },
  {
   "cell_type": "markdown",
   "id": "db2a9d2a",
   "metadata": {},
   "source": [
    "### How to fetch the HTML content from the webpage?"
   ]
  },
  {
   "cell_type": "code",
   "execution_count": 2,
   "id": "d3fbe408",
   "metadata": {},
   "outputs": [],
   "source": [
    "# Define the URL of the webpage\n",
    "url = 'https://www.ign.com/reviews/movies'\n",
    "\n",
    "# Define the headers to be sent with the request (simulating a user agent to get access)\n",
    "headers = {'User-Agent': 'Mozilla/5.0 (Windows NT 10.0; Win64; x64) AppleWebKit/537.36 (KHTML, like Gecko) Chrome/58.0.3029.110 Safari/537.3'}\n",
    "\n",
    "# Make an HTTP GET request to the specified URL with the previous headers for then extract the HTML content from the response\n",
    "html_text = requests.get(url, headers=headers).text"
   ]
  },
  {
   "cell_type": "markdown",
   "id": "66a0f293",
   "metadata": {},
   "source": [
    "### How to use BeautifulSoup to parse HTML content so we can extract specific sections from a webpage?"
   ]
  },
  {
   "cell_type": "code",
   "execution_count": 3,
   "id": "ca59390a",
   "metadata": {},
   "outputs": [],
   "source": [
    "# Create a BeautifulSoup object and specify the parser (lxml is very recommended)\n",
    "soup = BeautifulSoup(html_text, 'lxml')\n",
    "\n",
    "# Find the main element through its id\n",
    "main = soup.find('main', {\"id\": 'main-content'})\n",
    "\n",
    "# Find the review sections within the 'main' element\n",
    "sections = main.section"
   ]
  },
  {
   "cell_type": "code",
   "execution_count": 4,
   "id": "8703d199",
   "metadata": {},
   "outputs": [],
   "source": [
    "# Find all <figcaption> elements which contain the score of each movie, in the HTML document\n",
    "figcaption_elements = soup.findAll('figcaption')\n",
    "\n",
    "# Iterate over each <figcaption> element and store it in an empty list\n",
    "figcaption_values = []\n",
    "for figcaption_element in figcaption_elements:\n",
    "    figcaption_value = figcaption_element.text\n",
    "    figcaption_values.append(figcaption_value)"
   ]
  },
  {
   "cell_type": "code",
   "execution_count": 5,
   "id": "244cc2b0",
   "metadata": {},
   "outputs": [
    {
     "data": {
      "text/plain": [
       "['8', '6', '6', '7', '8', '7', '6', '7', '8', '7', '7']"
      ]
     },
     "execution_count": 5,
     "metadata": {},
     "output_type": "execute_result"
    }
   ],
   "source": [
    "figcaption_values"
   ]
  },
  {
   "cell_type": "markdown",
   "id": "d72224a0",
   "metadata": {},
   "source": [
    "## How to obtain every review if each review is in its own URL?"
   ]
  },
  {
   "cell_type": "code",
   "execution_count": 6,
   "id": "738a21b8",
   "metadata": {},
   "outputs": [],
   "source": [
    "# Find all <a> elements with the class 'item-body' in the HTML document so we have access to the URLs\n",
    "review_links = soup.find_all('a', class_='item-body')\n",
    "\n",
    "# Iterate over each preview of every review so we can access to the urls\n",
    "hrefs = []\n",
    "for review_link in review_links:\n",
    "    href = review_link.get('href')\n",
    "    hrefs.append(href)"
   ]
  },
  {
   "cell_type": "code",
   "execution_count": 7,
   "id": "633fad77",
   "metadata": {},
   "outputs": [
    {
     "data": {
      "text/plain": [
       "['/articles/please-dont-destroy-the-treasure-of-foggy-mountain-review-saturday-night-live',\n",
       " '/articles/trolls-band-together-review',\n",
       " '/articles/thanksgiving-review-eli-roth',\n",
       " '/articles/godzilla-minus-one-review',\n",
       " '/articles/david-holmes-the-boy-who-lived-review-harry-potter-documentary',\n",
       " '/articles/its-a-wonderful-knife-review',\n",
       " '/articles/the-hunger-games-the-ballad-of-songbirds-and-snakes-review',\n",
       " '/articles/the-marvels-review-brie-larson-samuel-l-jackson-mcu',\n",
       " '/articles/divinity-review-bella-thorne-eddie-alcazar',\n",
       " '/articles/the-killer-review-david-fincher-michael-fassbender-netflix']"
      ]
     },
     "execution_count": 7,
     "metadata": {},
     "output_type": "execute_result"
    }
   ],
   "source": [
    "hrefs"
   ]
  },
  {
   "cell_type": "code",
   "execution_count": 8,
   "id": "faaa3679",
   "metadata": {
    "scrolled": false
   },
   "outputs": [],
   "source": [
    "base_url = 'https://www.ign.com'\n",
    "data_from_urls = []\n",
    "\n",
    "# Iterate over pairs of hrefs and figcaption_values(scores) using zip\n",
    "for href, score in zip(hrefs, figcaption_values):\n",
    "    \n",
    "    # Construct the full URL by joining the base URL with the previous hrefs\n",
    "    full_url = urljoin(base_url, href)\n",
    "    \n",
    "    response = requests.get(full_url, headers=headers)\n",
    "    html_text = response.text\n",
    "    soup = BeautifulSoup(html_text, 'lxml')\n",
    "    page_title = soup.title.text\n",
    "    paragraphs = soup.find_all('p', class_='jsx-3649800006')\n",
    "    \n",
    "    # Iterate over each <p> element and append data to the list\n",
    "    for paragraph in paragraphs:\n",
    "        \n",
    "        # Append a dictionary containing title, score, and paragraph to the list\n",
    "        data_from_urls.append({'Title': page_title, 'Score': score, 'Paragraph': paragraph.text})"
   ]
  },
  {
   "cell_type": "markdown",
   "id": "f38fdd34",
   "metadata": {},
   "source": [
    "### What if we wanted a Dataframe?"
   ]
  },
  {
   "cell_type": "code",
   "execution_count": 9,
   "id": "53ebd94e",
   "metadata": {},
   "outputs": [],
   "source": [
    "df = pd.DataFrame(data_from_urls)"
   ]
  },
  {
   "cell_type": "code",
   "execution_count": 10,
   "id": "49b4f641",
   "metadata": {},
   "outputs": [
    {
     "data": {
      "text/html": [
       "<div>\n",
       "<style scoped>\n",
       "    .dataframe tbody tr th:only-of-type {\n",
       "        vertical-align: middle;\n",
       "    }\n",
       "\n",
       "    .dataframe tbody tr th {\n",
       "        vertical-align: top;\n",
       "    }\n",
       "\n",
       "    .dataframe thead th {\n",
       "        text-align: right;\n",
       "    }\n",
       "</style>\n",
       "<table border=\"1\" class=\"dataframe\">\n",
       "  <thead>\n",
       "    <tr style=\"text-align: right;\">\n",
       "      <th></th>\n",
       "      <th>Title</th>\n",
       "      <th>Score</th>\n",
       "      <th>Paragraph</th>\n",
       "    </tr>\n",
       "  </thead>\n",
       "  <tbody>\n",
       "    <tr>\n",
       "      <th>0</th>\n",
       "      <td>Please Don’t Destroy: The Treasure of Foggy Mo...</td>\n",
       "      <td>8</td>\n",
       "      <td>Expressing cynicism about a bunch of silly fou...</td>\n",
       "    </tr>\n",
       "    <tr>\n",
       "      <th>1</th>\n",
       "      <td>Please Don’t Destroy: The Treasure of Foggy Mo...</td>\n",
       "      <td>8</td>\n",
       "      <td>Despite their jokes about being clueless loser...</td>\n",
       "    </tr>\n",
       "    <tr>\n",
       "      <th>2</th>\n",
       "      <td>Please Don’t Destroy: The Treasure of Foggy Mo...</td>\n",
       "      <td>8</td>\n",
       "      <td>Or, given Foggy Mountain’s canceled theatrical...</td>\n",
       "    </tr>\n",
       "    <tr>\n",
       "      <th>3</th>\n",
       "      <td>Please Don’t Destroy: The Treasure of Foggy Mo...</td>\n",
       "      <td>8</td>\n",
       "      <td>The three guys are roommates and work together...</td>\n",
       "    </tr>\n",
       "    <tr>\n",
       "      <th>4</th>\n",
       "      <td>Please Don’t Destroy: The Treasure of Foggy Mo...</td>\n",
       "      <td>8</td>\n",
       "      <td>In theory, this is a fine clothesline on which...</td>\n",
       "    </tr>\n",
       "  </tbody>\n",
       "</table>\n",
       "</div>"
      ],
      "text/plain": [
       "                                               Title Score  \\\n",
       "0  Please Don’t Destroy: The Treasure of Foggy Mo...     8   \n",
       "1  Please Don’t Destroy: The Treasure of Foggy Mo...     8   \n",
       "2  Please Don’t Destroy: The Treasure of Foggy Mo...     8   \n",
       "3  Please Don’t Destroy: The Treasure of Foggy Mo...     8   \n",
       "4  Please Don’t Destroy: The Treasure of Foggy Mo...     8   \n",
       "\n",
       "                                           Paragraph  \n",
       "0  Expressing cynicism about a bunch of silly fou...  \n",
       "1  Despite their jokes about being clueless loser...  \n",
       "2  Or, given Foggy Mountain’s canceled theatrical...  \n",
       "3  The three guys are roommates and work together...  \n",
       "4  In theory, this is a fine clothesline on which...  "
      ]
     },
     "execution_count": 10,
     "metadata": {},
     "output_type": "execute_result"
    }
   ],
   "source": [
    "df.head()"
   ]
  },
  {
   "cell_type": "markdown",
   "id": "c8072032",
   "metadata": {},
   "source": [
    "### Do we have empty paragraphs?"
   ]
  },
  {
   "cell_type": "code",
   "execution_count": 11,
   "id": "9c84cc52",
   "metadata": {},
   "outputs": [
    {
     "data": {
      "text/html": [
       "<div>\n",
       "<style scoped>\n",
       "    .dataframe tbody tr th:only-of-type {\n",
       "        vertical-align: middle;\n",
       "    }\n",
       "\n",
       "    .dataframe tbody tr th {\n",
       "        vertical-align: top;\n",
       "    }\n",
       "\n",
       "    .dataframe thead th {\n",
       "        text-align: right;\n",
       "    }\n",
       "</style>\n",
       "<table border=\"1\" class=\"dataframe\">\n",
       "  <thead>\n",
       "    <tr style=\"text-align: right;\">\n",
       "      <th></th>\n",
       "      <th>Title</th>\n",
       "      <th>Score</th>\n",
       "      <th>Paragraph</th>\n",
       "    </tr>\n",
       "  </thead>\n",
       "  <tbody>\n",
       "  </tbody>\n",
       "</table>\n",
       "</div>"
      ],
      "text/plain": [
       "Empty DataFrame\n",
       "Columns: [Title, Score, Paragraph]\n",
       "Index: []"
      ]
     },
     "execution_count": 11,
     "metadata": {},
     "output_type": "execute_result"
    }
   ],
   "source": [
    "df[df['Paragraph']=='']"
   ]
  },
  {
   "cell_type": "markdown",
   "id": "20ea4907",
   "metadata": {},
   "source": [
    "#### What if we had?"
   ]
  },
  {
   "cell_type": "code",
   "execution_count": 12,
   "id": "c8c001fd",
   "metadata": {},
   "outputs": [],
   "source": [
    "df.replace(' ', np.nan, inplace=True)"
   ]
  },
  {
   "cell_type": "code",
   "execution_count": 13,
   "id": "93c8f35f",
   "metadata": {},
   "outputs": [],
   "source": [
    "df.dropna(subset=['Paragraph'], inplace=True)"
   ]
  },
  {
   "cell_type": "markdown",
   "id": "a482b84c",
   "metadata": {},
   "source": [
    "## How can we clean our data in order to make predicions?"
   ]
  },
  {
   "cell_type": "markdown",
   "id": "db93edc0",
   "metadata": {},
   "source": [
    "### Converting it to lowercase, removing numbers and non-alphanumeric characters, and tokenizing it using NLTK"
   ]
  },
  {
   "cell_type": "code",
   "execution_count": 14,
   "id": "bae96bfa",
   "metadata": {},
   "outputs": [],
   "source": [
    "def preprocess_text(text):\n",
    "    \n",
    "    # Convert the text to lowercase\n",
    "    text = text.lower()\n",
    "    \n",
    "    # Remove numbers from the text\n",
    "    text = re.sub(r'\\d+', '', text)\n",
    "    \n",
    "    # Remove non-alphanumeric characters from the text\n",
    "    text = re.sub(r'[^\\w\\s]', '', text)\n",
    "    \n",
    "    # Tokenize the text using NLTK\n",
    "    tokens = nltk.word_tokenize(text)\n",
    "    \n",
    "    return tokens"
   ]
  },
  {
   "cell_type": "markdown",
   "id": "dd7c8f3c",
   "metadata": {},
   "source": [
    "### Remove English stop words from a list of tokens using NLTK"
   ]
  },
  {
   "cell_type": "code",
   "execution_count": 15,
   "id": "36f63fc5",
   "metadata": {},
   "outputs": [],
   "source": [
    "def remove_stopWords(tokens):\n",
    "    \n",
    "    # Get the set(list) of English stop words from NLTK\n",
    "    stopWords = set(stopwords.words('english'))\n",
    "    \n",
    "    # Filter out stop words from the list of tokens\n",
    "    filtered_tokens = [words for words in tokens if words not in stopWords]\n",
    "    \n",
    "    return filtered_tokens"
   ]
  },
  {
   "cell_type": "markdown",
   "id": "0d5ed989",
   "metadata": {},
   "source": [
    "### Perform lemmatization on a list of tokens using the WordNet lemmatizer"
   ]
  },
  {
   "cell_type": "code",
   "execution_count": 16,
   "id": "85198a50",
   "metadata": {},
   "outputs": [],
   "source": [
    "def lemmatization(tokens):\n",
    "    \n",
    "    # Create a WordNet lemmatizer object\n",
    "    lemmatizer = nltk.WordNetLemmatizer()\n",
    "    \n",
    "    # Lemmatize each token in the list\n",
    "    lemmatized_tokens = [lemmatizer.lemmatize(token) for token in tokens]\n",
    "    \n",
    "    return lemmatized_tokens"
   ]
  },
  {
   "cell_type": "markdown",
   "id": "e592ee34",
   "metadata": {},
   "source": [
    "### Remove proper nouns"
   ]
  },
  {
   "cell_type": "code",
   "execution_count": 17,
   "id": "a3f1e5ca",
   "metadata": {},
   "outputs": [],
   "source": [
    "def remove_proper_names(tokens):\n",
    "    \n",
    "    # Perform part-of-speech tagging on the list of tokens\n",
    "    tagged_tokens = pos_tag(tokens)\n",
    "    \n",
    "    # Filter out tokens that are identified as proper nouns\n",
    "    filtered_tokens = [token[0] for token in tagged_tokens if token[1] != 'NNP']\n",
    "    return filtered_tokens"
   ]
  },
  {
   "cell_type": "markdown",
   "id": "f372d431",
   "metadata": {},
   "source": [
    "## Integrate all the previous functions"
   ]
  },
  {
   "cell_type": "code",
   "execution_count": 18,
   "id": "068085b9",
   "metadata": {},
   "outputs": [],
   "source": [
    "def clean_text(text):\n",
    "    tokens = preprocess_text(text)\n",
    "    filtered_tokens = remove_stopWords(tokens)\n",
    "    lemmatization_tokens = lemmatization(filtered_tokens)\n",
    "    non_proper_name_tokens = remove_proper_names(filtered_tokens)\n",
    "    clean_text = ' '.join(non_proper_name_tokens)\n",
    "    return clean_text"
   ]
  },
  {
   "cell_type": "code",
   "execution_count": 19,
   "id": "bb9219d2",
   "metadata": {},
   "outputs": [],
   "source": [
    "df['cleaned_Paragraph'] = df['Paragraph'].apply(clean_text)"
   ]
  },
  {
   "cell_type": "code",
   "execution_count": 20,
   "id": "87a2c7e3",
   "metadata": {
    "scrolled": true
   },
   "outputs": [
    {
     "data": {
      "text/html": [
       "<div>\n",
       "<style scoped>\n",
       "    .dataframe tbody tr th:only-of-type {\n",
       "        vertical-align: middle;\n",
       "    }\n",
       "\n",
       "    .dataframe tbody tr th {\n",
       "        vertical-align: top;\n",
       "    }\n",
       "\n",
       "    .dataframe thead th {\n",
       "        text-align: right;\n",
       "    }\n",
       "</style>\n",
       "<table border=\"1\" class=\"dataframe\">\n",
       "  <thead>\n",
       "    <tr style=\"text-align: right;\">\n",
       "      <th></th>\n",
       "      <th>Title</th>\n",
       "      <th>Score</th>\n",
       "      <th>Paragraph</th>\n",
       "      <th>cleaned_Paragraph</th>\n",
       "    </tr>\n",
       "  </thead>\n",
       "  <tbody>\n",
       "    <tr>\n",
       "      <th>0</th>\n",
       "      <td>Please Don’t Destroy: The Treasure of Foggy Mo...</td>\n",
       "      <td>8</td>\n",
       "      <td>Expressing cynicism about a bunch of silly fou...</td>\n",
       "      <td>expressing cynicism bunch silly fourminute vid...</td>\n",
       "    </tr>\n",
       "    <tr>\n",
       "      <th>1</th>\n",
       "      <td>Please Don’t Destroy: The Treasure of Foggy Mo...</td>\n",
       "      <td>8</td>\n",
       "      <td>Despite their jokes about being clueless loser...</td>\n",
       "      <td>despite jokes clueless losers pdd lacks strong...</td>\n",
       "    </tr>\n",
       "    <tr>\n",
       "      <th>2</th>\n",
       "      <td>Please Don’t Destroy: The Treasure of Foggy Mo...</td>\n",
       "      <td>8</td>\n",
       "      <td>Or, given Foggy Mountain’s canceled theatrical...</td>\n",
       "      <td>given foggy mountains canceled theatrical run ...</td>\n",
       "    </tr>\n",
       "    <tr>\n",
       "      <th>3</th>\n",
       "      <td>Please Don’t Destroy: The Treasure of Foggy Mo...</td>\n",
       "      <td>8</td>\n",
       "      <td>The three guys are roommates and work together...</td>\n",
       "      <td>three guys roommates work together outdoorsupp...</td>\n",
       "    </tr>\n",
       "    <tr>\n",
       "      <th>4</th>\n",
       "      <td>Please Don’t Destroy: The Treasure of Foggy Mo...</td>\n",
       "      <td>8</td>\n",
       "      <td>In theory, this is a fine clothesline on which...</td>\n",
       "      <td>theory fine clothesline hang various comic seq...</td>\n",
       "    </tr>\n",
       "  </tbody>\n",
       "</table>\n",
       "</div>"
      ],
      "text/plain": [
       "                                               Title Score  \\\n",
       "0  Please Don’t Destroy: The Treasure of Foggy Mo...     8   \n",
       "1  Please Don’t Destroy: The Treasure of Foggy Mo...     8   \n",
       "2  Please Don’t Destroy: The Treasure of Foggy Mo...     8   \n",
       "3  Please Don’t Destroy: The Treasure of Foggy Mo...     8   \n",
       "4  Please Don’t Destroy: The Treasure of Foggy Mo...     8   \n",
       "\n",
       "                                           Paragraph  \\\n",
       "0  Expressing cynicism about a bunch of silly fou...   \n",
       "1  Despite their jokes about being clueless loser...   \n",
       "2  Or, given Foggy Mountain’s canceled theatrical...   \n",
       "3  The three guys are roommates and work together...   \n",
       "4  In theory, this is a fine clothesline on which...   \n",
       "\n",
       "                                   cleaned_Paragraph  \n",
       "0  expressing cynicism bunch silly fourminute vid...  \n",
       "1  despite jokes clueless losers pdd lacks strong...  \n",
       "2  given foggy mountains canceled theatrical run ...  \n",
       "3  three guys roommates work together outdoorsupp...  \n",
       "4  theory fine clothesline hang various comic seq...  "
      ]
     },
     "execution_count": 20,
     "metadata": {},
     "output_type": "execute_result"
    }
   ],
   "source": [
    "df.head()"
   ]
  },
  {
   "cell_type": "code",
   "execution_count": 21,
   "id": "5ed7a8a5",
   "metadata": {},
   "outputs": [],
   "source": [
    "del df['Paragraph']"
   ]
  },
  {
   "cell_type": "markdown",
   "id": "1c579770",
   "metadata": {},
   "source": [
    "### Can we remove specific words, single-character words, and words with only consonants?"
   ]
  },
  {
   "cell_type": "code",
   "execution_count": 22,
   "id": "6aaafdd8",
   "metadata": {},
   "outputs": [],
   "source": [
    "words_to_remove = ['just', 'thats']"
   ]
  },
  {
   "cell_type": "code",
   "execution_count": 23,
   "id": "9ae145e4",
   "metadata": {},
   "outputs": [],
   "source": [
    "def remove_words(text):\n",
    "    \n",
    "    # Iterate over words_to_remove and replace each occurrence with an empty string\n",
    "    for word in words_to_remove:\n",
    "        text = text.replace(word, '')\n",
    "    return text\n",
    "\n",
    "df['cleaned_Paragraph'] = df['cleaned_Paragraph'].apply(remove_words)\n",
    "\n",
    "def remove_single_character_words(text):\n",
    "    \n",
    "    # Split the text into words and filter out words with length <= 1\n",
    "    return ' '.join(word for word in text.split() if len(word) > 1)\n",
    "\n",
    "df['cleaned_Paragraph'] = df['cleaned_Paragraph'].apply(remove_single_character_words)"
   ]
  },
  {
   "cell_type": "code",
   "execution_count": 24,
   "id": "c63ff197",
   "metadata": {},
   "outputs": [],
   "source": [
    "def delete_consonant_words(paragraph):\n",
    "    \n",
    "    # Define a regular expression pattern to match words with only consonants\n",
    "    consonant_pattern = re.compile('^[^aeiou]+$')\n",
    "    \n",
    "    # Split the paragraph into words\n",
    "    words = paragraph.split()\n",
    "    \n",
    "    # Filter out words that match the consonant pattern\n",
    "    filtered_words = [word for word in words if not consonant_pattern.match(word)]\n",
    "    \n",
    "    # Join the filtered words back into a paragraph\n",
    "    return ' '.join(filtered_words)\n",
    "\n",
    "for paragraph in df['cleaned_Paragraph']:\n",
    "    filtered_paragraph = delete_consonant_words(paragraph)"
   ]
  },
  {
   "cell_type": "code",
   "execution_count": 25,
   "id": "0ba50217",
   "metadata": {},
   "outputs": [
    {
     "data": {
      "text/html": [
       "<div>\n",
       "<style scoped>\n",
       "    .dataframe tbody tr th:only-of-type {\n",
       "        vertical-align: middle;\n",
       "    }\n",
       "\n",
       "    .dataframe tbody tr th {\n",
       "        vertical-align: top;\n",
       "    }\n",
       "\n",
       "    .dataframe thead th {\n",
       "        text-align: right;\n",
       "    }\n",
       "</style>\n",
       "<table border=\"1\" class=\"dataframe\">\n",
       "  <thead>\n",
       "    <tr style=\"text-align: right;\">\n",
       "      <th></th>\n",
       "      <th>Title</th>\n",
       "      <th>Score</th>\n",
       "      <th>cleaned_Paragraph</th>\n",
       "    </tr>\n",
       "  </thead>\n",
       "  <tbody>\n",
       "    <tr>\n",
       "      <th>0</th>\n",
       "      <td>Please Don’t Destroy: The Treasure of Foggy Mo...</td>\n",
       "      <td>8</td>\n",
       "      <td>expressing cynicism bunch silly fourminute vid...</td>\n",
       "    </tr>\n",
       "    <tr>\n",
       "      <th>1</th>\n",
       "      <td>Please Don’t Destroy: The Treasure of Foggy Mo...</td>\n",
       "      <td>8</td>\n",
       "      <td>despite jokes clueless losers pdd lacks strong...</td>\n",
       "    </tr>\n",
       "    <tr>\n",
       "      <th>2</th>\n",
       "      <td>Please Don’t Destroy: The Treasure of Foggy Mo...</td>\n",
       "      <td>8</td>\n",
       "      <td>given foggy mountains canceled theatrical run ...</td>\n",
       "    </tr>\n",
       "    <tr>\n",
       "      <th>3</th>\n",
       "      <td>Please Don’t Destroy: The Treasure of Foggy Mo...</td>\n",
       "      <td>8</td>\n",
       "      <td>three guys roommates work together outdoorsupp...</td>\n",
       "    </tr>\n",
       "    <tr>\n",
       "      <th>4</th>\n",
       "      <td>Please Don’t Destroy: The Treasure of Foggy Mo...</td>\n",
       "      <td>8</td>\n",
       "      <td>theory fine clothesline hang various comic seq...</td>\n",
       "    </tr>\n",
       "  </tbody>\n",
       "</table>\n",
       "</div>"
      ],
      "text/plain": [
       "                                               Title Score  \\\n",
       "0  Please Don’t Destroy: The Treasure of Foggy Mo...     8   \n",
       "1  Please Don’t Destroy: The Treasure of Foggy Mo...     8   \n",
       "2  Please Don’t Destroy: The Treasure of Foggy Mo...     8   \n",
       "3  Please Don’t Destroy: The Treasure of Foggy Mo...     8   \n",
       "4  Please Don’t Destroy: The Treasure of Foggy Mo...     8   \n",
       "\n",
       "                                   cleaned_Paragraph  \n",
       "0  expressing cynicism bunch silly fourminute vid...  \n",
       "1  despite jokes clueless losers pdd lacks strong...  \n",
       "2  given foggy mountains canceled theatrical run ...  \n",
       "3  three guys roommates work together outdoorsupp...  \n",
       "4  theory fine clothesline hang various comic seq...  "
      ]
     },
     "execution_count": 25,
     "metadata": {},
     "output_type": "execute_result"
    }
   ],
   "source": [
    "df.head()"
   ]
  },
  {
   "cell_type": "markdown",
   "id": "ce8d7479",
   "metadata": {},
   "source": [
    "# Analyzing the Data"
   ]
  },
  {
   "cell_type": "markdown",
   "id": "e9f8db15",
   "metadata": {},
   "source": [
    "### Worst Reviews & Best Reviews"
   ]
  },
  {
   "cell_type": "code",
   "execution_count": 27,
   "id": "6bc786e0",
   "metadata": {},
   "outputs": [
    {
     "name": "stdout",
     "output_type": "stream",
     "text": [
      "Worst reviews: \n",
      "Title\n",
      "Thanksgiving Review - IGN                                            6\n",
      "The Hunger Games: The Ballad of Songbirds and Snakes Review - IGN    6\n",
      "Trolls Band Together Review - IGN                                    6\n",
      "Name: Score, dtype: object\n",
      "\n",
      "Best reviews: \n",
      "Title\n",
      "David Holmes: The Boy Who Lived Review - IGN                         8\n",
      "Divinity Review - IGN                                                8\n",
      "Please Don’t Destroy: The Treasure of Foggy Mountain Review - IGN    8\n",
      "Name: Score, dtype: object\n"
     ]
    }
   ],
   "source": [
    "print(f'Worst reviews: \\n{df.groupby(\"Title\")[\"Score\"].max().sort_values().head(3)}')\n",
    "print()\n",
    "print(f'Best reviews: \\n{df.groupby(\"Title\")[\"Score\"].max().sort_values(ascending=False).head(3)}')\n"
   ]
  },
  {
   "cell_type": "markdown",
   "id": "c41db7c3",
   "metadata": {},
   "source": [
    "## Word Cloud"
   ]
  },
  {
   "cell_type": "markdown",
   "id": "49be9416",
   "metadata": {},
   "source": [
    "### How can I generate a word cloud to visualize the frequency of words ?"
   ]
  },
  {
   "cell_type": "code",
   "execution_count": 28,
   "id": "ee8214f2",
   "metadata": {},
   "outputs": [],
   "source": [
    "# Combine the cleaned paragraphs into a single text string\n",
    "text = \" \".join(i for i in df.cleaned_Paragraph)\n",
    "stopwords = set(STOPWORDS)\n",
    "\n",
    "# Generate Word Cloud\n",
    "wordcloud = WordCloud(stopwords=stopwords, background_color=\"white\").generate(text)"
   ]
  },
  {
   "cell_type": "code",
   "execution_count": 29,
   "id": "e7162528",
   "metadata": {},
   "outputs": [
    {
     "data": {
      "image/png": "[encoded data removed]",
      "text/plain": [
       "<Figure size 1080x360 with 1 Axes>"
      ]
     },
     "metadata": {
      "needs_background": "light"
     },
     "output_type": "display_data"
    }
   ],
   "source": [
    "# Set the figure size\n",
    "plt.figure( figsize=(15,5))\n",
    "\n",
    "# Display the WordCloud\n",
    "plt.imshow(wordcloud, interpolation='bilinear')\n",
    "\n",
    "# Turn off axis\n",
    "plt.axis(\"off\")\n",
    "plt.show()"
   ]
  },
  {
   "cell_type": "markdown",
   "id": "5c00b2ea",
   "metadata": {},
   "source": [
    "## Sentiment Analysis"
   ]
  },
  {
   "cell_type": "code",
   "execution_count": null,
   "id": "76765678",
   "metadata": {},
   "outputs": [],
   "source": [
    "for paragraph in df['cleaned_Paragraph']:\n",
    "    preprocessed_paragraph = TextBlob(paragraph).lower().strip()\n",
    "\n",
    "    sentiment = preprocessed_paragraph.sentiment\n",
    "\n",
    "    polarity = sentiment.polarity\n",
    "    subjectivity = sentiment.subjectivity\n",
    "\n",
    "    if polarity > 0:\n",
    "        sentiment_label = \"Positive\"\n",
    "    elif polarity < 0:\n",
    "        sentiment_label = \"Negative\"\n",
    "    else:\n",
    "        sentiment_label = \"Neutral\"\n",
    "\n",
    "    print(f\"Paragraph: {paragraph}\\nSentiment: {sentiment_label}\")"
   ]
  },
  {
   "cell_type": "code",
   "execution_count": null,
   "id": "02fb19fd",
   "metadata": {},
   "outputs": [],
   "source": [
    "sentiment_labels = []\n",
    "for paragraph in df['cleaned_Paragraph']:\n",
    "    preprocessed_paragraph = TextBlob(paragraph).lower().strip()\n",
    "    sentiment = preprocessed_paragraph.sentiment\n",
    "    polarity = sentiment.polarity\n",
    "\n",
    "    if polarity > 0:\n",
    "        sentiment_label = \"Positive\"\n",
    "    elif polarity < 0:\n",
    "        sentiment_label = \"Negative\"\n",
    "    else:\n",
    "        sentiment_label = \"Neutral\"\n",
    "\n",
    "    sentiment_labels.append(sentiment_label)\n"
   ]
  },
  {
   "cell_type": "code",
   "execution_count": null,
   "id": "db5df3be",
   "metadata": {},
   "outputs": [],
   "source": [
    "sentiment_colors = {\n",
    "    \"Positive\": \"green\",\n",
    "    \"Negative\": \"red\",\n",
    "    \"Neutral\": \"yellow\"\n",
    "}\n",
    "\n",
    "label_counts = Counter(sentiment_labels)\n",
    "labels, heights = zip(*label_counts.items())"
   ]
  },
  {
   "cell_type": "code",
   "execution_count": null,
   "id": "544d06c3",
   "metadata": {
    "scrolled": true
   },
   "outputs": [],
   "source": [
    "bars = plt.bar(labels, height=heights, edgecolor='black', linewidth=1.2)\n",
    "\n",
    "for bar, color in zip(bars, [sentiment_colors[label] for label in labels]):\n",
    "    bar.set_facecolor(color)\n",
    "\n",
    "plt.xlabel(\"Sentiments\")\n",
    "plt.ylabel(\"Frequency\")\n",
    "plt.title(\"Bar Chart of Sentiment\")\n",
    "\n",
    "# Show the plot\n",
    "plt.show()"
   ]
  },
  {
   "cell_type": "markdown",
   "id": "31b714f0",
   "metadata": {},
   "source": [
    "# Testing Models"
   ]
  },
  {
   "cell_type": "code",
   "execution_count": null,
   "id": "256d3b11",
   "metadata": {},
   "outputs": [],
   "source": [
    "X = df['cleaned_Paragraph']\n",
    "y = df['Score']\n",
    "\n",
    "# Split the data into training and testing sets\n",
    "X_train, X_test, y_train, y_test = train_test_split(X, y, test_size=0.3, random_state=42)\n",
    "\n",
    "# Convert text data to TF-IDF features\n",
    "tfidf_vectorizer = TfidfVectorizer()\n",
    "X_train_tfidf = tfidf_vectorizer.fit_transform(X_train)\n",
    "X_test_tfidf = tfidf_vectorizer.transform(X_test)\n"
   ]
  },
  {
   "cell_type": "markdown",
   "id": "221e2133",
   "metadata": {},
   "source": [
    "### Support Vector Regression"
   ]
  },
  {
   "cell_type": "code",
   "execution_count": null,
   "id": "eb4b94e1",
   "metadata": {},
   "outputs": [],
   "source": [
    "sv_model = SVR(kernel='linear')  # There are many different kernels like 'linear', 'rbf', etc.\n",
    "\n",
    "# Train the model\n",
    "sv_model.fit(X_train_tfidf, y_train)\n",
    "\n",
    "# Predict on the test set\n",
    "y_pred_sv = sv_model.predict(X_test_tfidf)\n",
    "\n",
    "#IGN Scores are Integers\n",
    "y_pred_sv = np.around(y_pred_sv,0)\n",
    "\n",
    "# Evaluate the model\n",
    "mse = mean_squared_error(y_test, y_pred_sv)\n",
    "r_squared = r2_score(y_test, y_pred_sv)\n",
    "\n",
    "print(f'Mean Squared Error: {mse}')\n",
    "print(f'R-squared: {r_squared}')"
   ]
  },
  {
   "cell_type": "code",
   "execution_count": null,
   "id": "705d4b18",
   "metadata": {
    "scrolled": false
   },
   "outputs": [],
   "source": [
    "print(y_pred_sv)\n",
    "print(np.array(y_test))"
   ]
  },
  {
   "cell_type": "markdown",
   "id": "606a1200",
   "metadata": {},
   "source": [
    "### Random Forest"
   ]
  },
  {
   "cell_type": "code",
   "execution_count": null,
   "id": "8815e79e",
   "metadata": {},
   "outputs": [],
   "source": [
    "rf_model = RandomForestRegressor(n_estimators=150, random_state=42, max_depth=10)\n",
    "\n",
    "# Train the model\n",
    "rf_model.fit(X_train_tfidf, y_train)\n",
    "\n",
    "# Predict on the test set\n",
    "y_pred_rf = rf_model.predict(X_test_tfidf)\n",
    "\n",
    "#IGN Scores are Integers\n",
    "y_pred_sv = np.around(y_pred_rf,0)\n",
    "\n",
    "# Evaluate the model\n",
    "mse_rf = mean_squared_error(y_test, y_pred_rf)\n",
    "r_squared_rf = r2_score(y_test, y_pred_rf)\n",
    "\n",
    "print(f'Mean Squared Error (Random Forest): {mse_rf}')\n",
    "print(f'R-squared (Random Forest): {r_squared_rf}')"
   ]
  },
  {
   "cell_type": "code",
   "execution_count": null,
   "id": "fd91dce8",
   "metadata": {},
   "outputs": [],
   "source": [
    "print(np.around(y_pred_rf,0))\n",
    "print(np.array(y_test))"
   ]
  },
  {
   "cell_type": "markdown",
   "id": "fa44faba",
   "metadata": {},
   "source": [
    "## Grid Searches"
   ]
  },
  {
   "cell_type": "markdown",
   "id": "890aae1b",
   "metadata": {},
   "source": [
    "### SVR"
   ]
  },
  {
   "cell_type": "code",
   "execution_count": null,
   "id": "8fe62980",
   "metadata": {},
   "outputs": [],
   "source": [
    "# Define the parameter grid for SVR\n",
    "svr_param_grid = {'C': [0.1, 1, 10],\n",
    "                  'kernel': ['linear', 'rbf', 'poly'],\n",
    "                  'gamma': ['scale', 'auto']}\n",
    "\n",
    "# Create the SVR model\n",
    "svr_model = SVR()\n",
    "\n",
    "# Create GridSearchCV for SVR\n",
    "svr_grid_search = GridSearchCV(svr_model, svr_param_grid, cv=5, scoring='neg_mean_squared_error')\n",
    "svr_grid_search.fit(X_train_tfidf, y_train)\n",
    "\n",
    "# Get the best parameters and model\n",
    "best_svr_params = svr_grid_search.best_params_\n",
    "best_svr_model = svr_grid_search.best_estimator_\n",
    "\n",
    "# Predict on the test set\n",
    "y_pred_svr = best_svr_model.predict(X_test_tfidf)\n",
    "\n",
    "# Evaluate the model\n",
    "mse_svr = mean_squared_error(y_test, y_pred_svr)\n",
    "r_squared_svr = r2_score(y_test, y_pred_svr)\n",
    "\n",
    "print(\"Best parameters for SVM:\", best_svr_params)\n",
    "print(f'Mean Squared Error (SVM): {mse_svr}')\n",
    "print(f'R-squared (SVM): {r_squared_svr}')\n"
   ]
  },
  {
   "cell_type": "markdown",
   "id": "257613ba",
   "metadata": {},
   "source": [
    "### Random Forest"
   ]
  },
  {
   "cell_type": "code",
   "execution_count": null,
   "id": "abf550b8",
   "metadata": {},
   "outputs": [],
   "source": [
    "# Define the parameter grid for Random Forest\n",
    "rf_param_grid = {'n_estimators': [50, 100, 150],\n",
    "                 'max_depth': [None, 10, 20, 30],\n",
    "                 'min_samples_split': [2, 5, 10],\n",
    "                 'min_samples_leaf': [1, 2, 4]}\n",
    "\n",
    "# Create the Random Forest model\n",
    "rf_model = RandomForestRegressor(random_state=42)\n",
    "\n",
    "# Create GridSearchCV for Random Forest\n",
    "rf_grid_search = GridSearchCV(rf_model, rf_param_grid, cv=5, scoring='neg_mean_squared_error')\n",
    "rf_grid_search.fit(X_train_tfidf, y_train)\n",
    "\n",
    "# Get the best parameters and model\n",
    "best_rf_params = rf_grid_search.best_params_\n",
    "best_rf_model = rf_grid_search.best_estimator_\n",
    "\n",
    "# Predict on the test set\n",
    "y_pred_rf_gs = best_rf_model.predict(X_test_tfidf)\n",
    "\n",
    "# Evaluate the model\n",
    "mse_rf_gs = mean_squared_error(y_test, y_pred_rf_gs)\n",
    "r_squared_rf_gs = r2_score(y_test, y_pred_rf_gs)\n",
    "\n",
    "print(\"Best parameters for Random Forest:\", best_rf_params)\n",
    "print(f'Mean Squared Error (Random Forest): {mse_rf_gs}')\n",
    "print(f'R-squared (Random Forest): {r_squared_rf_gs}')\n"
   ]
  },
  {
   "cell_type": "markdown",
   "id": "d569361e",
   "metadata": {},
   "source": [
    "## Pipelines"
   ]
  },
  {
   "cell_type": "markdown",
   "id": "1d22ada9",
   "metadata": {},
   "source": [
    "### Naive Bayes"
   ]
  },
  {
   "cell_type": "code",
   "execution_count": null,
   "id": "b81ca466",
   "metadata": {},
   "outputs": [],
   "source": [
    "nb = Pipeline([('vect', CountVectorizer()),\n",
    "               ('tfidf', TfidfTransformer()),\n",
    "               ('clf', MultinomialNB()),\n",
    "              ])\n",
    "nb.fit(X_train, y_train)"
   ]
  },
  {
   "cell_type": "code",
   "execution_count": null,
   "id": "3055b144",
   "metadata": {},
   "outputs": [],
   "source": [
    "df['Score'].unique()"
   ]
  },
  {
   "cell_type": "code",
   "execution_count": null,
   "id": "616cde0c",
   "metadata": {
    "scrolled": false
   },
   "outputs": [],
   "source": [
    "y_pred_nb = nb.predict(X_test)\n",
    "\n",
    "print('accuracy %s' % accuracy_score(y_pred_nb, y_test))\n",
    "print(classification_report(y_test, y_pred_nb,target_names= df['Score'].unique()))"
   ]
  },
  {
   "cell_type": "code",
   "execution_count": null,
   "id": "e845e990",
   "metadata": {},
   "outputs": [],
   "source": [
    "print(np.around(y_pred_rf,0))\n",
    "print(np.array(y_test))"
   ]
  },
  {
   "cell_type": "markdown",
   "id": "c1344082",
   "metadata": {},
   "source": [
    "### Linear Support Vector Machine"
   ]
  },
  {
   "cell_type": "code",
   "execution_count": null,
   "id": "a74adf32",
   "metadata": {},
   "outputs": [],
   "source": [
    "svm = Pipeline([('vect', CountVectorizer()),\n",
    "                ('tfidf', TfidfTransformer()),\n",
    "                ('clf', SGDClassifier(loss='hinge', penalty='l2',alpha=1e-3, random_state=42, max_iter=5, tol=None)),\n",
    "               ])\n",
    "svm.fit(X_train, y_train)"
   ]
  },
  {
   "cell_type": "code",
   "execution_count": null,
   "id": "e18e425d",
   "metadata": {},
   "outputs": [],
   "source": [
    "y_pred_svm = svm.predict(X_test)\n",
    "\n",
    "print('accuracy %s' % accuracy_score(y_pred_svm, y_test))\n",
    "print(classification_report(y_test, y_pred_svm,target_names=df['Score'].unique()))"
   ]
  },
  {
   "cell_type": "code",
   "execution_count": null,
   "id": "bec163e3",
   "metadata": {},
   "outputs": [],
   "source": [
    "print(y_pred_svm)\n",
    "print(np.array(y_test))"
   ]
  },
  {
   "cell_type": "code",
   "execution_count": null,
   "id": "263ac43e",
   "metadata": {},
   "outputs": [],
   "source": []
  },
  {
   "cell_type": "code",
   "execution_count": null,
   "id": "6277cb79",
   "metadata": {},
   "outputs": [],
   "source": []
  }
 ],
 "metadata": {
  "kernelspec": {
   "display_name": "Python 3 (ipykernel)",
   "language": "python",
   "name": "python3"
  },
  "language_info": {
   "codemirror_mode": {
    "name": "ipython",
    "version": 3
   },
   "file_extension": ".py",
   "mimetype": "text/x-python",
   "name": "python",
   "nbconvert_exporter": "python",
   "pygments_lexer": "ipython3",
   "version": "3.9.7"
  }
 },
 "nbformat": 4,
 "nbformat_minor": 5
}
